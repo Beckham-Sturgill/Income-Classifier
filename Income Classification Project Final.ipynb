{
 "cells": [
  {
   "cell_type": "code",
   "execution_count": 34,
   "metadata": {},
   "outputs": [],
   "source": [
    "import statsmodels.api as sm\n",
    "from sklearn import datasets, model_selection, metrics\n",
    "from sklearn import ensemble, linear_model, svm, tree, neighbors, naive_bayes\n",
    "import numpy as np\n",
    "import pandas as pd\n",
    "import matplotlib.pyplot as plt\n",
    "import seaborn as sns\n",
    "\n"
   ]
  },
  {
   "cell_type": "code",
   "execution_count": 35,
   "metadata": {},
   "outputs": [],
   "source": [
    "\n",
    "income = pd.read_csv(\"/Users/beckhamsturgill/Desktop/Python/Datasets/income_evaluation.csv\")\n",
    "incomeX = income.drop(' income', axis=1)\n",
    "incomey = income[' income']"
   ]
  },
  {
   "cell_type": "code",
   "execution_count": 36,
   "metadata": {},
   "outputs": [
    {
     "data": {
      "text/html": [
       "<div>\n",
       "<style scoped>\n",
       "    .dataframe tbody tr th:only-of-type {\n",
       "        vertical-align: middle;\n",
       "    }\n",
       "\n",
       "    .dataframe tbody tr th {\n",
       "        vertical-align: top;\n",
       "    }\n",
       "\n",
       "    .dataframe thead th {\n",
       "        text-align: right;\n",
       "    }\n",
       "</style>\n",
       "<table border=\"1\" class=\"dataframe\">\n",
       "  <thead>\n",
       "    <tr style=\"text-align: right;\">\n",
       "      <th></th>\n",
       "      <th>age</th>\n",
       "      <th>workclass</th>\n",
       "      <th>fnlwgt</th>\n",
       "      <th>education</th>\n",
       "      <th>education-num</th>\n",
       "      <th>marital-status</th>\n",
       "      <th>occupation</th>\n",
       "      <th>relationship</th>\n",
       "      <th>race</th>\n",
       "      <th>sex</th>\n",
       "      <th>capital-gain</th>\n",
       "      <th>capital-loss</th>\n",
       "      <th>hours-per-week</th>\n",
       "      <th>native-country</th>\n",
       "    </tr>\n",
       "  </thead>\n",
       "  <tbody>\n",
       "    <tr>\n",
       "      <th>0</th>\n",
       "      <td>39</td>\n",
       "      <td>State-gov</td>\n",
       "      <td>77516</td>\n",
       "      <td>Bachelors</td>\n",
       "      <td>13</td>\n",
       "      <td>Never-married</td>\n",
       "      <td>Adm-clerical</td>\n",
       "      <td>Not-in-family</td>\n",
       "      <td>White</td>\n",
       "      <td>Male</td>\n",
       "      <td>2174</td>\n",
       "      <td>0</td>\n",
       "      <td>40</td>\n",
       "      <td>United-States</td>\n",
       "    </tr>\n",
       "    <tr>\n",
       "      <th>1</th>\n",
       "      <td>50</td>\n",
       "      <td>Self-emp-not-inc</td>\n",
       "      <td>83311</td>\n",
       "      <td>Bachelors</td>\n",
       "      <td>13</td>\n",
       "      <td>Married-civ-spouse</td>\n",
       "      <td>Exec-managerial</td>\n",
       "      <td>Husband</td>\n",
       "      <td>White</td>\n",
       "      <td>Male</td>\n",
       "      <td>0</td>\n",
       "      <td>0</td>\n",
       "      <td>13</td>\n",
       "      <td>United-States</td>\n",
       "    </tr>\n",
       "    <tr>\n",
       "      <th>2</th>\n",
       "      <td>38</td>\n",
       "      <td>Private</td>\n",
       "      <td>215646</td>\n",
       "      <td>HS-grad</td>\n",
       "      <td>9</td>\n",
       "      <td>Divorced</td>\n",
       "      <td>Handlers-cleaners</td>\n",
       "      <td>Not-in-family</td>\n",
       "      <td>White</td>\n",
       "      <td>Male</td>\n",
       "      <td>0</td>\n",
       "      <td>0</td>\n",
       "      <td>40</td>\n",
       "      <td>United-States</td>\n",
       "    </tr>\n",
       "    <tr>\n",
       "      <th>3</th>\n",
       "      <td>53</td>\n",
       "      <td>Private</td>\n",
       "      <td>234721</td>\n",
       "      <td>11th</td>\n",
       "      <td>7</td>\n",
       "      <td>Married-civ-spouse</td>\n",
       "      <td>Handlers-cleaners</td>\n",
       "      <td>Husband</td>\n",
       "      <td>Black</td>\n",
       "      <td>Male</td>\n",
       "      <td>0</td>\n",
       "      <td>0</td>\n",
       "      <td>40</td>\n",
       "      <td>United-States</td>\n",
       "    </tr>\n",
       "    <tr>\n",
       "      <th>4</th>\n",
       "      <td>28</td>\n",
       "      <td>Private</td>\n",
       "      <td>338409</td>\n",
       "      <td>Bachelors</td>\n",
       "      <td>13</td>\n",
       "      <td>Married-civ-spouse</td>\n",
       "      <td>Prof-specialty</td>\n",
       "      <td>Wife</td>\n",
       "      <td>Black</td>\n",
       "      <td>Female</td>\n",
       "      <td>0</td>\n",
       "      <td>0</td>\n",
       "      <td>40</td>\n",
       "      <td>Cuba</td>\n",
       "    </tr>\n",
       "    <tr>\n",
       "      <th>...</th>\n",
       "      <td>...</td>\n",
       "      <td>...</td>\n",
       "      <td>...</td>\n",
       "      <td>...</td>\n",
       "      <td>...</td>\n",
       "      <td>...</td>\n",
       "      <td>...</td>\n",
       "      <td>...</td>\n",
       "      <td>...</td>\n",
       "      <td>...</td>\n",
       "      <td>...</td>\n",
       "      <td>...</td>\n",
       "      <td>...</td>\n",
       "      <td>...</td>\n",
       "    </tr>\n",
       "    <tr>\n",
       "      <th>32556</th>\n",
       "      <td>27</td>\n",
       "      <td>Private</td>\n",
       "      <td>257302</td>\n",
       "      <td>Assoc-acdm</td>\n",
       "      <td>12</td>\n",
       "      <td>Married-civ-spouse</td>\n",
       "      <td>Tech-support</td>\n",
       "      <td>Wife</td>\n",
       "      <td>White</td>\n",
       "      <td>Female</td>\n",
       "      <td>0</td>\n",
       "      <td>0</td>\n",
       "      <td>38</td>\n",
       "      <td>United-States</td>\n",
       "    </tr>\n",
       "    <tr>\n",
       "      <th>32557</th>\n",
       "      <td>40</td>\n",
       "      <td>Private</td>\n",
       "      <td>154374</td>\n",
       "      <td>HS-grad</td>\n",
       "      <td>9</td>\n",
       "      <td>Married-civ-spouse</td>\n",
       "      <td>Machine-op-inspct</td>\n",
       "      <td>Husband</td>\n",
       "      <td>White</td>\n",
       "      <td>Male</td>\n",
       "      <td>0</td>\n",
       "      <td>0</td>\n",
       "      <td>40</td>\n",
       "      <td>United-States</td>\n",
       "    </tr>\n",
       "    <tr>\n",
       "      <th>32558</th>\n",
       "      <td>58</td>\n",
       "      <td>Private</td>\n",
       "      <td>151910</td>\n",
       "      <td>HS-grad</td>\n",
       "      <td>9</td>\n",
       "      <td>Widowed</td>\n",
       "      <td>Adm-clerical</td>\n",
       "      <td>Unmarried</td>\n",
       "      <td>White</td>\n",
       "      <td>Female</td>\n",
       "      <td>0</td>\n",
       "      <td>0</td>\n",
       "      <td>40</td>\n",
       "      <td>United-States</td>\n",
       "    </tr>\n",
       "    <tr>\n",
       "      <th>32559</th>\n",
       "      <td>22</td>\n",
       "      <td>Private</td>\n",
       "      <td>201490</td>\n",
       "      <td>HS-grad</td>\n",
       "      <td>9</td>\n",
       "      <td>Never-married</td>\n",
       "      <td>Adm-clerical</td>\n",
       "      <td>Own-child</td>\n",
       "      <td>White</td>\n",
       "      <td>Male</td>\n",
       "      <td>0</td>\n",
       "      <td>0</td>\n",
       "      <td>20</td>\n",
       "      <td>United-States</td>\n",
       "    </tr>\n",
       "    <tr>\n",
       "      <th>32560</th>\n",
       "      <td>52</td>\n",
       "      <td>Self-emp-inc</td>\n",
       "      <td>287927</td>\n",
       "      <td>HS-grad</td>\n",
       "      <td>9</td>\n",
       "      <td>Married-civ-spouse</td>\n",
       "      <td>Exec-managerial</td>\n",
       "      <td>Wife</td>\n",
       "      <td>White</td>\n",
       "      <td>Female</td>\n",
       "      <td>15024</td>\n",
       "      <td>0</td>\n",
       "      <td>40</td>\n",
       "      <td>United-States</td>\n",
       "    </tr>\n",
       "  </tbody>\n",
       "</table>\n",
       "<p>32561 rows × 14 columns</p>\n",
       "</div>"
      ],
      "text/plain": [
       "       age          workclass   fnlwgt    education   education-num  \\\n",
       "0       39          State-gov    77516    Bachelors              13   \n",
       "1       50   Self-emp-not-inc    83311    Bachelors              13   \n",
       "2       38            Private   215646      HS-grad               9   \n",
       "3       53            Private   234721         11th               7   \n",
       "4       28            Private   338409    Bachelors              13   \n",
       "...    ...                ...      ...          ...             ...   \n",
       "32556   27            Private   257302   Assoc-acdm              12   \n",
       "32557   40            Private   154374      HS-grad               9   \n",
       "32558   58            Private   151910      HS-grad               9   \n",
       "32559   22            Private   201490      HS-grad               9   \n",
       "32560   52       Self-emp-inc   287927      HS-grad               9   \n",
       "\n",
       "            marital-status          occupation    relationship    race  \\\n",
       "0            Never-married        Adm-clerical   Not-in-family   White   \n",
       "1       Married-civ-spouse     Exec-managerial         Husband   White   \n",
       "2                 Divorced   Handlers-cleaners   Not-in-family   White   \n",
       "3       Married-civ-spouse   Handlers-cleaners         Husband   Black   \n",
       "4       Married-civ-spouse      Prof-specialty            Wife   Black   \n",
       "...                    ...                 ...             ...     ...   \n",
       "32556   Married-civ-spouse        Tech-support            Wife   White   \n",
       "32557   Married-civ-spouse   Machine-op-inspct         Husband   White   \n",
       "32558              Widowed        Adm-clerical       Unmarried   White   \n",
       "32559        Never-married        Adm-clerical       Own-child   White   \n",
       "32560   Married-civ-spouse     Exec-managerial            Wife   White   \n",
       "\n",
       "           sex   capital-gain   capital-loss   hours-per-week  native-country  \n",
       "0         Male           2174              0               40   United-States  \n",
       "1         Male              0              0               13   United-States  \n",
       "2         Male              0              0               40   United-States  \n",
       "3         Male              0              0               40   United-States  \n",
       "4       Female              0              0               40            Cuba  \n",
       "...        ...            ...            ...              ...             ...  \n",
       "32556   Female              0              0               38   United-States  \n",
       "32557     Male              0              0               40   United-States  \n",
       "32558   Female              0              0               40   United-States  \n",
       "32559     Male              0              0               20   United-States  \n",
       "32560   Female          15024              0               40   United-States  \n",
       "\n",
       "[32561 rows x 14 columns]"
      ]
     },
     "execution_count": 36,
     "metadata": {},
     "output_type": "execute_result"
    }
   ],
   "source": [
    "incomeX"
   ]
  },
  {
   "cell_type": "code",
   "execution_count": 37,
   "metadata": {},
   "outputs": [
    {
     "data": {
      "text/html": [
       "<div>\n",
       "<style scoped>\n",
       "    .dataframe tbody tr th:only-of-type {\n",
       "        vertical-align: middle;\n",
       "    }\n",
       "\n",
       "    .dataframe tbody tr th {\n",
       "        vertical-align: top;\n",
       "    }\n",
       "\n",
       "    .dataframe thead th {\n",
       "        text-align: right;\n",
       "    }\n",
       "</style>\n",
       "<table border=\"1\" class=\"dataframe\">\n",
       "  <thead>\n",
       "    <tr style=\"text-align: right;\">\n",
       "      <th></th>\n",
       "      <th>age</th>\n",
       "      <th>fnlwgt</th>\n",
       "      <th>education-num</th>\n",
       "      <th>capital-gain</th>\n",
       "      <th>capital-loss</th>\n",
       "      <th>hours-per-week</th>\n",
       "    </tr>\n",
       "  </thead>\n",
       "  <tbody>\n",
       "    <tr>\n",
       "      <th>count</th>\n",
       "      <td>32561.000000</td>\n",
       "      <td>3.256100e+04</td>\n",
       "      <td>32561.000000</td>\n",
       "      <td>32561.000000</td>\n",
       "      <td>32561.000000</td>\n",
       "      <td>32561.000000</td>\n",
       "    </tr>\n",
       "    <tr>\n",
       "      <th>mean</th>\n",
       "      <td>38.581647</td>\n",
       "      <td>1.897784e+05</td>\n",
       "      <td>10.080679</td>\n",
       "      <td>1077.648844</td>\n",
       "      <td>87.303830</td>\n",
       "      <td>40.437456</td>\n",
       "    </tr>\n",
       "    <tr>\n",
       "      <th>std</th>\n",
       "      <td>13.640433</td>\n",
       "      <td>1.055500e+05</td>\n",
       "      <td>2.572720</td>\n",
       "      <td>7385.292085</td>\n",
       "      <td>402.960219</td>\n",
       "      <td>12.347429</td>\n",
       "    </tr>\n",
       "    <tr>\n",
       "      <th>min</th>\n",
       "      <td>17.000000</td>\n",
       "      <td>1.228500e+04</td>\n",
       "      <td>1.000000</td>\n",
       "      <td>0.000000</td>\n",
       "      <td>0.000000</td>\n",
       "      <td>1.000000</td>\n",
       "    </tr>\n",
       "    <tr>\n",
       "      <th>25%</th>\n",
       "      <td>28.000000</td>\n",
       "      <td>1.178270e+05</td>\n",
       "      <td>9.000000</td>\n",
       "      <td>0.000000</td>\n",
       "      <td>0.000000</td>\n",
       "      <td>40.000000</td>\n",
       "    </tr>\n",
       "    <tr>\n",
       "      <th>50%</th>\n",
       "      <td>37.000000</td>\n",
       "      <td>1.783560e+05</td>\n",
       "      <td>10.000000</td>\n",
       "      <td>0.000000</td>\n",
       "      <td>0.000000</td>\n",
       "      <td>40.000000</td>\n",
       "    </tr>\n",
       "    <tr>\n",
       "      <th>75%</th>\n",
       "      <td>48.000000</td>\n",
       "      <td>2.370510e+05</td>\n",
       "      <td>12.000000</td>\n",
       "      <td>0.000000</td>\n",
       "      <td>0.000000</td>\n",
       "      <td>45.000000</td>\n",
       "    </tr>\n",
       "    <tr>\n",
       "      <th>max</th>\n",
       "      <td>90.000000</td>\n",
       "      <td>1.484705e+06</td>\n",
       "      <td>16.000000</td>\n",
       "      <td>99999.000000</td>\n",
       "      <td>4356.000000</td>\n",
       "      <td>99.000000</td>\n",
       "    </tr>\n",
       "  </tbody>\n",
       "</table>\n",
       "</div>"
      ],
      "text/plain": [
       "                age        fnlwgt   education-num   capital-gain  \\\n",
       "count  32561.000000  3.256100e+04    32561.000000   32561.000000   \n",
       "mean      38.581647  1.897784e+05       10.080679    1077.648844   \n",
       "std       13.640433  1.055500e+05        2.572720    7385.292085   \n",
       "min       17.000000  1.228500e+04        1.000000       0.000000   \n",
       "25%       28.000000  1.178270e+05        9.000000       0.000000   \n",
       "50%       37.000000  1.783560e+05       10.000000       0.000000   \n",
       "75%       48.000000  2.370510e+05       12.000000       0.000000   \n",
       "max       90.000000  1.484705e+06       16.000000   99999.000000   \n",
       "\n",
       "        capital-loss   hours-per-week  \n",
       "count   32561.000000     32561.000000  \n",
       "mean       87.303830        40.437456  \n",
       "std       402.960219        12.347429  \n",
       "min         0.000000         1.000000  \n",
       "25%         0.000000        40.000000  \n",
       "50%         0.000000        40.000000  \n",
       "75%         0.000000        45.000000  \n",
       "max      4356.000000        99.000000  "
      ]
     },
     "execution_count": 37,
     "metadata": {},
     "output_type": "execute_result"
    }
   ],
   "source": [
    "incomeX.describe()"
   ]
  },
  {
   "cell_type": "code",
   "execution_count": 38,
   "metadata": {},
   "outputs": [
    {
     "data": {
      "text/html": [
       "<div>\n",
       "<style scoped>\n",
       "    .dataframe tbody tr th:only-of-type {\n",
       "        vertical-align: middle;\n",
       "    }\n",
       "\n",
       "    .dataframe tbody tr th {\n",
       "        vertical-align: top;\n",
       "    }\n",
       "\n",
       "    .dataframe thead th {\n",
       "        text-align: right;\n",
       "    }\n",
       "</style>\n",
       "<table border=\"1\" class=\"dataframe\">\n",
       "  <thead>\n",
       "    <tr style=\"text-align: right;\">\n",
       "      <th></th>\n",
       "      <th>income</th>\n",
       "    </tr>\n",
       "  </thead>\n",
       "  <tbody>\n",
       "    <tr>\n",
       "      <th>0</th>\n",
       "      <td>&lt;=50K</td>\n",
       "    </tr>\n",
       "    <tr>\n",
       "      <th>1</th>\n",
       "      <td>&lt;=50K</td>\n",
       "    </tr>\n",
       "    <tr>\n",
       "      <th>2</th>\n",
       "      <td>&lt;=50K</td>\n",
       "    </tr>\n",
       "    <tr>\n",
       "      <th>3</th>\n",
       "      <td>&lt;=50K</td>\n",
       "    </tr>\n",
       "    <tr>\n",
       "      <th>4</th>\n",
       "      <td>&lt;=50K</td>\n",
       "    </tr>\n",
       "    <tr>\n",
       "      <th>...</th>\n",
       "      <td>...</td>\n",
       "    </tr>\n",
       "    <tr>\n",
       "      <th>32556</th>\n",
       "      <td>&lt;=50K</td>\n",
       "    </tr>\n",
       "    <tr>\n",
       "      <th>32557</th>\n",
       "      <td>&gt;50K</td>\n",
       "    </tr>\n",
       "    <tr>\n",
       "      <th>32558</th>\n",
       "      <td>&lt;=50K</td>\n",
       "    </tr>\n",
       "    <tr>\n",
       "      <th>32559</th>\n",
       "      <td>&lt;=50K</td>\n",
       "    </tr>\n",
       "    <tr>\n",
       "      <th>32560</th>\n",
       "      <td>&gt;50K</td>\n",
       "    </tr>\n",
       "  </tbody>\n",
       "</table>\n",
       "<p>32561 rows × 1 columns</p>\n",
       "</div>"
      ],
      "text/plain": [
       "       income\n",
       "0       <=50K\n",
       "1       <=50K\n",
       "2       <=50K\n",
       "3       <=50K\n",
       "4       <=50K\n",
       "...       ...\n",
       "32556   <=50K\n",
       "32557    >50K\n",
       "32558   <=50K\n",
       "32559   <=50K\n",
       "32560    >50K\n",
       "\n",
       "[32561 rows x 1 columns]"
      ]
     },
     "execution_count": 38,
     "metadata": {},
     "output_type": "execute_result"
    }
   ],
   "source": [
    "incomey.to_frame()"
   ]
  },
  {
   "cell_type": "code",
   "execution_count": 39,
   "metadata": {},
   "outputs": [],
   "source": [
    "incomey = (income[' income'] == ' <=50K') * 1"
   ]
  },
  {
   "cell_type": "markdown",
   "metadata": {},
   "source": [
    "### Now we have changed <=50K to 1 and changed >50K to 0"
   ]
  },
  {
   "cell_type": "code",
   "execution_count": 40,
   "metadata": {},
   "outputs": [
    {
     "data": {
      "text/plain": [
       "1    24720\n",
       "0     7841\n",
       "Name:  income, dtype: int64"
      ]
     },
     "execution_count": 40,
     "metadata": {},
     "output_type": "execute_result"
    }
   ],
   "source": [
    "incomey.value_counts()"
   ]
  },
  {
   "cell_type": "code",
   "execution_count": 41,
   "metadata": {},
   "outputs": [
    {
     "name": "stdout",
     "output_type": "stream",
     "text": [
      "<class 'pandas.core.frame.DataFrame'>\n",
      "RangeIndex: 32561 entries, 0 to 32560\n",
      "Data columns (total 14 columns):\n",
      " #   Column           Non-Null Count  Dtype \n",
      "---  ------           --------------  ----- \n",
      " 0   age              32561 non-null  int64 \n",
      " 1    workclass       32561 non-null  object\n",
      " 2    fnlwgt          32561 non-null  int64 \n",
      " 3    education       32561 non-null  object\n",
      " 4    education-num   32561 non-null  int64 \n",
      " 5    marital-status  32561 non-null  object\n",
      " 6    occupation      32561 non-null  object\n",
      " 7    relationship    32561 non-null  object\n",
      " 8    race            32561 non-null  object\n",
      " 9    sex             32561 non-null  object\n",
      " 10   capital-gain    32561 non-null  int64 \n",
      " 11   capital-loss    32561 non-null  int64 \n",
      " 12   hours-per-week  32561 non-null  int64 \n",
      " 13   native-country  32561 non-null  object\n",
      "dtypes: int64(6), object(8)\n",
      "memory usage: 3.5+ MB\n"
     ]
    }
   ],
   "source": [
    "incomeX.info()"
   ]
  },
  {
   "cell_type": "code",
   "execution_count": 42,
   "metadata": {},
   "outputs": [
    {
     "data": {
      "text/plain": [
       "age                0\n",
       " workclass         0\n",
       " fnlwgt            0\n",
       " education         0\n",
       " education-num     0\n",
       " marital-status    0\n",
       " occupation        0\n",
       " relationship      0\n",
       " race              0\n",
       " sex               0\n",
       " capital-gain      0\n",
       " capital-loss      0\n",
       " hours-per-week    0\n",
       " native-country    0\n",
       "dtype: int64"
      ]
     },
     "execution_count": 42,
     "metadata": {},
     "output_type": "execute_result"
    }
   ],
   "source": [
    "incomeX.isnull().sum()"
   ]
  },
  {
   "cell_type": "code",
   "execution_count": 43,
   "metadata": {},
   "outputs": [
    {
     "data": {
      "text/plain": [
       "36    898\n",
       "31    888\n",
       "34    886\n",
       "23    877\n",
       "35    876\n",
       "     ... \n",
       "83      6\n",
       "85      3\n",
       "88      3\n",
       "87      1\n",
       "86      1\n",
       "Name: age, Length: 73, dtype: int64"
      ]
     },
     "execution_count": 43,
     "metadata": {},
     "output_type": "execute_result"
    }
   ],
   "source": [
    "incomeX['age'].value_counts()"
   ]
  },
  {
   "cell_type": "code",
   "execution_count": 44,
   "metadata": {},
   "outputs": [
    {
     "data": {
      "text/plain": [
       " Private             22696\n",
       " Self-emp-not-inc     2541\n",
       " Local-gov            2093\n",
       " ?                    1836\n",
       " State-gov            1298\n",
       " Self-emp-inc         1116\n",
       " Federal-gov           960\n",
       " Without-pay            14\n",
       " Never-worked            7\n",
       "Name:  workclass, dtype: int64"
      ]
     },
     "execution_count": 44,
     "metadata": {},
     "output_type": "execute_result"
    }
   ],
   "source": [
    "incomeX[' workclass'].value_counts()"
   ]
  },
  {
   "cell_type": "markdown",
   "metadata": {},
   "source": [
    "### this shows that the dataset missing values are placed with a ? so we need to find and alter these points\n",
    "\n",
    "### We will check other columns for ? values to fix"
   ]
  },
  {
   "cell_type": "code",
   "execution_count": 45,
   "metadata": {},
   "outputs": [
    {
     "data": {
      "text/plain": [
       "164190    13\n",
       "203488    13\n",
       "123011    13\n",
       "113364    12\n",
       "121124    12\n",
       "          ..\n",
       "284211     1\n",
       "312881     1\n",
       "177711     1\n",
       "179758     1\n",
       "229376     1\n",
       "Name:  fnlwgt, Length: 21648, dtype: int64"
      ]
     },
     "execution_count": 45,
     "metadata": {},
     "output_type": "execute_result"
    }
   ],
   "source": [
    "incomeX[' fnlwgt'].value_counts()"
   ]
  },
  {
   "cell_type": "code",
   "execution_count": 46,
   "metadata": {},
   "outputs": [
    {
     "data": {
      "text/plain": [
       " HS-grad         10501\n",
       " Some-college     7291\n",
       " Bachelors        5355\n",
       " Masters          1723\n",
       " Assoc-voc        1382\n",
       " 11th             1175\n",
       " Assoc-acdm       1067\n",
       " 10th              933\n",
       " 7th-8th           646\n",
       " Prof-school       576\n",
       " 9th               514\n",
       " 12th              433\n",
       " Doctorate         413\n",
       " 5th-6th           333\n",
       " 1st-4th           168\n",
       " Preschool          51\n",
       "Name:  education, dtype: int64"
      ]
     },
     "execution_count": 46,
     "metadata": {},
     "output_type": "execute_result"
    }
   ],
   "source": [
    "incomeX[' education'].value_counts()"
   ]
  },
  {
   "cell_type": "code",
   "execution_count": 47,
   "metadata": {},
   "outputs": [
    {
     "data": {
      "text/plain": [
       "9     10501\n",
       "10     7291\n",
       "13     5355\n",
       "14     1723\n",
       "11     1382\n",
       "7      1175\n",
       "12     1067\n",
       "6       933\n",
       "4       646\n",
       "15      576\n",
       "5       514\n",
       "8       433\n",
       "16      413\n",
       "3       333\n",
       "2       168\n",
       "1        51\n",
       "Name:  education-num, dtype: int64"
      ]
     },
     "execution_count": 47,
     "metadata": {},
     "output_type": "execute_result"
    }
   ],
   "source": [
    "incomeX[' education-num'].value_counts()"
   ]
  },
  {
   "cell_type": "code",
   "execution_count": 48,
   "metadata": {},
   "outputs": [
    {
     "data": {
      "text/plain": [
       " Married-civ-spouse       14976\n",
       " Never-married            10683\n",
       " Divorced                  4443\n",
       " Separated                 1025\n",
       " Widowed                    993\n",
       " Married-spouse-absent      418\n",
       " Married-AF-spouse           23\n",
       "Name:  marital-status, dtype: int64"
      ]
     },
     "execution_count": 48,
     "metadata": {},
     "output_type": "execute_result"
    }
   ],
   "source": [
    "incomeX[' marital-status'].value_counts()"
   ]
  },
  {
   "cell_type": "code",
   "execution_count": 49,
   "metadata": {},
   "outputs": [
    {
     "data": {
      "text/plain": [
       " Prof-specialty       4140\n",
       " Craft-repair         4099\n",
       " Exec-managerial      4066\n",
       " Adm-clerical         3770\n",
       " Sales                3650\n",
       " Other-service        3295\n",
       " Machine-op-inspct    2002\n",
       " ?                    1843\n",
       " Transport-moving     1597\n",
       " Handlers-cleaners    1370\n",
       " Farming-fishing       994\n",
       " Tech-support          928\n",
       " Protective-serv       649\n",
       " Priv-house-serv       149\n",
       " Armed-Forces            9\n",
       "Name:  occupation, dtype: int64"
      ]
     },
     "execution_count": 49,
     "metadata": {},
     "output_type": "execute_result"
    }
   ],
   "source": [
    "incomeX[' occupation'].value_counts()"
   ]
  },
  {
   "cell_type": "code",
   "execution_count": 50,
   "metadata": {},
   "outputs": [
    {
     "data": {
      "text/plain": [
       " Husband           13193\n",
       " Not-in-family      8305\n",
       " Own-child          5068\n",
       " Unmarried          3446\n",
       " Wife               1568\n",
       " Other-relative      981\n",
       "Name:  relationship, dtype: int64"
      ]
     },
     "execution_count": 50,
     "metadata": {},
     "output_type": "execute_result"
    }
   ],
   "source": [
    "incomeX[' relationship'].value_counts()"
   ]
  },
  {
   "cell_type": "code",
   "execution_count": 51,
   "metadata": {},
   "outputs": [
    {
     "data": {
      "text/plain": [
       " White                 27816\n",
       " Black                  3124\n",
       " Asian-Pac-Islander     1039\n",
       " Amer-Indian-Eskimo      311\n",
       " Other                   271\n",
       "Name:  race, dtype: int64"
      ]
     },
     "execution_count": 51,
     "metadata": {},
     "output_type": "execute_result"
    }
   ],
   "source": [
    "incomeX[' race'].value_counts()"
   ]
  },
  {
   "cell_type": "code",
   "execution_count": 52,
   "metadata": {},
   "outputs": [
    {
     "data": {
      "text/plain": [
       " Male      21790\n",
       " Female    10771\n",
       "Name:  sex, dtype: int64"
      ]
     },
     "execution_count": 52,
     "metadata": {},
     "output_type": "execute_result"
    }
   ],
   "source": [
    "incomeX[' sex'].value_counts()"
   ]
  },
  {
   "cell_type": "code",
   "execution_count": 53,
   "metadata": {},
   "outputs": [
    {
     "data": {
      "text/plain": [
       "0        29849\n",
       "15024      347\n",
       "7688       284\n",
       "7298       246\n",
       "99999      159\n",
       "         ...  \n",
       "4931         1\n",
       "1455         1\n",
       "6097         1\n",
       "22040        1\n",
       "1111         1\n",
       "Name:  capital-gain, Length: 119, dtype: int64"
      ]
     },
     "execution_count": 53,
     "metadata": {},
     "output_type": "execute_result"
    }
   ],
   "source": [
    "incomeX[' capital-gain'].value_counts()"
   ]
  },
  {
   "cell_type": "code",
   "execution_count": 54,
   "metadata": {},
   "outputs": [
    {
     "data": {
      "text/plain": [
       "0       31042\n",
       "1902      202\n",
       "1977      168\n",
       "1887      159\n",
       "1848       51\n",
       "        ...  \n",
       "1411        1\n",
       "1539        1\n",
       "2472        1\n",
       "1944        1\n",
       "2201        1\n",
       "Name:  capital-loss, Length: 92, dtype: int64"
      ]
     },
     "execution_count": 54,
     "metadata": {},
     "output_type": "execute_result"
    }
   ],
   "source": [
    "incomeX[' capital-loss'].value_counts()"
   ]
  },
  {
   "cell_type": "code",
   "execution_count": 55,
   "metadata": {},
   "outputs": [
    {
     "data": {
      "text/plain": [
       "40    15217\n",
       "50     2819\n",
       "45     1824\n",
       "60     1475\n",
       "35     1297\n",
       "      ...  \n",
       "92        1\n",
       "94        1\n",
       "87        1\n",
       "74        1\n",
       "82        1\n",
       "Name:  hours-per-week, Length: 94, dtype: int64"
      ]
     },
     "execution_count": 55,
     "metadata": {},
     "output_type": "execute_result"
    }
   ],
   "source": [
    " incomeX[' hours-per-week'].value_counts()"
   ]
  },
  {
   "cell_type": "code",
   "execution_count": 56,
   "metadata": {},
   "outputs": [
    {
     "data": {
      "text/plain": [
       " United-States                 29170\n",
       " Mexico                          643\n",
       " ?                               583\n",
       " Philippines                     198\n",
       " Germany                         137\n",
       " Canada                          121\n",
       " Puerto-Rico                     114\n",
       " El-Salvador                     106\n",
       " India                           100\n",
       " Cuba                             95\n",
       " England                          90\n",
       " Jamaica                          81\n",
       " South                            80\n",
       " China                            75\n",
       " Italy                            73\n",
       " Dominican-Republic               70\n",
       " Vietnam                          67\n",
       " Guatemala                        64\n",
       " Japan                            62\n",
       " Poland                           60\n",
       " Columbia                         59\n",
       " Taiwan                           51\n",
       " Haiti                            44\n",
       " Iran                             43\n",
       " Portugal                         37\n",
       " Nicaragua                        34\n",
       " Peru                             31\n",
       " Greece                           29\n",
       " France                           29\n",
       " Ecuador                          28\n",
       " Ireland                          24\n",
       " Hong                             20\n",
       " Cambodia                         19\n",
       " Trinadad&Tobago                  19\n",
       " Thailand                         18\n",
       " Laos                             18\n",
       " Yugoslavia                       16\n",
       " Outlying-US(Guam-USVI-etc)       14\n",
       " Honduras                         13\n",
       " Hungary                          13\n",
       " Scotland                         12\n",
       " Holand-Netherlands                1\n",
       "Name:  native-country, dtype: int64"
      ]
     },
     "execution_count": 56,
     "metadata": {},
     "output_type": "execute_result"
    }
   ],
   "source": [
    "  incomeX[' native-country'].value_counts()"
   ]
  },
  {
   "cell_type": "code",
   "execution_count": 57,
   "metadata": {},
   "outputs": [],
   "source": [
    "incomeX[' workclass'].replace(' ?', np.NaN, inplace=True)\n",
    "incomeX[' occupation'].replace(' ?', np.NaN, inplace=True)\n",
    "incomeX[' native-country'].replace(' ?', np.NaN, inplace=True)"
   ]
  },
  {
   "cell_type": "code",
   "execution_count": 58,
   "metadata": {},
   "outputs": [
    {
     "data": {
      "text/plain": [
       "age                   0\n",
       " workclass         1836\n",
       " fnlwgt               0\n",
       " education            0\n",
       " education-num        0\n",
       " marital-status       0\n",
       " occupation        1843\n",
       " relationship         0\n",
       " race                 0\n",
       " sex                  0\n",
       " capital-gain         0\n",
       " capital-loss         0\n",
       " hours-per-week       0\n",
       " native-country     583\n",
       "dtype: int64"
      ]
     },
     "execution_count": 58,
     "metadata": {},
     "output_type": "execute_result"
    }
   ],
   "source": [
    "incomeX.isnull().sum()"
   ]
  },
  {
   "cell_type": "markdown",
   "metadata": {},
   "source": [
    "### Now we can clearly see there are missing value counts in workclass, occupation, and native-country"
   ]
  },
  {
   "cell_type": "code",
   "execution_count": 59,
   "metadata": {},
   "outputs": [],
   "source": [
    "for point in incomeX:\n",
    "    incomeX[' workclass'].fillna(incomeX[' workclass'].mode()[0], inplace=True)\n",
    "    incomeX[' occupation'].fillna(incomeX[' occupation'].mode()[0], inplace=True)\n",
    "    incomeX[' native-country'].fillna(incomeX[' native-country'].mode()[0], inplace=True)    "
   ]
  },
  {
   "cell_type": "markdown",
   "metadata": {},
   "source": [
    "### We filled these missing values with the mode of the respective columns"
   ]
  },
  {
   "cell_type": "code",
   "execution_count": 60,
   "metadata": {},
   "outputs": [
    {
     "data": {
      "text/plain": [
       "age                0\n",
       " workclass         0\n",
       " fnlwgt            0\n",
       " education         0\n",
       " education-num     0\n",
       " marital-status    0\n",
       " occupation        0\n",
       " relationship      0\n",
       " race              0\n",
       " sex               0\n",
       " capital-gain      0\n",
       " capital-loss      0\n",
       " hours-per-week    0\n",
       " native-country    0\n",
       "dtype: int64"
      ]
     },
     "execution_count": 60,
     "metadata": {},
     "output_type": "execute_result"
    }
   ],
   "source": [
    "incomeX.isnull().sum()"
   ]
  },
  {
   "cell_type": "markdown",
   "metadata": {},
   "source": [
    "### Now we know that there is no missing data to skew the data"
   ]
  },
  {
   "cell_type": "code",
   "execution_count": 61,
   "metadata": {},
   "outputs": [
    {
     "data": {
      "text/html": [
       "<style  type=\"text/css\" >\n",
       "    #T_8f424768_dfc6_11ea_9af5_acde48001122row0_col0 {\n",
       "            background-color:  #023858;\n",
       "            color:  #f1f1f1;\n",
       "        }    #T_8f424768_dfc6_11ea_9af5_acde48001122row0_col1 {\n",
       "            background-color:  #fff7fb;\n",
       "            color:  #000000;\n",
       "        }    #T_8f424768_dfc6_11ea_9af5_acde48001122row0_col2 {\n",
       "            background-color:  #f4edf6;\n",
       "            color:  #000000;\n",
       "        }    #T_8f424768_dfc6_11ea_9af5_acde48001122row0_col3 {\n",
       "            background-color:  #efe9f3;\n",
       "            color:  #000000;\n",
       "        }    #T_8f424768_dfc6_11ea_9af5_acde48001122row0_col4 {\n",
       "            background-color:  #f2ecf5;\n",
       "            color:  #000000;\n",
       "        }    #T_8f424768_dfc6_11ea_9af5_acde48001122row0_col5 {\n",
       "            background-color:  #f2ecf5;\n",
       "            color:  #000000;\n",
       "        }    #T_8f424768_dfc6_11ea_9af5_acde48001122row1_col0 {\n",
       "            background-color:  #fff7fb;\n",
       "            color:  #000000;\n",
       "        }    #T_8f424768_dfc6_11ea_9af5_acde48001122row1_col1 {\n",
       "            background-color:  #023858;\n",
       "            color:  #f1f1f1;\n",
       "        }    #T_8f424768_dfc6_11ea_9af5_acde48001122row1_col2 {\n",
       "            background-color:  #fff7fb;\n",
       "            color:  #000000;\n",
       "        }    #T_8f424768_dfc6_11ea_9af5_acde48001122row1_col3 {\n",
       "            background-color:  #fbf3f9;\n",
       "            color:  #000000;\n",
       "        }    #T_8f424768_dfc6_11ea_9af5_acde48001122row1_col4 {\n",
       "            background-color:  #fcf4fa;\n",
       "            color:  #000000;\n",
       "        }    #T_8f424768_dfc6_11ea_9af5_acde48001122row1_col5 {\n",
       "            background-color:  #fff7fb;\n",
       "            color:  #000000;\n",
       "        }    #T_8f424768_dfc6_11ea_9af5_acde48001122row2_col0 {\n",
       "            background-color:  #f0eaf4;\n",
       "            color:  #000000;\n",
       "        }    #T_8f424768_dfc6_11ea_9af5_acde48001122row2_col1 {\n",
       "            background-color:  #fbf3f9;\n",
       "            color:  #000000;\n",
       "        }    #T_8f424768_dfc6_11ea_9af5_acde48001122row2_col2 {\n",
       "            background-color:  #023858;\n",
       "            color:  #f1f1f1;\n",
       "        }    #T_8f424768_dfc6_11ea_9af5_acde48001122row2_col3 {\n",
       "            background-color:  #e7e3f0;\n",
       "            color:  #000000;\n",
       "        }    #T_8f424768_dfc6_11ea_9af5_acde48001122row2_col4 {\n",
       "            background-color:  #efe9f3;\n",
       "            color:  #000000;\n",
       "        }    #T_8f424768_dfc6_11ea_9af5_acde48001122row2_col5 {\n",
       "            background-color:  #e4e1ef;\n",
       "            color:  #000000;\n",
       "        }    #T_8f424768_dfc6_11ea_9af5_acde48001122row3_col0 {\n",
       "            background-color:  #e8e4f0;\n",
       "            color:  #000000;\n",
       "        }    #T_8f424768_dfc6_11ea_9af5_acde48001122row3_col1 {\n",
       "            background-color:  #f4eef6;\n",
       "            color:  #000000;\n",
       "        }    #T_8f424768_dfc6_11ea_9af5_acde48001122row3_col2 {\n",
       "            background-color:  #e5e1ef;\n",
       "            color:  #000000;\n",
       "        }    #T_8f424768_dfc6_11ea_9af5_acde48001122row3_col3 {\n",
       "            background-color:  #023858;\n",
       "            color:  #f1f1f1;\n",
       "        }    #T_8f424768_dfc6_11ea_9af5_acde48001122row3_col4 {\n",
       "            background-color:  #fff7fb;\n",
       "            color:  #000000;\n",
       "        }    #T_8f424768_dfc6_11ea_9af5_acde48001122row3_col5 {\n",
       "            background-color:  #f1ebf4;\n",
       "            color:  #000000;\n",
       "        }    #T_8f424768_dfc6_11ea_9af5_acde48001122row4_col0 {\n",
       "            background-color:  #ede7f2;\n",
       "            color:  #000000;\n",
       "        }    #T_8f424768_dfc6_11ea_9af5_acde48001122row4_col1 {\n",
       "            background-color:  #f6eff7;\n",
       "            color:  #000000;\n",
       "        }    #T_8f424768_dfc6_11ea_9af5_acde48001122row4_col2 {\n",
       "            background-color:  #ede8f3;\n",
       "            color:  #000000;\n",
       "        }    #T_8f424768_dfc6_11ea_9af5_acde48001122row4_col3 {\n",
       "            background-color:  #fff7fb;\n",
       "            color:  #000000;\n",
       "        }    #T_8f424768_dfc6_11ea_9af5_acde48001122row4_col4 {\n",
       "            background-color:  #023858;\n",
       "            color:  #f1f1f1;\n",
       "        }    #T_8f424768_dfc6_11ea_9af5_acde48001122row4_col5 {\n",
       "            background-color:  #f4eef6;\n",
       "            color:  #000000;\n",
       "        }    #T_8f424768_dfc6_11ea_9af5_acde48001122row5_col0 {\n",
       "            background-color:  #eae6f1;\n",
       "            color:  #000000;\n",
       "        }    #T_8f424768_dfc6_11ea_9af5_acde48001122row5_col1 {\n",
       "            background-color:  #f7f0f7;\n",
       "            color:  #000000;\n",
       "        }    #T_8f424768_dfc6_11ea_9af5_acde48001122row5_col2 {\n",
       "            background-color:  #e0dded;\n",
       "            color:  #000000;\n",
       "        }    #T_8f424768_dfc6_11ea_9af5_acde48001122row5_col3 {\n",
       "            background-color:  #efe9f3;\n",
       "            color:  #000000;\n",
       "        }    #T_8f424768_dfc6_11ea_9af5_acde48001122row5_col4 {\n",
       "            background-color:  #f2ecf5;\n",
       "            color:  #000000;\n",
       "        }    #T_8f424768_dfc6_11ea_9af5_acde48001122row5_col5 {\n",
       "            background-color:  #023858;\n",
       "            color:  #f1f1f1;\n",
       "        }</style><table id=\"T_8f424768_dfc6_11ea_9af5_acde48001122\" ><thead>    <tr>        <th class=\"blank level0\" ></th>        <th class=\"col_heading level0 col0\" >age</th>        <th class=\"col_heading level0 col1\" > fnlwgt</th>        <th class=\"col_heading level0 col2\" > education-num</th>        <th class=\"col_heading level0 col3\" > capital-gain</th>        <th class=\"col_heading level0 col4\" > capital-loss</th>        <th class=\"col_heading level0 col5\" > hours-per-week</th>    </tr></thead><tbody>\n",
       "                <tr>\n",
       "                        <th id=\"T_8f424768_dfc6_11ea_9af5_acde48001122level0_row0\" class=\"row_heading level0 row0\" >age</th>\n",
       "                        <td id=\"T_8f424768_dfc6_11ea_9af5_acde48001122row0_col0\" class=\"data row0 col0\" >1.000000</td>\n",
       "                        <td id=\"T_8f424768_dfc6_11ea_9af5_acde48001122row0_col1\" class=\"data row0 col1\" >-0.076646</td>\n",
       "                        <td id=\"T_8f424768_dfc6_11ea_9af5_acde48001122row0_col2\" class=\"data row0 col2\" >0.036527</td>\n",
       "                        <td id=\"T_8f424768_dfc6_11ea_9af5_acde48001122row0_col3\" class=\"data row0 col3\" >0.077674</td>\n",
       "                        <td id=\"T_8f424768_dfc6_11ea_9af5_acde48001122row0_col4\" class=\"data row0 col4\" >0.057775</td>\n",
       "                        <td id=\"T_8f424768_dfc6_11ea_9af5_acde48001122row0_col5\" class=\"data row0 col5\" >0.068756</td>\n",
       "            </tr>\n",
       "            <tr>\n",
       "                        <th id=\"T_8f424768_dfc6_11ea_9af5_acde48001122level0_row1\" class=\"row_heading level0 row1\" > fnlwgt</th>\n",
       "                        <td id=\"T_8f424768_dfc6_11ea_9af5_acde48001122row1_col0\" class=\"data row1 col0\" >-0.076646</td>\n",
       "                        <td id=\"T_8f424768_dfc6_11ea_9af5_acde48001122row1_col1\" class=\"data row1 col1\" >1.000000</td>\n",
       "                        <td id=\"T_8f424768_dfc6_11ea_9af5_acde48001122row1_col2\" class=\"data row1 col2\" >-0.043195</td>\n",
       "                        <td id=\"T_8f424768_dfc6_11ea_9af5_acde48001122row1_col3\" class=\"data row1 col3\" >0.000432</td>\n",
       "                        <td id=\"T_8f424768_dfc6_11ea_9af5_acde48001122row1_col4\" class=\"data row1 col4\" >-0.010252</td>\n",
       "                        <td id=\"T_8f424768_dfc6_11ea_9af5_acde48001122row1_col5\" class=\"data row1 col5\" >-0.018768</td>\n",
       "            </tr>\n",
       "            <tr>\n",
       "                        <th id=\"T_8f424768_dfc6_11ea_9af5_acde48001122level0_row2\" class=\"row_heading level0 row2\" > education-num</th>\n",
       "                        <td id=\"T_8f424768_dfc6_11ea_9af5_acde48001122row2_col0\" class=\"data row2 col0\" >0.036527</td>\n",
       "                        <td id=\"T_8f424768_dfc6_11ea_9af5_acde48001122row2_col1\" class=\"data row2 col1\" >-0.043195</td>\n",
       "                        <td id=\"T_8f424768_dfc6_11ea_9af5_acde48001122row2_col2\" class=\"data row2 col2\" >1.000000</td>\n",
       "                        <td id=\"T_8f424768_dfc6_11ea_9af5_acde48001122row2_col3\" class=\"data row2 col3\" >0.122630</td>\n",
       "                        <td id=\"T_8f424768_dfc6_11ea_9af5_acde48001122row2_col4\" class=\"data row2 col4\" >0.079923</td>\n",
       "                        <td id=\"T_8f424768_dfc6_11ea_9af5_acde48001122row2_col5\" class=\"data row2 col5\" >0.148123</td>\n",
       "            </tr>\n",
       "            <tr>\n",
       "                        <th id=\"T_8f424768_dfc6_11ea_9af5_acde48001122level0_row3\" class=\"row_heading level0 row3\" > capital-gain</th>\n",
       "                        <td id=\"T_8f424768_dfc6_11ea_9af5_acde48001122row3_col0\" class=\"data row3 col0\" >0.077674</td>\n",
       "                        <td id=\"T_8f424768_dfc6_11ea_9af5_acde48001122row3_col1\" class=\"data row3 col1\" >0.000432</td>\n",
       "                        <td id=\"T_8f424768_dfc6_11ea_9af5_acde48001122row3_col2\" class=\"data row3 col2\" >0.122630</td>\n",
       "                        <td id=\"T_8f424768_dfc6_11ea_9af5_acde48001122row3_col3\" class=\"data row3 col3\" >1.000000</td>\n",
       "                        <td id=\"T_8f424768_dfc6_11ea_9af5_acde48001122row3_col4\" class=\"data row3 col4\" >-0.031615</td>\n",
       "                        <td id=\"T_8f424768_dfc6_11ea_9af5_acde48001122row3_col5\" class=\"data row3 col5\" >0.078409</td>\n",
       "            </tr>\n",
       "            <tr>\n",
       "                        <th id=\"T_8f424768_dfc6_11ea_9af5_acde48001122level0_row4\" class=\"row_heading level0 row4\" > capital-loss</th>\n",
       "                        <td id=\"T_8f424768_dfc6_11ea_9af5_acde48001122row4_col0\" class=\"data row4 col0\" >0.057775</td>\n",
       "                        <td id=\"T_8f424768_dfc6_11ea_9af5_acde48001122row4_col1\" class=\"data row4 col1\" >-0.010252</td>\n",
       "                        <td id=\"T_8f424768_dfc6_11ea_9af5_acde48001122row4_col2\" class=\"data row4 col2\" >0.079923</td>\n",
       "                        <td id=\"T_8f424768_dfc6_11ea_9af5_acde48001122row4_col3\" class=\"data row4 col3\" >-0.031615</td>\n",
       "                        <td id=\"T_8f424768_dfc6_11ea_9af5_acde48001122row4_col4\" class=\"data row4 col4\" >1.000000</td>\n",
       "                        <td id=\"T_8f424768_dfc6_11ea_9af5_acde48001122row4_col5\" class=\"data row4 col5\" >0.054256</td>\n",
       "            </tr>\n",
       "            <tr>\n",
       "                        <th id=\"T_8f424768_dfc6_11ea_9af5_acde48001122level0_row5\" class=\"row_heading level0 row5\" > hours-per-week</th>\n",
       "                        <td id=\"T_8f424768_dfc6_11ea_9af5_acde48001122row5_col0\" class=\"data row5 col0\" >0.068756</td>\n",
       "                        <td id=\"T_8f424768_dfc6_11ea_9af5_acde48001122row5_col1\" class=\"data row5 col1\" >-0.018768</td>\n",
       "                        <td id=\"T_8f424768_dfc6_11ea_9af5_acde48001122row5_col2\" class=\"data row5 col2\" >0.148123</td>\n",
       "                        <td id=\"T_8f424768_dfc6_11ea_9af5_acde48001122row5_col3\" class=\"data row5 col3\" >0.078409</td>\n",
       "                        <td id=\"T_8f424768_dfc6_11ea_9af5_acde48001122row5_col4\" class=\"data row5 col4\" >0.054256</td>\n",
       "                        <td id=\"T_8f424768_dfc6_11ea_9af5_acde48001122row5_col5\" class=\"data row5 col5\" >1.000000</td>\n",
       "            </tr>\n",
       "    </tbody></table>"
      ],
      "text/plain": [
       "<pandas.io.formats.style.Styler at 0x7ffd3ff641d0>"
      ]
     },
     "execution_count": 61,
     "metadata": {},
     "output_type": "execute_result"
    }
   ],
   "source": [
    "incomeX.corr().style.background_gradient()"
   ]
  },
  {
   "cell_type": "code",
   "execution_count": 62,
   "metadata": {},
   "outputs": [
    {
     "data": {
      "text/plain": [
       "0"
      ]
     },
     "execution_count": 62,
     "metadata": {},
     "output_type": "execute_result"
    }
   ],
   "source": [
    "incomey.isnull().sum()"
   ]
  },
  {
   "cell_type": "code",
   "execution_count": 63,
   "metadata": {},
   "outputs": [
    {
     "data": {
      "text/plain": [
       "1    24720\n",
       "0     7841\n",
       "Name:  income, dtype: int64"
      ]
     },
     "execution_count": 63,
     "metadata": {},
     "output_type": "execute_result"
    }
   ],
   "source": [
    "incomey.value_counts()"
   ]
  },
  {
   "cell_type": "markdown",
   "metadata": {},
   "source": [
    "### Now let's take a deeper dive into some charts and identify any patterns using the Seaborn library"
   ]
  },
  {
   "cell_type": "code",
   "execution_count": 64,
   "metadata": {},
   "outputs": [
    {
     "data": {
      "image/png": "[encoded data removed]",
      "text/plain": [
       "<Figure size 1008x720 with 1 Axes>"
      ]
     },
     "metadata": {
      "needs_background": "light"
     },
     "output_type": "display_data"
    }
   ],
   "source": [
    "f, ax = plt.subplots(figsize=(14, 10))\n",
    "ax = sns.stripplot(x=\" income\", y=\"age\",hue=' sex',data=income)\n",
    "ax.set_title(\"age Vs. sex variable with regardles to income\")\n",
    "ax.legend(loc='center')\n",
    "plt.show()"
   ]
  },
  {
   "cell_type": "markdown",
   "metadata": {},
   "source": [
    "### The graph above demonstrates that Males earn more than Females"
   ]
  },
  {
   "cell_type": "code",
   "execution_count": 65,
   "metadata": {},
   "outputs": [
    {
     "data": {
      "image/png": "[encoded data removed]",
      "text/plain": [
       "<Figure size 1008x720 with 1 Axes>"
      ]
     },
     "metadata": {
      "needs_background": "light"
     },
     "output_type": "display_data"
    }
   ],
   "source": [
    "f, ax = plt.subplots(figsize=(14, 10))\n",
    "ax = sns.violinplot(x=\" income\", y=\" education-num\",data=income)\n",
    "ax.set_title(\"education with regardles to income\")\n",
    "plt.show()"
   ]
  },
  {
   "cell_type": "code",
   "execution_count": 145,
   "metadata": {},
   "outputs": [
    {
     "data": {
      "image/png": "[encoded data removed]",
      "text/plain": [
       "<Figure size 1368x432 with 1 Axes>"
      ]
     },
     "metadata": {
      "needs_background": "light"
     },
     "output_type": "display_data"
    }
   ],
   "source": [
    "pd.crosstab(incomeX[' education'],incomey).plot(kind='bar',figsize=(19,6))\n",
    "plt.title('Education')\n",
    "plt.xticks(rotation=0)\n",
    "plt.ylabel('Population')\n",
    "plt.show()"
   ]
  },
  {
   "cell_type": "markdown",
   "metadata": {},
   "source": [
    "### Remember, 0 is income >50K and 1 is income <=50K\n",
    "\n",
    "### Clearly, there is a positive relationship between education and income"
   ]
  },
  {
   "cell_type": "code",
   "execution_count": 67,
   "metadata": {},
   "outputs": [
    {
     "data": {
      "image/png": "[encoded data removed]",
      "text/plain": [
       "<Figure size 1728x432 with 1 Axes>"
      ]
     },
     "metadata": {
      "needs_background": "light"
     },
     "output_type": "display_data"
    }
   ],
   "source": [
    "pd.crosstab(incomeX[' occupation'],incomey).plot(kind='bar',figsize=(24,6))\n",
    "plt.title('occupation')\n",
    "plt.xticks(rotation=0)\n",
    "plt.ylabel('Population')\n",
    "plt.show()"
   ]
  },
  {
   "cell_type": "markdown",
   "metadata": {},
   "source": [
    "### Remember, 0 is income >50K and 1 is income <=50K\n",
    "\n",
    "### Note: the majority of >50K income is in occupations like Exec-managerial and Prof-Specialty"
   ]
  },
  {
   "cell_type": "code",
   "execution_count": 68,
   "metadata": {},
   "outputs": [
    {
     "data": {
      "image/png": "[encoded data removed]",
      "text/plain": [
       "<Figure size 1728x720 with 1 Axes>"
      ]
     },
     "metadata": {
      "needs_background": "light"
     },
     "output_type": "display_data"
    }
   ],
   "source": [
    "pd.crosstab(incomeX[' native-country'],incomey).plot(kind='bar',figsize=(24,10))\n",
    "plt.title(' country')\n",
    "plt.xticks(rotation=0)\n",
    "plt.ylabel('Population')\n",
    "plt.show()"
   ]
  },
  {
   "cell_type": "markdown",
   "metadata": {},
   "source": [
    "### This graph above demonstrates that the native country isn't a very good indicator of income because the majority of people in this dataset is from the United States"
   ]
  },
  {
   "cell_type": "markdown",
   "metadata": {},
   "source": [
    "### The Function below is for one hot encoding for out categorical variables"
   ]
  },
  {
   "cell_type": "code",
   "execution_count": 69,
   "metadata": {},
   "outputs": [],
   "source": [
    "def make_dummies(dataset, list_of_variable_names):\n",
    "    for i in list_of_variable_names:\n",
    "        dataset = pd.concat([dataset, pd.get_dummies(dataset[i], prefix=i).iloc[:,0:-1]], axis=1)\n",
    "        dataset = dataset.drop(i, axis=1)\n",
    "    return dataset"
   ]
  },
  {
   "cell_type": "code",
   "execution_count": 70,
   "metadata": {},
   "outputs": [],
   "source": [
    "incomeX1=make_dummies(incomeX, [' workclass', ' education', ' marital-status', ' occupation',' relationship',' race',' sex',' native-country'])\n"
   ]
  },
  {
   "cell_type": "code",
   "execution_count": 71,
   "metadata": {},
   "outputs": [
    {
     "data": {
      "text/plain": [
       "(32561, 97)"
      ]
     },
     "execution_count": 71,
     "metadata": {},
     "output_type": "execute_result"
    }
   ],
   "source": [
    "incomeX1.shape"
   ]
  },
  {
   "cell_type": "code",
   "execution_count": 72,
   "metadata": {},
   "outputs": [],
   "source": [
    "trainX, testX, trainy, testy = model_selection.train_test_split(incomeX1, incomey, test_size = 0.3, random_state=53)"
   ]
  },
  {
   "cell_type": "code",
   "execution_count": 73,
   "metadata": {},
   "outputs": [
    {
     "data": {
      "text/plain": [
       "(22792, 97)"
      ]
     },
     "execution_count": 73,
     "metadata": {},
     "output_type": "execute_result"
    }
   ],
   "source": [
    "trainX.shape"
   ]
  },
  {
   "cell_type": "code",
   "execution_count": 74,
   "metadata": {},
   "outputs": [
    {
     "data": {
      "text/html": [
       "<div>\n",
       "<style scoped>\n",
       "    .dataframe tbody tr th:only-of-type {\n",
       "        vertical-align: middle;\n",
       "    }\n",
       "\n",
       "    .dataframe tbody tr th {\n",
       "        vertical-align: top;\n",
       "    }\n",
       "\n",
       "    .dataframe thead th {\n",
       "        text-align: right;\n",
       "    }\n",
       "</style>\n",
       "<table border=\"1\" class=\"dataframe\">\n",
       "  <thead>\n",
       "    <tr style=\"text-align: right;\">\n",
       "      <th></th>\n",
       "      <th>age</th>\n",
       "      <th>fnlwgt</th>\n",
       "      <th>education-num</th>\n",
       "      <th>capital-gain</th>\n",
       "      <th>capital-loss</th>\n",
       "      <th>hours-per-week</th>\n",
       "      <th>workclass_ Federal-gov</th>\n",
       "      <th>workclass_ Local-gov</th>\n",
       "      <th>workclass_ Never-worked</th>\n",
       "      <th>workclass_ Private</th>\n",
       "      <th>...</th>\n",
       "      <th>native-country_ Poland</th>\n",
       "      <th>native-country_ Portugal</th>\n",
       "      <th>native-country_ Puerto-Rico</th>\n",
       "      <th>native-country_ Scotland</th>\n",
       "      <th>native-country_ South</th>\n",
       "      <th>native-country_ Taiwan</th>\n",
       "      <th>native-country_ Thailand</th>\n",
       "      <th>native-country_ Trinadad&amp;Tobago</th>\n",
       "      <th>native-country_ United-States</th>\n",
       "      <th>native-country_ Vietnam</th>\n",
       "    </tr>\n",
       "  </thead>\n",
       "  <tbody>\n",
       "    <tr>\n",
       "      <th>3161</th>\n",
       "      <td>21</td>\n",
       "      <td>275726</td>\n",
       "      <td>9</td>\n",
       "      <td>0</td>\n",
       "      <td>0</td>\n",
       "      <td>40</td>\n",
       "      <td>0</td>\n",
       "      <td>0</td>\n",
       "      <td>0</td>\n",
       "      <td>1</td>\n",
       "      <td>...</td>\n",
       "      <td>0</td>\n",
       "      <td>0</td>\n",
       "      <td>0</td>\n",
       "      <td>0</td>\n",
       "      <td>0</td>\n",
       "      <td>0</td>\n",
       "      <td>0</td>\n",
       "      <td>0</td>\n",
       "      <td>1</td>\n",
       "      <td>0</td>\n",
       "    </tr>\n",
       "    <tr>\n",
       "      <th>29620</th>\n",
       "      <td>37</td>\n",
       "      <td>314963</td>\n",
       "      <td>10</td>\n",
       "      <td>0</td>\n",
       "      <td>0</td>\n",
       "      <td>40</td>\n",
       "      <td>0</td>\n",
       "      <td>0</td>\n",
       "      <td>0</td>\n",
       "      <td>1</td>\n",
       "      <td>...</td>\n",
       "      <td>0</td>\n",
       "      <td>0</td>\n",
       "      <td>0</td>\n",
       "      <td>0</td>\n",
       "      <td>0</td>\n",
       "      <td>0</td>\n",
       "      <td>0</td>\n",
       "      <td>0</td>\n",
       "      <td>1</td>\n",
       "      <td>0</td>\n",
       "    </tr>\n",
       "    <tr>\n",
       "      <th>31002</th>\n",
       "      <td>19</td>\n",
       "      <td>301911</td>\n",
       "      <td>10</td>\n",
       "      <td>0</td>\n",
       "      <td>0</td>\n",
       "      <td>35</td>\n",
       "      <td>0</td>\n",
       "      <td>0</td>\n",
       "      <td>0</td>\n",
       "      <td>1</td>\n",
       "      <td>...</td>\n",
       "      <td>0</td>\n",
       "      <td>0</td>\n",
       "      <td>0</td>\n",
       "      <td>0</td>\n",
       "      <td>0</td>\n",
       "      <td>0</td>\n",
       "      <td>0</td>\n",
       "      <td>0</td>\n",
       "      <td>0</td>\n",
       "      <td>0</td>\n",
       "    </tr>\n",
       "    <tr>\n",
       "      <th>28845</th>\n",
       "      <td>31</td>\n",
       "      <td>272856</td>\n",
       "      <td>9</td>\n",
       "      <td>0</td>\n",
       "      <td>0</td>\n",
       "      <td>50</td>\n",
       "      <td>0</td>\n",
       "      <td>0</td>\n",
       "      <td>0</td>\n",
       "      <td>1</td>\n",
       "      <td>...</td>\n",
       "      <td>0</td>\n",
       "      <td>0</td>\n",
       "      <td>0</td>\n",
       "      <td>0</td>\n",
       "      <td>0</td>\n",
       "      <td>0</td>\n",
       "      <td>0</td>\n",
       "      <td>0</td>\n",
       "      <td>0</td>\n",
       "      <td>0</td>\n",
       "    </tr>\n",
       "    <tr>\n",
       "      <th>3391</th>\n",
       "      <td>20</td>\n",
       "      <td>368852</td>\n",
       "      <td>10</td>\n",
       "      <td>0</td>\n",
       "      <td>0</td>\n",
       "      <td>20</td>\n",
       "      <td>0</td>\n",
       "      <td>0</td>\n",
       "      <td>0</td>\n",
       "      <td>1</td>\n",
       "      <td>...</td>\n",
       "      <td>0</td>\n",
       "      <td>0</td>\n",
       "      <td>0</td>\n",
       "      <td>0</td>\n",
       "      <td>0</td>\n",
       "      <td>0</td>\n",
       "      <td>0</td>\n",
       "      <td>0</td>\n",
       "      <td>1</td>\n",
       "      <td>0</td>\n",
       "    </tr>\n",
       "  </tbody>\n",
       "</table>\n",
       "<p>5 rows × 97 columns</p>\n",
       "</div>"
      ],
      "text/plain": [
       "       age   fnlwgt   education-num   capital-gain   capital-loss  \\\n",
       "3161    21   275726               9              0              0   \n",
       "29620   37   314963              10              0              0   \n",
       "31002   19   301911              10              0              0   \n",
       "28845   31   272856               9              0              0   \n",
       "3391    20   368852              10              0              0   \n",
       "\n",
       "        hours-per-week   workclass_ Federal-gov   workclass_ Local-gov  \\\n",
       "3161                40                        0                      0   \n",
       "29620               40                        0                      0   \n",
       "31002               35                        0                      0   \n",
       "28845               50                        0                      0   \n",
       "3391                20                        0                      0   \n",
       "\n",
       "        workclass_ Never-worked   workclass_ Private  ...  \\\n",
       "3161                          0                    1  ...   \n",
       "29620                         0                    1  ...   \n",
       "31002                         0                    1  ...   \n",
       "28845                         0                    1  ...   \n",
       "3391                          0                    1  ...   \n",
       "\n",
       "        native-country_ Poland   native-country_ Portugal  \\\n",
       "3161                         0                          0   \n",
       "29620                        0                          0   \n",
       "31002                        0                          0   \n",
       "28845                        0                          0   \n",
       "3391                         0                          0   \n",
       "\n",
       "        native-country_ Puerto-Rico   native-country_ Scotland  \\\n",
       "3161                              0                          0   \n",
       "29620                             0                          0   \n",
       "31002                             0                          0   \n",
       "28845                             0                          0   \n",
       "3391                              0                          0   \n",
       "\n",
       "        native-country_ South   native-country_ Taiwan  \\\n",
       "3161                        0                        0   \n",
       "29620                       0                        0   \n",
       "31002                       0                        0   \n",
       "28845                       0                        0   \n",
       "3391                        0                        0   \n",
       "\n",
       "        native-country_ Thailand   native-country_ Trinadad&Tobago  \\\n",
       "3161                           0                                 0   \n",
       "29620                          0                                 0   \n",
       "31002                          0                                 0   \n",
       "28845                          0                                 0   \n",
       "3391                           0                                 0   \n",
       "\n",
       "        native-country_ United-States   native-country_ Vietnam  \n",
       "3161                                1                         0  \n",
       "29620                               1                         0  \n",
       "31002                               0                         0  \n",
       "28845                               0                         0  \n",
       "3391                                1                         0  \n",
       "\n",
       "[5 rows x 97 columns]"
      ]
     },
     "execution_count": 74,
     "metadata": {},
     "output_type": "execute_result"
    }
   ],
   "source": [
    "testX.head()"
   ]
  },
  {
   "cell_type": "markdown",
   "metadata": {},
   "source": [
    "### Function below calculates metrics for all the modeling we do later"
   ]
  },
  {
   "cell_type": "code",
   "execution_count": 75,
   "metadata": {},
   "outputs": [],
   "source": [
    "def calculate_four_metrics (confusion_matrix):\n",
    "    Sensitivity = confusion_matrix.iloc[1,1] / confusion_matrix.iloc[1].sum() \n",
    "    Specificity = confusion_matrix.iloc[0,0] / confusion_matrix.iloc[0].sum()\n",
    "    Precision = confusion_matrix.iloc[1,1] / confusion_matrix.iloc[:,1].sum()\n",
    "    Accuracy =  np.diag(confusion_matrix).sum() / confusion_matrix.sum().sum()\n",
    "    return(Sensitivity, Specificity, Precision, Accuracy) "
   ]
  },
  {
   "cell_type": "markdown",
   "metadata": {},
   "source": [
    "### Logistic Regression:"
   ]
  },
  {
   "cell_type": "code",
   "execution_count": 76,
   "metadata": {},
   "outputs": [],
   "source": [
    "trainX1 = sm.add_constant(trainX)\n",
    "testX1 = sm.add_constant(testX)"
   ]
  },
  {
   "cell_type": "code",
   "execution_count": 77,
   "metadata": {},
   "outputs": [
    {
     "name": "stdout",
     "output_type": "stream",
     "text": [
      "<class 'pandas.core.frame.DataFrame'>\n",
      "Int64Index: 22792 entries, 3067 to 24089\n",
      "Data columns (total 98 columns):\n",
      " #   Column                                       Non-Null Count  Dtype  \n",
      "---  ------                                       --------------  -----  \n",
      " 0   const                                        22792 non-null  float64\n",
      " 1   age                                          22792 non-null  int64  \n",
      " 2    fnlwgt                                      22792 non-null  int64  \n",
      " 3    education-num                               22792 non-null  int64  \n",
      " 4    capital-gain                                22792 non-null  int64  \n",
      " 5    capital-loss                                22792 non-null  int64  \n",
      " 6    hours-per-week                              22792 non-null  int64  \n",
      " 7    workclass_ Federal-gov                      22792 non-null  uint8  \n",
      " 8    workclass_ Local-gov                        22792 non-null  uint8  \n",
      " 9    workclass_ Never-worked                     22792 non-null  uint8  \n",
      " 10   workclass_ Private                          22792 non-null  uint8  \n",
      " 11   workclass_ Self-emp-inc                     22792 non-null  uint8  \n",
      " 12   workclass_ Self-emp-not-inc                 22792 non-null  uint8  \n",
      " 13   workclass_ State-gov                        22792 non-null  uint8  \n",
      " 14   education_ 10th                             22792 non-null  uint8  \n",
      " 15   education_ 11th                             22792 non-null  uint8  \n",
      " 16   education_ 12th                             22792 non-null  uint8  \n",
      " 17   education_ 1st-4th                          22792 non-null  uint8  \n",
      " 18   education_ 5th-6th                          22792 non-null  uint8  \n",
      " 19   education_ 7th-8th                          22792 non-null  uint8  \n",
      " 20   education_ 9th                              22792 non-null  uint8  \n",
      " 21   education_ Assoc-acdm                       22792 non-null  uint8  \n",
      " 22   education_ Assoc-voc                        22792 non-null  uint8  \n",
      " 23   education_ Bachelors                        22792 non-null  uint8  \n",
      " 24   education_ Doctorate                        22792 non-null  uint8  \n",
      " 25   education_ HS-grad                          22792 non-null  uint8  \n",
      " 26   education_ Masters                          22792 non-null  uint8  \n",
      " 27   education_ Preschool                        22792 non-null  uint8  \n",
      " 28   education_ Prof-school                      22792 non-null  uint8  \n",
      " 29   marital-status_ Divorced                    22792 non-null  uint8  \n",
      " 30   marital-status_ Married-AF-spouse           22792 non-null  uint8  \n",
      " 31   marital-status_ Married-civ-spouse          22792 non-null  uint8  \n",
      " 32   marital-status_ Married-spouse-absent       22792 non-null  uint8  \n",
      " 33   marital-status_ Never-married               22792 non-null  uint8  \n",
      " 34   marital-status_ Separated                   22792 non-null  uint8  \n",
      " 35   occupation_ Adm-clerical                    22792 non-null  uint8  \n",
      " 36   occupation_ Armed-Forces                    22792 non-null  uint8  \n",
      " 37   occupation_ Craft-repair                    22792 non-null  uint8  \n",
      " 38   occupation_ Exec-managerial                 22792 non-null  uint8  \n",
      " 39   occupation_ Farming-fishing                 22792 non-null  uint8  \n",
      " 40   occupation_ Handlers-cleaners               22792 non-null  uint8  \n",
      " 41   occupation_ Machine-op-inspct               22792 non-null  uint8  \n",
      " 42   occupation_ Other-service                   22792 non-null  uint8  \n",
      " 43   occupation_ Priv-house-serv                 22792 non-null  uint8  \n",
      " 44   occupation_ Prof-specialty                  22792 non-null  uint8  \n",
      " 45   occupation_ Protective-serv                 22792 non-null  uint8  \n",
      " 46   occupation_ Sales                           22792 non-null  uint8  \n",
      " 47   occupation_ Tech-support                    22792 non-null  uint8  \n",
      " 48   relationship_ Husband                       22792 non-null  uint8  \n",
      " 49   relationship_ Not-in-family                 22792 non-null  uint8  \n",
      " 50   relationship_ Other-relative                22792 non-null  uint8  \n",
      " 51   relationship_ Own-child                     22792 non-null  uint8  \n",
      " 52   relationship_ Unmarried                     22792 non-null  uint8  \n",
      " 53   race_ Amer-Indian-Eskimo                    22792 non-null  uint8  \n",
      " 54   race_ Asian-Pac-Islander                    22792 non-null  uint8  \n",
      " 55   race_ Black                                 22792 non-null  uint8  \n",
      " 56   race_ Other                                 22792 non-null  uint8  \n",
      " 57   sex_ Female                                 22792 non-null  uint8  \n",
      " 58   native-country_ Cambodia                    22792 non-null  uint8  \n",
      " 59   native-country_ Canada                      22792 non-null  uint8  \n",
      " 60   native-country_ China                       22792 non-null  uint8  \n",
      " 61   native-country_ Columbia                    22792 non-null  uint8  \n",
      " 62   native-country_ Cuba                        22792 non-null  uint8  \n",
      " 63   native-country_ Dominican-Republic          22792 non-null  uint8  \n",
      " 64   native-country_ Ecuador                     22792 non-null  uint8  \n",
      " 65   native-country_ El-Salvador                 22792 non-null  uint8  \n",
      " 66   native-country_ England                     22792 non-null  uint8  \n",
      " 67   native-country_ France                      22792 non-null  uint8  \n",
      " 68   native-country_ Germany                     22792 non-null  uint8  \n",
      " 69   native-country_ Greece                      22792 non-null  uint8  \n",
      " 70   native-country_ Guatemala                   22792 non-null  uint8  \n",
      " 71   native-country_ Haiti                       22792 non-null  uint8  \n",
      " 72   native-country_ Holand-Netherlands          22792 non-null  uint8  \n",
      " 73   native-country_ Honduras                    22792 non-null  uint8  \n",
      " 74   native-country_ Hong                        22792 non-null  uint8  \n",
      " 75   native-country_ Hungary                     22792 non-null  uint8  \n",
      " 76   native-country_ India                       22792 non-null  uint8  \n",
      " 77   native-country_ Iran                        22792 non-null  uint8  \n",
      " 78   native-country_ Ireland                     22792 non-null  uint8  \n",
      " 79   native-country_ Italy                       22792 non-null  uint8  \n",
      " 80   native-country_ Jamaica                     22792 non-null  uint8  \n",
      " 81   native-country_ Japan                       22792 non-null  uint8  \n",
      " 82   native-country_ Laos                        22792 non-null  uint8  \n",
      " 83   native-country_ Mexico                      22792 non-null  uint8  \n",
      " 84   native-country_ Nicaragua                   22792 non-null  uint8  \n",
      " 85   native-country_ Outlying-US(Guam-USVI-etc)  22792 non-null  uint8  \n",
      " 86   native-country_ Peru                        22792 non-null  uint8  \n",
      " 87   native-country_ Philippines                 22792 non-null  uint8  \n",
      " 88   native-country_ Poland                      22792 non-null  uint8  \n",
      " 89   native-country_ Portugal                    22792 non-null  uint8  \n",
      " 90   native-country_ Puerto-Rico                 22792 non-null  uint8  \n",
      " 91   native-country_ Scotland                    22792 non-null  uint8  \n",
      " 92   native-country_ South                       22792 non-null  uint8  \n",
      " 93   native-country_ Taiwan                      22792 non-null  uint8  \n",
      " 94   native-country_ Thailand                    22792 non-null  uint8  \n",
      " 95   native-country_ Trinadad&Tobago             22792 non-null  uint8  \n",
      " 96   native-country_ United-States               22792 non-null  uint8  \n",
      " 97   native-country_ Vietnam                     22792 non-null  uint8  \n",
      "dtypes: float64(1), int64(6), uint8(91)\n",
      "memory usage: 3.4 MB\n"
     ]
    }
   ],
   "source": [
    "trainX1.info()"
   ]
  },
  {
   "cell_type": "code",
   "execution_count": 78,
   "metadata": {},
   "outputs": [
    {
     "name": "stdout",
     "output_type": "stream",
     "text": [
      "                            OLS Regression Results                            \n",
      "==============================================================================\n",
      "Dep. Variable:                 income   R-squared:                       0.369\n",
      "Model:                            OLS   Adj. R-squared:                  0.366\n",
      "Method:                 Least Squares   F-statistic:                     138.0\n",
      "Date:                Sun, 16 Aug 2020   Prob (F-statistic):               0.00\n",
      "Time:                        09:44:22   Log-Likelihood:                -7691.6\n",
      "No. Observations:               22792   AIC:                         1.558e+04\n",
      "Df Residuals:                   22695   BIC:                         1.636e+04\n",
      "Df Model:                          96                                         \n",
      "Covariance Type:            nonrobust                                         \n",
      "===============================================================================================================\n",
      "                                                  coef    std err          t      P>|t|      [0.025      0.975]\n",
      "---------------------------------------------------------------------------------------------------------------\n",
      "const                                           0.9794      0.115      8.510      0.000       0.754       1.205\n",
      "age                                            -0.0024      0.000    -10.985      0.000      -0.003      -0.002\n",
      " fnlwgt                                     -5.311e-08   2.21e-08     -2.407      0.016   -9.64e-08   -9.86e-09\n",
      " education-num                                 -0.0005      0.003     -0.133      0.894      -0.007       0.006\n",
      " capital-gain                               -7.716e-06   3.08e-07    -25.076      0.000   -8.32e-06   -7.11e-06\n",
      " capital-loss                               -8.756e-05   5.72e-06    -15.296      0.000   -9.88e-05   -7.63e-05\n",
      " hours-per-week                                -0.0030      0.000    -14.748      0.000      -0.003      -0.003\n",
      " workclass_ Federal-gov                        -0.2346      0.099     -2.363      0.018      -0.429      -0.040\n",
      " workclass_ Local-gov                          -0.1221      0.099     -1.235      0.217      -0.316       0.072\n",
      " workclass_ Never-worked                       -0.0845      0.181     -0.466      0.641      -0.440       0.271\n",
      " workclass_ Private                            -0.1425      0.098     -1.448      0.148      -0.335       0.050\n",
      " workclass_ Self-emp-inc                       -0.2040      0.099     -2.056      0.040      -0.398      -0.009\n",
      " workclass_ Self-emp-not-inc                   -0.0860      0.099     -0.871      0.384      -0.279       0.107\n",
      " workclass_ State-gov                          -0.1007      0.099     -1.016      0.310      -0.295       0.094\n",
      " education_ 10th                                0.0774      0.019      4.108      0.000       0.040       0.114\n",
      " education_ 11th                                0.0611      0.016      3.835      0.000       0.030       0.092\n",
      " education_ 12th                                0.0507      0.021      2.430      0.015       0.010       0.092\n",
      " education_ 1st-4th                             0.1191      0.039      3.058      0.002       0.043       0.195\n",
      " education_ 5th-6th                             0.1198      0.032      3.747      0.000       0.057       0.183\n",
      " education_ 7th-8th                             0.1588      0.025      6.320      0.000       0.110       0.208\n",
      " education_ 9th                                 0.1096      0.024      4.511      0.000       0.062       0.157\n",
      " education_ Assoc-acdm                         -0.0363      0.015     -2.388      0.017      -0.066      -0.007\n",
      " education_ Assoc-voc                          -0.0189      0.013     -1.491      0.136      -0.044       0.006\n",
      " education_ Bachelors                          -0.1225      0.013     -9.494      0.000      -0.148      -0.097\n",
      " education_ Doctorate                          -0.3429      0.028    -12.074      0.000      -0.399      -0.287\n",
      " education_ HS-grad                             0.0476      0.007      6.907      0.000       0.034       0.061\n",
      " education_ Masters                            -0.2235      0.018    -12.573      0.000      -0.258      -0.189\n",
      " education_ Preschool                           0.1105      0.059      1.864      0.062      -0.006       0.227\n",
      " education_ Prof-school                        -0.2913      0.025    -11.721      0.000      -0.340      -0.243\n",
      " marital-status_ Divorced                       0.0220      0.015      1.491      0.136      -0.007       0.051\n",
      " marital-status_ Married-AF-spouse             -0.1725      0.085     -2.024      0.043      -0.340      -0.005\n",
      " marital-status_ Married-civ-spouse            -0.0893      0.031     -2.922      0.003      -0.149      -0.029\n",
      " marital-status_ Married-spouse-absent          0.0089      0.025      0.361      0.718      -0.039       0.057\n",
      " marital-status_ Never-married                  0.0332      0.015      2.174      0.030       0.003       0.063\n",
      " marital-status_ Separated                      0.0192      0.019      1.030      0.303      -0.017       0.056\n",
      " occupation_ Adm-clerical                      -0.0454      0.013     -3.565      0.000      -0.070      -0.020\n",
      " occupation_ Armed-Forces                       0.0376      0.140      0.269      0.788      -0.237       0.312\n",
      " occupation_ Craft-repair                      -0.0272      0.012     -2.275      0.023      -0.051      -0.004\n",
      " occupation_ Exec-managerial                   -0.1617      0.012    -12.959      0.000      -0.186      -0.137\n",
      " occupation_ Farming-fishing                    0.0698      0.017      4.147      0.000       0.037       0.103\n",
      " occupation_ Handlers-cleaners                  0.0118      0.015      0.785      0.432      -0.018       0.041\n",
      " occupation_ Machine-op-inspct                  0.0050      0.014      0.362      0.717      -0.022       0.032\n",
      " occupation_ Other-service                     -0.0229      0.013     -1.795      0.073      -0.048       0.002\n",
      " occupation_ Priv-house-serv                   -0.0516      0.036     -1.445      0.148      -0.122       0.018\n",
      " occupation_ Prof-specialty                    -0.0695      0.012     -5.660      0.000      -0.094      -0.045\n",
      " occupation_ Protective-serv                   -0.1061      0.020     -5.406      0.000      -0.145      -0.068\n",
      " occupation_ Sales                             -0.0779      0.013     -6.219      0.000      -0.102      -0.053\n",
      " occupation_ Tech-support                      -0.1137      0.017     -6.590      0.000      -0.148      -0.080\n",
      " relationship_ Husband                          0.1159      0.013      9.097      0.000       0.091       0.141\n",
      " relationship_ Not-in-family                    0.2757      0.030      9.327      0.000       0.218       0.334\n",
      " relationship_ Other-relative                   0.2526      0.029      8.666      0.000       0.196       0.310\n",
      " relationship_ Own-child                        0.2534      0.029      8.649      0.000       0.196       0.311\n",
      " relationship_ Unmarried                        0.2654      0.030      8.816      0.000       0.206       0.324\n",
      " race_ Amer-Indian-Eskimo                       0.0573      0.023      2.501      0.012       0.012       0.102\n",
      " race_ Asian-Pac-Islander                       0.0157      0.019      0.808      0.419      -0.022       0.054\n",
      " race_ Black                                    0.0105      0.008      1.296      0.195      -0.005       0.026\n",
      " race_ Other                                    0.0354      0.026      1.352      0.176      -0.016       0.087\n",
      " sex_ Female                                    0.0614      0.007      9.103      0.000       0.048       0.075\n",
      " native-country_ Cambodia                      -0.2120      0.137     -1.543      0.123      -0.481       0.057\n",
      " native-country_ Canada                         0.0695      0.105      0.661      0.508      -0.136       0.275\n",
      " native-country_ China                          0.0986      0.110      0.895      0.371      -0.117       0.315\n",
      " native-country_ Columbia                       0.1360      0.112      1.210      0.226      -0.084       0.356\n",
      " native-country_ Cuba                           0.0079      0.107      0.073      0.942      -0.202       0.218\n",
      " native-country_ Dominican-Republic             0.1055      0.110      0.958      0.338      -0.110       0.321\n",
      " native-country_ Ecuador                        0.0603      0.130      0.463      0.644      -0.195       0.316\n",
      " native-country_ El-Salvador                    0.0317      0.107      0.296      0.767      -0.178       0.242\n",
      " native-country_ England                        0.0334      0.107      0.312      0.755      -0.176       0.243\n",
      " native-country_ France                        -0.0206      0.120     -0.172      0.863      -0.255       0.214\n",
      " native-country_ Germany                        0.0157      0.104      0.152      0.879      -0.188       0.219\n",
      " native-country_ Greece                         0.1847      0.123      1.500      0.134      -0.057       0.426\n",
      " native-country_ Guatemala                      0.0220      0.110      0.200      0.842      -0.194       0.238\n",
      " native-country_ Haiti                          0.0572      0.118      0.484      0.629      -0.175       0.289\n",
      " native-country_ Holand-Netherlands             0.2063      0.354      0.582      0.561      -0.488       0.901\n",
      " native-country_ Honduras                       0.0367      0.150      0.244      0.807      -0.258       0.331\n",
      " native-country_ Hong                           0.0858      0.133      0.647      0.518      -0.174       0.346\n",
      " native-country_ Hungary                        0.1248      0.150      0.832      0.405      -0.169       0.419\n",
      " native-country_ India                          0.1143      0.108      1.063      0.288      -0.096       0.325\n",
      " native-country_ Iran                           0.0817      0.118      0.692      0.489      -0.150       0.313\n",
      " native-country_ Ireland                       -0.0333      0.128     -0.260      0.795      -0.285       0.218\n",
      " native-country_ Italy                          0.0005      0.109      0.004      0.996      -0.214       0.215\n",
      " native-country_ Jamaica                        0.0440      0.108      0.408      0.683      -0.168       0.256\n",
      " native-country_ Japan                          0.0632      0.114      0.553      0.580      -0.161       0.287\n",
      " native-country_ Laos                           0.2187      0.140      1.560      0.119      -0.056       0.493\n",
      " native-country_ Mexico                         0.1048      0.100      1.051      0.293      -0.091       0.300\n",
      " native-country_ Nicaragua                      0.1343      0.120      1.123      0.261      -0.100       0.369\n",
      " native-country_ Outlying-US(Guam-USVI-etc)     0.1552      0.162      0.959      0.337      -0.162       0.472\n",
      " native-country_ Peru                           0.1179      0.121      0.973      0.330      -0.120       0.355\n",
      " native-country_ Philippines                    0.0002      0.104      0.002      0.998      -0.203       0.204\n",
      " native-country_ Poland                         0.0899      0.110      0.817      0.414      -0.126       0.306\n",
      " native-country_ Portugal                       0.0639      0.118      0.541      0.588      -0.168       0.295\n",
      " native-country_ Puerto-Rico                    0.0815      0.105      0.773      0.439      -0.125       0.288\n",
      " native-country_ Scotland                       0.0345      0.162      0.214      0.831      -0.282       0.351\n",
      " native-country_ South                          0.1167      0.110      1.064      0.287      -0.098       0.332\n",
      " native-country_ Taiwan                         0.0918      0.114      0.809      0.419      -0.131       0.314\n",
      " native-country_ Thailand                       0.0554      0.143      0.388      0.698      -0.225       0.336\n",
      " native-country_ Trinadad&Tobago                0.0408      0.155      0.262      0.793      -0.264       0.345\n",
      " native-country_ United-States                  0.0451      0.098      0.459      0.646      -0.147       0.238\n",
      " native-country_ Vietnam                        0.1372      0.111      1.232      0.218      -0.081       0.356\n",
      "==============================================================================\n",
      "Omnibus:                     1079.180   Durbin-Watson:                   2.010\n",
      "Prob(Omnibus):                  0.000   Jarque-Bera (JB):             1234.109\n",
      "Skew:                          -0.567   Prob(JB):                    1.04e-268\n",
      "Kurtosis:                       2.881   Cond. No.                     9.22e+15\n",
      "==============================================================================\n",
      "\n",
      "Warnings:\n",
      "[1] Standard Errors assume that the covariance matrix of the errors is correctly specified.\n",
      "[2] The smallest eigenvalue is 1.25e-17. This might indicate that there are\n",
      "strong multicollinearity problems or that the design matrix is singular.\n"
     ]
    }
   ],
   "source": [
    "model = sm.OLS(trainy,trainX1)\n",
    "results = model.fit()\n",
    "print(results.summary())"
   ]
  },
  {
   "cell_type": "code",
   "execution_count": 79,
   "metadata": {},
   "outputs": [
    {
     "data": {
      "image/png": "[encoded data removed]",
      "text/plain": [
       "<Figure size 432x288 with 1 Axes>"
      ]
     },
     "execution_count": 79,
     "metadata": {},
     "output_type": "execute_result"
    },
    {
     "data": {
      "image/png": "[encoded data removed]",
      "text/plain": [
       "<Figure size 432x288 with 1 Axes>"
      ]
     },
     "metadata": {
      "needs_background": "light"
     },
     "output_type": "display_data"
    }
   ],
   "source": [
    "res = results.resid\n",
    "sm.qqplot(res, fit=True, line='45')"
   ]
  },
  {
   "cell_type": "code",
   "execution_count": 80,
   "metadata": {},
   "outputs": [
    {
     "data": {
      "text/plain": [
       "1152.8455096664666"
      ]
     },
     "execution_count": 80,
     "metadata": {},
     "output_type": "execute_result"
    }
   ],
   "source": [
    "predicted_y = results.predict(testX1)\n",
    "((testy - predicted_y)**2).sum()"
   ]
  },
  {
   "cell_type": "markdown",
   "metadata": {},
   "source": [
    "### This model Shows..."
   ]
  },
  {
   "cell_type": "code",
   "execution_count": null,
   "metadata": {},
   "outputs": [],
   "source": []
  },
  {
   "cell_type": "markdown",
   "metadata": {},
   "source": [
    "### Lasso with penalized logistic regression"
   ]
  },
  {
   "cell_type": "code",
   "execution_count": 81,
   "metadata": {},
   "outputs": [],
   "source": [
    "model_logit_lassoCV = linear_model.LogisticRegressionCV(cv=5, Cs=100, penalty='l1', solver='liblinear', random_state=23941).fit(trainX, trainy)\n",
    "model_logit_lasso = linear_model.LogisticRegression(C=model_logit_lassoCV.C_[0], penalty='l1', solver='liblinear')"
   ]
  },
  {
   "cell_type": "code",
   "execution_count": 82,
   "metadata": {},
   "outputs": [
    {
     "data": {
      "text/plain": [
       "0.20565123083486536"
      ]
     },
     "execution_count": 82,
     "metadata": {},
     "output_type": "execute_result"
    }
   ],
   "source": [
    "model_logit_lassoCV.C_[0]"
   ]
  },
  {
   "cell_type": "code",
   "execution_count": 83,
   "metadata": {},
   "outputs": [],
   "source": [
    "model_logit_lasso = linear_model.LogisticRegression(C=model_logit_lassoCV.C_[0], penalty='l1', solver='liblinear')"
   ]
  },
  {
   "cell_type": "code",
   "execution_count": 84,
   "metadata": {},
   "outputs": [
    {
     "data": {
      "text/plain": [
       "LogisticRegression(C=0.20565123083486536, class_weight=None, dual=False,\n",
       "                   fit_intercept=True, intercept_scaling=1, l1_ratio=None,\n",
       "                   max_iter=100, multi_class='auto', n_jobs=None, penalty='l1',\n",
       "                   random_state=None, solver='liblinear', tol=0.0001, verbose=0,\n",
       "                   warm_start=False)"
      ]
     },
     "execution_count": 84,
     "metadata": {},
     "output_type": "execute_result"
    }
   ],
   "source": [
    "model_logit_lasso.fit(trainX, trainy)\n"
   ]
  },
  {
   "cell_type": "code",
   "execution_count": 85,
   "metadata": {},
   "outputs": [
    {
     "name": "stdout",
     "output_type": "stream",
     "text": [
      "Sensitivity:  0.9314827352742044\n",
      "Specificity:  0.5834731543624161\n",
      "Precision:  0.8738567073170732\n",
      "Accuracy:  0.8465554304432388\n"
     ]
    }
   ],
   "source": [
    "confusion_matrix_Lasso = pd.crosstab(testy, model_logit_lasso.predict(testX))\n",
    "Sensitivity_Lasso, Specificity_Lasso, Precision_Lasso, Accuracy_Lasso = calculate_four_metrics(confusion_matrix_Lasso)\n",
    "print(\"Sensitivity: \", Sensitivity_Lasso)\n",
    "print(\"Specificity: \", Specificity_Lasso)\n",
    "print(\"Precision: \", Precision_Lasso)\n",
    "print(\"Accuracy: \", Accuracy_Lasso)"
   ]
  },
  {
   "cell_type": "code",
   "execution_count": null,
   "metadata": {},
   "outputs": [],
   "source": []
  },
  {
   "cell_type": "markdown",
   "metadata": {},
   "source": [
    "### Decision tree (min samples)"
   ]
  },
  {
   "cell_type": "code",
   "execution_count": 86,
   "metadata": {},
   "outputs": [],
   "source": [
    "min_samples = range(10,20)\n",
    "results = np.array([])\n",
    "for min_sample in min_samples:\n",
    "    model_tree = tree.DecisionTreeClassifier(min_samples_leaf=min_sample, random_state=53)\n",
    "    results = np.append(results, \n",
    "                        np.mean(model_selection.cross_val_score(model_tree, trainX, trainy, scoring='recall')))"
   ]
  },
  {
   "cell_type": "code",
   "execution_count": 87,
   "metadata": {},
   "outputs": [
    {
     "data": {
      "text/plain": [
       "array([0.90845111, 0.9141621 , 0.91479665, 0.9194116 , 0.91658494,\n",
       "       0.92033458, 0.91889241, 0.91848861, 0.91964234, 0.92085376])"
      ]
     },
     "execution_count": 87,
     "metadata": {},
     "output_type": "execute_result"
    }
   ],
   "source": [
    "results"
   ]
  },
  {
   "cell_type": "code",
   "execution_count": 88,
   "metadata": {},
   "outputs": [
    {
     "data": {
      "text/plain": [
       "19"
      ]
     },
     "execution_count": 88,
     "metadata": {},
     "output_type": "execute_result"
    }
   ],
   "source": [
    "min_samples[np.argmax(results)]"
   ]
  },
  {
   "cell_type": "code",
   "execution_count": 89,
   "metadata": {},
   "outputs": [
    {
     "data": {
      "text/plain": [
       "DecisionTreeClassifier(ccp_alpha=0.0, class_weight=None, criterion='gini',\n",
       "                       max_depth=None, max_features=None, max_leaf_nodes=None,\n",
       "                       min_impurity_decrease=0.0, min_impurity_split=None,\n",
       "                       min_samples_leaf=19, min_samples_split=2,\n",
       "                       min_weight_fraction_leaf=0.0, presort='deprecated',\n",
       "                       random_state=None, splitter='best')"
      ]
     },
     "execution_count": 89,
     "metadata": {},
     "output_type": "execute_result"
    }
   ],
   "source": [
    "model_treeMIN = tree.DecisionTreeClassifier(min_samples_leaf=min_samples[np.argmax(results)])\n",
    "model_treeMIN.fit(trainX, trainy)"
   ]
  },
  {
   "cell_type": "code",
   "execution_count": 90,
   "metadata": {},
   "outputs": [
    {
     "name": "stdout",
     "output_type": "stream",
     "text": [
      "Sensitivity:  0.9259309410968178\n",
      "Specificity:  0.6048657718120806\n",
      "Precision:  0.8789203084832905\n",
      "Accuracy:  0.8475790766711024\n"
     ]
    }
   ],
   "source": [
    "confusion_matrix_TreeMIN = pd.crosstab(testy, model_treeMIN.predict(testX))\n",
    "Sensitivity_TreeMIN, Specificity_TreeMIN, Precision_TreeMIN, Accuracy_TreeMIN = calculate_four_metrics(confusion_matrix_TreeMIN)\n",
    "print(\"Sensitivity: \", Sensitivity_TreeMIN)\n",
    "print(\"Specificity: \", Specificity_TreeMIN)\n",
    "print(\"Precision: \", Precision_TreeMIN)\n",
    "print(\"Accuracy: \", Accuracy_TreeMIN)"
   ]
  },
  {
   "cell_type": "markdown",
   "metadata": {},
   "source": [
    "### Decision Tree (Max Depths)"
   ]
  },
  {
   "cell_type": "code",
   "execution_count": 91,
   "metadata": {},
   "outputs": [],
   "source": [
    "max_depths = range(10,20)\n",
    "results = np.array([])\n",
    "for max_depth in max_depths:\n",
    "    model_tree = tree.DecisionTreeClassifier(max_depth=max_depth, random_state=53)\n",
    "    results = np.append(results, \n",
    "                        np.mean(model_selection.cross_val_score(model_tree, trainX, trainy, scoring='recall')))"
   ]
  },
  {
   "cell_type": "code",
   "execution_count": 92,
   "metadata": {},
   "outputs": [
    {
     "data": {
      "text/plain": [
       "array([0.94450534, 0.93048745, 0.92708393, 0.92154601, 0.91658494,\n",
       "       0.90625901, 0.89806749, 0.89483703, 0.88906836, 0.88987597])"
      ]
     },
     "execution_count": 92,
     "metadata": {},
     "output_type": "execute_result"
    }
   ],
   "source": [
    "results"
   ]
  },
  {
   "cell_type": "code",
   "execution_count": 93,
   "metadata": {},
   "outputs": [
    {
     "data": {
      "text/plain": [
       "10"
      ]
     },
     "execution_count": 93,
     "metadata": {},
     "output_type": "execute_result"
    }
   ],
   "source": [
    "max_depths[np.argmax(results)]"
   ]
  },
  {
   "cell_type": "code",
   "execution_count": 94,
   "metadata": {},
   "outputs": [
    {
     "data": {
      "text/plain": [
       "DecisionTreeClassifier(ccp_alpha=0.0, class_weight=None, criterion='gini',\n",
       "                       max_depth=10, max_features=None, max_leaf_nodes=None,\n",
       "                       min_impurity_decrease=0.0, min_impurity_split=None,\n",
       "                       min_samples_leaf=1, min_samples_split=2,\n",
       "                       min_weight_fraction_leaf=0.0, presort='deprecated',\n",
       "                       random_state=None, splitter='best')"
      ]
     },
     "execution_count": 94,
     "metadata": {},
     "output_type": "execute_result"
    }
   ],
   "source": [
    "model_treeMAX = tree.DecisionTreeClassifier(max_depth=max_depths[np.argmax(results)])\n",
    "model_treeMAX.fit(trainX, trainy)"
   ]
  },
  {
   "cell_type": "code",
   "execution_count": 95,
   "metadata": {},
   "outputs": [
    {
     "data": {
      "text/plain": [
       "[Text(398.57689144736844, 622.669090909091, 'X[30] <= 0.5\\ngini = 0.364\\nsamples = 22792\\nvalue = [5457, 17335]'),\n",
       " Text(237.67006578947368, 563.3672727272727, 'X[3] <= 7073.5\\ngini = 0.122\\nsamples = 12360\\nvalue = [805, 11555]'),\n",
       " Text(160.11907894736842, 504.0654545454546, 'X[2] <= 12.5\\ngini = 0.092\\nsamples = 12130\\nvalue = [585, 11545]'),\n",
       " Text(105.35921052631579, 444.7636363636364, 'X[4] <= 2218.5\\ngini = 0.047\\nsamples = 9763\\nvalue = [237, 9526]'),\n",
       " Text(69.75, 385.4618181818182, 'X[5] <= 40.5\\ngini = 0.043\\nsamples = 9719\\nvalue = [216, 9503]'),\n",
       " Text(43.80789473684211, 326.16, 'X[29] <= 0.5\\ngini = 0.027\\nsamples = 8016\\nvalue = [109, 7907]'),\n",
       " Text(30.83684210526316, 266.85818181818183, 'X[0] <= 33.5\\ngini = 0.026\\nsamples = 8005\\nvalue = [105, 7900]'),\n",
       " Text(15.663157894736843, 207.55636363636364, 'X[0] <= 28.5\\ngini = 0.006\\nsamples = 4697\\nvalue = [14, 4683]'),\n",
       " Text(7.831578947368421, 148.2545454545455, 'X[69] <= 0.5\\ngini = 0.002\\nsamples = 3828\\nvalue = [4, 3824]'),\n",
       " Text(3.9157894736842107, 88.95272727272732, 'X[44] <= 0.5\\ngini = 0.002\\nsamples = 3814\\nvalue = [3, 3811]'),\n",
       " Text(1.9578947368421054, 29.650909090909067, 'gini = 0.001\\nsamples = 3762\\nvalue = [2, 3760]'),\n",
       " Text(5.873684210526316, 29.650909090909067, 'gini = 0.038\\nsamples = 52\\nvalue = [1, 51]'),\n",
       " Text(11.747368421052633, 88.95272727272732, 'X[9] <= 0.5\\ngini = 0.133\\nsamples = 14\\nvalue = [1, 13]'),\n",
       " Text(9.789473684210527, 29.650909090909067, 'gini = 0.444\\nsamples = 3\\nvalue = [1, 2]'),\n",
       " Text(13.705263157894738, 29.650909090909067, 'gini = 0.0\\nsamples = 11\\nvalue = [0, 11]'),\n",
       " Text(23.494736842105265, 148.2545454545455, 'X[12] <= 0.5\\ngini = 0.023\\nsamples = 869\\nvalue = [10, 859]'),\n",
       " Text(19.578947368421055, 88.95272727272732, 'X[36] <= 0.5\\ngini = 0.019\\nsamples = 839\\nvalue = [8, 831]'),\n",
       " Text(17.621052631578948, 29.650909090909067, 'gini = 0.011\\nsamples = 731\\nvalue = [4, 727]'),\n",
       " Text(21.53684210526316, 29.650909090909067, 'gini = 0.071\\nsamples = 108\\nvalue = [4, 104]'),\n",
       " Text(27.410526315789475, 88.95272727272732, 'X[43] <= 0.5\\ngini = 0.124\\nsamples = 30\\nvalue = [2, 28]'),\n",
       " Text(25.45263157894737, 29.650909090909067, 'gini = 0.069\\nsamples = 28\\nvalue = [1, 27]'),\n",
       " Text(29.36842105263158, 29.650909090909067, 'gini = 0.5\\nsamples = 2\\nvalue = [1, 1]'),\n",
       " Text(46.01052631578948, 207.55636363636364, 'X[56] <= 0.5\\ngini = 0.054\\nsamples = 3308\\nvalue = [91, 3217]'),\n",
       " Text(39.15789473684211, 148.2545454545455, 'X[3] <= 4718.5\\ngini = 0.087\\nsamples = 1156\\nvalue = [53, 1103]'),\n",
       " Text(35.242105263157896, 88.95272727272732, 'X[67] <= 0.5\\ngini = 0.082\\nsamples = 1145\\nvalue = [49, 1096]'),\n",
       " Text(33.28421052631579, 29.650909090909067, 'gini = 0.08\\nsamples = 1144\\nvalue = [48, 1096]'),\n",
       " Text(37.2, 29.650909090909067, 'gini = 0.0\\nsamples = 1\\nvalue = [1, 0]'),\n",
       " Text(43.07368421052632, 88.95272727272732, 'X[3] <= 4826.0\\ngini = 0.463\\nsamples = 11\\nvalue = [4, 7]'),\n",
       " Text(41.11578947368421, 29.650909090909067, 'gini = 0.0\\nsamples = 3\\nvalue = [3, 0]'),\n",
       " Text(45.03157894736842, 29.650909090909067, 'gini = 0.219\\nsamples = 8\\nvalue = [1, 7]'),\n",
       " Text(52.863157894736844, 148.2545454545455, 'X[75] <= 0.5\\ngini = 0.035\\nsamples = 2152\\nvalue = [38, 2114]'),\n",
       " Text(50.90526315789474, 88.95272727272732, 'X[37] <= 0.5\\ngini = 0.034\\nsamples = 2151\\nvalue = [37, 2114]'),\n",
       " Text(48.94736842105264, 29.650909090909067, 'gini = 0.024\\nsamples = 1959\\nvalue = [24, 1935]'),\n",
       " Text(52.863157894736844, 29.650909090909067, 'gini = 0.126\\nsamples = 192\\nvalue = [13, 179]'),\n",
       " Text(54.82105263157895, 88.95272727272732, 'gini = 0.0\\nsamples = 1\\nvalue = [1, 0]'),\n",
       " Text(56.77894736842106, 266.85818181818183, 'X[5] <= 39.0\\ngini = 0.463\\nsamples = 11\\nvalue = [4, 7]'),\n",
       " Text(54.82105263157895, 207.55636363636364, 'gini = 0.0\\nsamples = 6\\nvalue = [0, 6]'),\n",
       " Text(58.73684210526316, 207.55636363636364, 'X[45] <= 0.5\\ngini = 0.32\\nsamples = 5\\nvalue = [4, 1]'),\n",
       " Text(56.77894736842106, 148.2545454545455, 'gini = 0.0\\nsamples = 4\\nvalue = [4, 0]'),\n",
       " Text(60.694736842105264, 148.2545454545455, 'gini = 0.0\\nsamples = 1\\nvalue = [0, 1]'),\n",
       " Text(95.6921052631579, 326.16, 'X[0] <= 41.5\\ngini = 0.118\\nsamples = 1703\\nvalue = [107, 1596]'),\n",
       " Text(79.29473684210527, 266.85818181818183, 'X[3] <= 4668.5\\ngini = 0.078\\nsamples = 1205\\nvalue = [49, 1156]'),\n",
       " Text(72.4421052631579, 207.55636363636364, 'X[1] <= 34243.5\\ngini = 0.074\\nsamples = 1195\\nvalue = [46, 1149]'),\n",
       " Text(64.61052631578947, 148.2545454545455, 'X[36] <= 0.5\\ngini = 0.249\\nsamples = 55\\nvalue = [8, 47]'),\n",
       " Text(60.694736842105264, 88.95272727272732, 'X[1] <= 34145.0\\ngini = 0.18\\nsamples = 50\\nvalue = [5, 45]'),\n",
       " Text(58.73684210526316, 29.650909090909067, 'gini = 0.15\\nsamples = 49\\nvalue = [4, 45]'),\n",
       " Text(62.65263157894737, 29.650909090909067, 'gini = 0.0\\nsamples = 1\\nvalue = [1, 0]'),\n",
       " Text(68.52631578947368, 88.95272727272732, 'X[0] <= 33.5\\ngini = 0.48\\nsamples = 5\\nvalue = [3, 2]'),\n",
       " Text(66.56842105263158, 29.650909090909067, 'gini = 0.444\\nsamples = 3\\nvalue = [1, 2]'),\n",
       " Text(70.48421052631579, 29.650909090909067, 'gini = 0.0\\nsamples = 2\\nvalue = [2, 0]'),\n",
       " Text(80.27368421052633, 148.2545454545455, 'X[2] <= 10.5\\ngini = 0.064\\nsamples = 1140\\nvalue = [38, 1102]'),\n",
       " Text(76.35789473684211, 88.95272727272732, 'X[88] <= 0.5\\ngini = 0.051\\nsamples = 1001\\nvalue = [26, 975]'),\n",
       " Text(74.4, 29.650909090909067, 'gini = 0.049\\nsamples = 999\\nvalue = [25, 974]'),\n",
       " Text(78.31578947368422, 29.650909090909067, 'gini = 0.5\\nsamples = 2\\nvalue = [1, 1]'),\n",
       " Text(84.18947368421053, 88.95272727272732, 'X[1] <= 135854.0\\ngini = 0.158\\nsamples = 139\\nvalue = [12, 127]'),\n",
       " Text(82.23157894736842, 29.650909090909067, 'gini = 0.0\\nsamples = 36\\nvalue = [0, 36]'),\n",
       " Text(86.14736842105263, 29.650909090909067, 'gini = 0.206\\nsamples = 103\\nvalue = [12, 91]'),\n",
       " Text(86.14736842105263, 207.55636363636364, 'X[3] <= 4826.0\\ngini = 0.42\\nsamples = 10\\nvalue = [3, 7]'),\n",
       " Text(84.18947368421053, 148.2545454545455, 'gini = 0.0\\nsamples = 3\\nvalue = [3, 0]'),\n",
       " Text(88.10526315789474, 148.2545454545455, 'gini = 0.0\\nsamples = 7\\nvalue = [0, 7]'),\n",
       " Text(112.08947368421053, 266.85818181818183, 'X[46] <= 0.5\\ngini = 0.206\\nsamples = 498\\nvalue = [58, 440]'),\n",
       " Text(102.78947368421053, 207.55636363636364, 'X[56] <= 0.5\\ngini = 0.194\\nsamples = 488\\nvalue = [53, 435]'),\n",
       " Text(95.93684210526317, 148.2545454545455, 'X[1] <= 361071.0\\ngini = 0.271\\nsamples = 248\\nvalue = [40, 208]'),\n",
       " Text(92.02105263157895, 88.95272727272732, 'X[51] <= 0.5\\ngini = 0.247\\nsamples = 235\\nvalue = [34, 201]'),\n",
       " Text(90.06315789473685, 29.650909090909067, 'gini = 0.198\\nsamples = 188\\nvalue = [21, 167]'),\n",
       " Text(93.97894736842106, 29.650909090909067, 'gini = 0.4\\nsamples = 47\\nvalue = [13, 34]'),\n",
       " Text(99.85263157894737, 88.95272727272732, 'X[1] <= 400531.0\\ngini = 0.497\\nsamples = 13\\nvalue = [6, 7]'),\n",
       " Text(97.89473684210527, 29.650909090909067, 'gini = 0.278\\nsamples = 6\\nvalue = [5, 1]'),\n",
       " Text(101.81052631578947, 29.650909090909067, 'gini = 0.245\\nsamples = 7\\nvalue = [1, 6]'),\n",
       " Text(109.6421052631579, 148.2545454545455, 'X[68] <= 0.5\\ngini = 0.102\\nsamples = 240\\nvalue = [13, 227]'),\n",
       " Text(107.6842105263158, 88.95272727272732, 'X[29] <= 0.5\\ngini = 0.095\\nsamples = 239\\nvalue = [12, 227]'),\n",
       " Text(105.72631578947369, 29.650909090909067, 'gini = 0.088\\nsamples = 238\\nvalue = [11, 227]'),\n",
       " Text(109.6421052631579, 29.650909090909067, 'gini = 0.0\\nsamples = 1\\nvalue = [1, 0]'),\n",
       " Text(111.60000000000001, 88.95272727272732, 'gini = 0.0\\nsamples = 1\\nvalue = [1, 0]'),\n",
       " Text(121.38947368421053, 207.55636363636364, 'X[24] <= 0.5\\ngini = 0.5\\nsamples = 10\\nvalue = [5, 5]'),\n",
       " Text(117.47368421052632, 148.2545454545455, 'X[28] <= 0.5\\ngini = 0.32\\nsamples = 5\\nvalue = [1, 4]'),\n",
       " Text(115.51578947368422, 88.95272727272732, 'gini = 0.0\\nsamples = 1\\nvalue = [1, 0]'),\n",
       " Text(119.43157894736842, 88.95272727272732, 'gini = 0.0\\nsamples = 4\\nvalue = [0, 4]'),\n",
       " Text(125.30526315789474, 148.2545454545455, 'X[28] <= 0.5\\ngini = 0.32\\nsamples = 5\\nvalue = [4, 1]'),\n",
       " Text(123.34736842105264, 88.95272727272732, 'gini = 0.0\\nsamples = 1\\nvalue = [0, 1]'),\n",
       " Text(127.26315789473685, 88.95272727272732, 'gini = 0.0\\nsamples = 4\\nvalue = [4, 0]'),\n",
       " Text(140.96842105263158, 385.4618181818182, 'X[4] <= 3253.5\\ngini = 0.499\\nsamples = 44\\nvalue = [21, 23]'),\n",
       " Text(139.0105263157895, 326.16, 'X[4] <= 2391.5\\ngini = 0.491\\nsamples = 37\\nvalue = [21, 16]'),\n",
       " Text(135.09473684210528, 266.85818181818183, 'X[1] <= 125411.0\\ngini = 0.463\\nsamples = 22\\nvalue = [8, 14]'),\n",
       " Text(133.13684210526316, 207.55636363636364, 'gini = 0.0\\nsamples = 5\\nvalue = [5, 0]'),\n",
       " Text(137.05263157894737, 207.55636363636364, 'X[20] <= 0.5\\ngini = 0.291\\nsamples = 17\\nvalue = [3, 14]'),\n",
       " Text(135.09473684210528, 148.2545454545455, 'X[50] <= 0.5\\ngini = 0.219\\nsamples = 16\\nvalue = [2, 14]'),\n",
       " Text(131.17894736842106, 88.95272727272732, 'X[37] <= 0.5\\ngini = 0.133\\nsamples = 14\\nvalue = [1, 13]'),\n",
       " Text(129.22105263157894, 29.650909090909067, 'gini = 0.0\\nsamples = 12\\nvalue = [0, 12]'),\n",
       " Text(133.13684210526316, 29.650909090909067, 'gini = 0.5\\nsamples = 2\\nvalue = [1, 1]'),\n",
       " Text(139.0105263157895, 88.95272727272732, 'X[37] <= 0.5\\ngini = 0.5\\nsamples = 2\\nvalue = [1, 1]'),\n",
       " Text(137.05263157894737, 29.650909090909067, 'gini = 0.0\\nsamples = 1\\nvalue = [1, 0]'),\n",
       " Text(140.96842105263158, 29.650909090909067, 'gini = 0.0\\nsamples = 1\\nvalue = [0, 1]'),\n",
       " Text(139.0105263157895, 148.2545454545455, 'gini = 0.0\\nsamples = 1\\nvalue = [1, 0]'),\n",
       " Text(142.9263157894737, 266.85818181818183, 'X[1] <= 92086.5\\ngini = 0.231\\nsamples = 15\\nvalue = [13, 2]'),\n",
       " Text(140.96842105263158, 207.55636363636364, 'gini = 0.0\\nsamples = 2\\nvalue = [0, 2]'),\n",
       " Text(144.8842105263158, 207.55636363636364, 'gini = 0.0\\nsamples = 13\\nvalue = [13, 0]'),\n",
       " Text(142.9263157894737, 326.16, 'gini = 0.0\\nsamples = 7\\nvalue = [0, 7]'),\n",
       " Text(214.87894736842105, 444.7636363636364, 'X[0] <= 32.5\\ngini = 0.251\\nsamples = 2367\\nvalue = [348, 2019]'),\n",
       " Text(180.37105263157895, 385.4618181818182, 'X[4] <= 2105.5\\ngini = 0.104\\nsamples = 1109\\nvalue = [61, 1048]'),\n",
       " Text(168.8684210526316, 326.16, 'X[0] <= 27.5\\ngini = 0.096\\nsamples = 1102\\nvalue = [56, 1046]'),\n",
       " Text(157.61052631578949, 266.85818181818183, 'X[29] <= 0.5\\ngini = 0.027\\nsamples = 720\\nvalue = [10, 710]'),\n",
       " Text(155.65263157894736, 207.55636363636364, 'X[33] <= 0.5\\ngini = 0.025\\nsamples = 719\\nvalue = [9, 710]'),\n",
       " Text(150.7578947368421, 148.2545454545455, 'X[5] <= 58.0\\ngini = 0.022\\nsamples = 716\\nvalue = [8, 708]'),\n",
       " Text(146.8421052631579, 88.95272727272732, 'X[10] <= 0.5\\ngini = 0.017\\nsamples = 685\\nvalue = [6, 679]'),\n",
       " Text(144.8842105263158, 29.650909090909067, 'gini = 0.015\\nsamples = 674\\nvalue = [5, 669]'),\n",
       " Text(148.8, 29.650909090909067, 'gini = 0.165\\nsamples = 11\\nvalue = [1, 10]'),\n",
       " Text(154.67368421052632, 88.95272727272732, 'X[27] <= 0.5\\ngini = 0.121\\nsamples = 31\\nvalue = [2, 29]'),\n",
       " Text(152.71578947368423, 29.650909090909067, 'gini = 0.067\\nsamples = 29\\nvalue = [1, 28]'),\n",
       " Text(156.63157894736844, 29.650909090909067, 'gini = 0.5\\nsamples = 2\\nvalue = [1, 1]'),\n",
       " Text(160.54736842105265, 148.2545454545455, 'X[53] <= 0.5\\ngini = 0.444\\nsamples = 3\\nvalue = [1, 2]'),\n",
       " Text(158.58947368421053, 88.95272727272732, 'gini = 0.0\\nsamples = 2\\nvalue = [0, 2]'),\n",
       " Text(162.50526315789475, 88.95272727272732, 'gini = 0.0\\nsamples = 1\\nvalue = [1, 0]'),\n",
       " Text(159.56842105263158, 207.55636363636364, 'gini = 0.0\\nsamples = 1\\nvalue = [1, 0]'),\n",
       " Text(180.1263157894737, 266.85818181818183, 'X[5] <= 49.0\\ngini = 0.212\\nsamples = 382\\nvalue = [46, 336]'),\n",
       " Text(172.29473684210527, 207.55636363636364, 'X[29] <= 0.5\\ngini = 0.111\\nsamples = 271\\nvalue = [16, 255]'),\n",
       " Text(170.33684210526317, 148.2545454545455, 'X[1] <= 404719.0\\ngini = 0.105\\nsamples = 270\\nvalue = [15, 255]'),\n",
       " Text(166.42105263157896, 88.95272727272732, 'X[1] <= 204844.0\\ngini = 0.089\\nsamples = 258\\nvalue = [12, 246]'),\n",
       " Text(164.46315789473684, 29.650909090909067, 'gini = 0.118\\nsamples = 175\\nvalue = [11, 164]'),\n",
       " Text(168.37894736842105, 29.650909090909067, 'gini = 0.024\\nsamples = 83\\nvalue = [1, 82]'),\n",
       " Text(174.2526315789474, 88.95272727272732, 'X[5] <= 42.5\\ngini = 0.375\\nsamples = 12\\nvalue = [3, 9]'),\n",
       " Text(172.29473684210527, 29.650909090909067, 'gini = 0.0\\nsamples = 7\\nvalue = [0, 7]'),\n",
       " Text(176.21052631578948, 29.650909090909067, 'gini = 0.48\\nsamples = 5\\nvalue = [3, 2]'),\n",
       " Text(174.2526315789474, 148.2545454545455, 'gini = 0.0\\nsamples = 1\\nvalue = [1, 0]'),\n",
       " Text(187.95789473684212, 207.55636363636364, 'X[1] <= 392539.0\\ngini = 0.394\\nsamples = 111\\nvalue = [30, 81]'),\n",
       " Text(186.0, 148.2545454545455, 'X[28] <= 0.5\\ngini = 0.375\\nsamples = 108\\nvalue = [27, 81]'),\n",
       " Text(182.0842105263158, 88.95272727272732, 'X[9] <= 0.5\\ngini = 0.342\\nsamples = 96\\nvalue = [21, 75]'),\n",
       " Text(180.1263157894737, 29.650909090909067, 'gini = 0.142\\nsamples = 26\\nvalue = [2, 24]'),\n",
       " Text(184.0421052631579, 29.650909090909067, 'gini = 0.396\\nsamples = 70\\nvalue = [19, 51]'),\n",
       " Text(189.9157894736842, 88.95272727272732, 'X[5] <= 52.5\\ngini = 0.5\\nsamples = 12\\nvalue = [6, 6]'),\n",
       " Text(187.95789473684212, 29.650909090909067, 'gini = 0.0\\nsamples = 4\\nvalue = [4, 0]'),\n",
       " Text(191.87368421052633, 29.650909090909067, 'gini = 0.375\\nsamples = 8\\nvalue = [2, 6]'),\n",
       " Text(189.9157894736842, 148.2545454545455, 'gini = 0.0\\nsamples = 3\\nvalue = [3, 0]'),\n",
       " Text(191.87368421052633, 326.16, 'X[43] <= 0.5\\ngini = 0.408\\nsamples = 7\\nvalue = [5, 2]'),\n",
       " Text(189.9157894736842, 266.85818181818183, 'gini = 0.0\\nsamples = 4\\nvalue = [4, 0]'),\n",
       " Text(193.83157894736843, 266.85818181818183, 'X[1] <= 134618.5\\ngini = 0.444\\nsamples = 3\\nvalue = [1, 2]'),\n",
       " Text(191.87368421052633, 207.55636363636364, 'gini = 0.0\\nsamples = 1\\nvalue = [1, 0]'),\n",
       " Text(195.78947368421055, 207.55636363636364, 'gini = 0.0\\nsamples = 2\\nvalue = [0, 2]'),\n",
       " Text(249.38684210526316, 385.4618181818182, 'X[5] <= 43.5\\ngini = 0.352\\nsamples = 1258\\nvalue = [287, 971]'),\n",
       " Text(219.2842105263158, 326.16, 'X[4] <= 2365.5\\ngini = 0.268\\nsamples = 795\\nvalue = [127, 668]'),\n",
       " Text(217.32631578947368, 266.85818181818183, 'X[2] <= 14.5\\ngini = 0.26\\nsamples = 789\\nvalue = [121, 668]'),\n",
       " Text(202.6421052631579, 207.55636363636364, 'X[0] <= 46.5\\ngini = 0.237\\nsamples = 729\\nvalue = [100, 629]'),\n",
       " Text(195.78947368421055, 148.2545454545455, 'X[5] <= 6.0\\ngini = 0.188\\nsamples = 458\\nvalue = [48, 410]'),\n",
       " Text(193.83157894736843, 88.95272727272732, 'gini = 0.0\\nsamples = 1\\nvalue = [1, 0]'),\n",
       " Text(197.74736842105264, 88.95272727272732, 'X[92] <= 0.5\\ngini = 0.185\\nsamples = 457\\nvalue = [47, 410]'),\n",
       " Text(195.78947368421055, 29.650909090909067, 'gini = 0.181\\nsamples = 456\\nvalue = [46, 410]'),\n",
       " Text(199.70526315789473, 29.650909090909067, 'gini = 0.0\\nsamples = 1\\nvalue = [1, 0]'),\n",
       " Text(209.49473684210528, 148.2545454545455, 'X[56] <= 0.5\\ngini = 0.31\\nsamples = 271\\nvalue = [52, 219]'),\n",
       " Text(205.57894736842107, 88.95272727272732, 'X[7] <= 0.5\\ngini = 0.395\\nsamples = 107\\nvalue = [29, 78]'),\n",
       " Text(203.62105263157895, 29.650909090909067, 'gini = 0.37\\nsamples = 94\\nvalue = [23, 71]'),\n",
       " Text(207.53684210526316, 29.650909090909067, 'gini = 0.497\\nsamples = 13\\nvalue = [6, 7]'),\n",
       " Text(213.4105263157895, 88.95272727272732, 'X[80] <= 0.5\\ngini = 0.241\\nsamples = 164\\nvalue = [23, 141]'),\n",
       " Text(211.45263157894738, 29.650909090909067, 'gini = 0.234\\nsamples = 163\\nvalue = [22, 141]'),\n",
       " Text(215.3684210526316, 29.650909090909067, 'gini = 0.0\\nsamples = 1\\nvalue = [1, 0]'),\n",
       " Text(232.0105263157895, 207.55636363636364, 'X[0] <= 46.5\\ngini = 0.455\\nsamples = 60\\nvalue = [21, 39]'),\n",
       " Text(225.1578947368421, 148.2545454545455, 'X[1] <= 141101.5\\ngini = 0.5\\nsamples = 36\\nvalue = [18, 18]'),\n",
       " Text(221.2421052631579, 88.95272727272732, 'X[75] <= 0.5\\ngini = 0.298\\nsamples = 11\\nvalue = [2, 9]'),\n",
       " Text(219.2842105263158, 29.650909090909067, 'gini = 0.18\\nsamples = 10\\nvalue = [1, 9]'),\n",
       " Text(223.20000000000002, 29.650909090909067, 'gini = 0.0\\nsamples = 1\\nvalue = [1, 0]'),\n",
       " Text(229.07368421052632, 88.95272727272732, 'X[32] <= 0.5\\ngini = 0.461\\nsamples = 25\\nvalue = [16, 9]'),\n",
       " Text(227.11578947368423, 29.650909090909067, 'gini = 0.498\\nsamples = 15\\nvalue = [7, 8]'),\n",
       " Text(231.03157894736844, 29.650909090909067, 'gini = 0.18\\nsamples = 10\\nvalue = [9, 1]'),\n",
       " Text(238.86315789473684, 148.2545454545455, 'X[6] <= 0.5\\ngini = 0.219\\nsamples = 24\\nvalue = [3, 21]'),\n",
       " Text(236.90526315789475, 88.95272727272732, 'X[33] <= 0.5\\ngini = 0.159\\nsamples = 23\\nvalue = [2, 21]'),\n",
       " Text(234.94736842105263, 29.650909090909067, 'gini = 0.087\\nsamples = 22\\nvalue = [1, 21]'),\n",
       " Text(238.86315789473684, 29.650909090909067, 'gini = 0.0\\nsamples = 1\\nvalue = [1, 0]'),\n",
       " Text(240.82105263157897, 88.95272727272732, 'gini = 0.0\\nsamples = 1\\nvalue = [1, 0]'),\n",
       " Text(221.2421052631579, 266.85818181818183, 'gini = 0.0\\nsamples = 6\\nvalue = [6, 0]'),\n",
       " Text(279.48947368421057, 326.16, 'X[2] <= 14.5\\ngini = 0.452\\nsamples = 463\\nvalue = [160, 303]'),\n",
       " Text(260.88947368421054, 266.85818181818183, 'X[56] <= 0.5\\ngini = 0.424\\nsamples = 407\\nvalue = [124, 283]'),\n",
       " Text(250.61052631578949, 207.55636363636364, 'X[4] <= 2351.0\\ngini = 0.48\\nsamples = 205\\nvalue = [82, 123]'),\n",
       " Text(248.6526315789474, 148.2545454545455, 'X[0] <= 42.5\\ngini = 0.474\\nsamples = 200\\nvalue = [77, 123]'),\n",
       " Text(244.73684210526318, 88.95272727272732, 'X[22] <= 0.5\\ngini = 0.409\\nsamples = 94\\nvalue = [27, 67]'),\n",
       " Text(242.77894736842106, 29.650909090909067, 'gini = 0.499\\nsamples = 21\\nvalue = [10, 11]'),\n",
       " Text(246.69473684210527, 29.650909090909067, 'gini = 0.357\\nsamples = 73\\nvalue = [17, 56]'),\n",
       " Text(252.56842105263158, 88.95272727272732, 'X[37] <= 0.5\\ngini = 0.498\\nsamples = 106\\nvalue = [50, 56]'),\n",
       " Text(250.61052631578949, 29.650909090909067, 'gini = 0.479\\nsamples = 78\\nvalue = [31, 47]'),\n",
       " Text(254.5263157894737, 29.650909090909067, 'gini = 0.436\\nsamples = 28\\nvalue = [19, 9]'),\n",
       " Text(252.56842105263158, 148.2545454545455, 'gini = 0.0\\nsamples = 5\\nvalue = [5, 0]'),\n",
       " Text(271.1684210526316, 207.55636363636364, 'X[37] <= 0.5\\ngini = 0.329\\nsamples = 202\\nvalue = [42, 160]'),\n",
       " Text(264.3157894736842, 148.2545454545455, 'X[0] <= 34.5\\ngini = 0.269\\nsamples = 150\\nvalue = [24, 126]'),\n",
       " Text(260.40000000000003, 88.95272727272732, 'X[5] <= 48.0\\ngini = 0.484\\nsamples = 17\\nvalue = [7, 10]'),\n",
       " Text(258.4421052631579, 29.650909090909067, 'gini = 0.245\\nsamples = 7\\nvalue = [1, 6]'),\n",
       " Text(262.3578947368421, 29.650909090909067, 'gini = 0.48\\nsamples = 10\\nvalue = [6, 4]'),\n",
       " Text(268.23157894736846, 88.95272727272732, 'X[1] <= 119969.5\\ngini = 0.223\\nsamples = 133\\nvalue = [17, 116]'),\n",
       " Text(266.2736842105263, 29.650909090909067, 'gini = 0.0\\nsamples = 35\\nvalue = [0, 35]'),\n",
       " Text(270.18947368421055, 29.650909090909067, 'gini = 0.287\\nsamples = 98\\nvalue = [17, 81]'),\n",
       " Text(278.021052631579, 148.2545454545455, 'X[3] <= 4718.5\\ngini = 0.453\\nsamples = 52\\nvalue = [18, 34]'),\n",
       " Text(276.06315789473683, 88.95272727272732, 'X[54] <= 0.5\\ngini = 0.435\\nsamples = 50\\nvalue = [16, 34]'),\n",
       " Text(274.10526315789474, 29.650909090909067, 'gini = 0.405\\nsamples = 46\\nvalue = [13, 33]'),\n",
       " Text(278.021052631579, 29.650909090909067, 'gini = 0.375\\nsamples = 4\\nvalue = [3, 1]'),\n",
       " Text(279.9789473684211, 88.95272727272732, 'gini = 0.0\\nsamples = 2\\nvalue = [2, 0]'),\n",
       " Text(298.08947368421053, 266.85818181818183, 'X[0] <= 54.5\\ngini = 0.459\\nsamples = 56\\nvalue = [36, 20]'),\n",
       " Text(292.70526315789476, 207.55636363636364, 'X[1] <= 217532.5\\ngini = 0.411\\nsamples = 45\\nvalue = [32, 13]'),\n",
       " Text(287.8105263157895, 148.2545454545455, 'X[1] <= 81352.0\\ngini = 0.305\\nsamples = 32\\nvalue = [26, 6]'),\n",
       " Text(283.89473684210526, 88.95272727272732, 'X[23] <= 0.5\\ngini = 0.48\\nsamples = 5\\nvalue = [2, 3]'),\n",
       " Text(281.93684210526317, 29.650909090909067, 'gini = 0.444\\nsamples = 3\\nvalue = [2, 1]'),\n",
       " Text(285.8526315789474, 29.650909090909067, 'gini = 0.0\\nsamples = 2\\nvalue = [0, 2]'),\n",
       " Text(291.7263157894737, 88.95272727272732, 'X[0] <= 43.5\\ngini = 0.198\\nsamples = 27\\nvalue = [24, 3]'),\n",
       " Text(289.7684210526316, 29.650909090909067, 'gini = 0.375\\nsamples = 12\\nvalue = [9, 3]'),\n",
       " Text(293.6842105263158, 29.650909090909067, 'gini = 0.0\\nsamples = 15\\nvalue = [15, 0]'),\n",
       " Text(297.6, 148.2545454545455, 'X[1] <= 224375.0\\ngini = 0.497\\nsamples = 13\\nvalue = [6, 7]'),\n",
       " Text(295.64210526315793, 88.95272727272732, 'gini = 0.0\\nsamples = 3\\nvalue = [0, 3]'),\n",
       " Text(299.5578947368421, 88.95272727272732, 'X[1] <= 257163.5\\ngini = 0.48\\nsamples = 10\\nvalue = [6, 4]'),\n",
       " Text(297.6, 29.650909090909067, 'gini = 0.0\\nsamples = 4\\nvalue = [4, 0]'),\n",
       " Text(301.5157894736842, 29.650909090909067, 'gini = 0.444\\nsamples = 6\\nvalue = [2, 4]'),\n",
       " Text(303.47368421052636, 207.55636363636364, 'X[5] <= 52.5\\ngini = 0.463\\nsamples = 11\\nvalue = [4, 7]'),\n",
       " Text(301.5157894736842, 148.2545454545455, 'gini = 0.0\\nsamples = 4\\nvalue = [0, 4]'),\n",
       " Text(305.43157894736845, 148.2545454545455, 'X[32] <= 0.5\\ngini = 0.49\\nsamples = 7\\nvalue = [4, 3]'),\n",
       " Text(303.47368421052636, 88.95272727272732, 'gini = 0.0\\nsamples = 3\\nvalue = [3, 0]'),\n",
       " Text(307.38947368421054, 88.95272727272732, 'X[9] <= 0.5\\ngini = 0.375\\nsamples = 4\\nvalue = [1, 3]'),\n",
       " Text(305.43157894736845, 29.650909090909067, 'gini = 0.0\\nsamples = 3\\nvalue = [0, 3]'),\n",
       " Text(309.34736842105264, 29.650909090909067, 'gini = 0.0\\nsamples = 1\\nvalue = [1, 0]'),\n",
       " Text(315.22105263157897, 504.0654545454546, 'X[0] <= 20.5\\ngini = 0.083\\nsamples = 230\\nvalue = [220, 10]'),\n",
       " Text(313.2631578947369, 444.7636363636364, 'gini = 0.0\\nsamples = 4\\nvalue = [0, 4]'),\n",
       " Text(317.17894736842106, 444.7636363636364, 'X[1] <= 25115.5\\ngini = 0.052\\nsamples = 226\\nvalue = [220, 6]'),\n",
       " Text(315.22105263157897, 385.4618181818182, 'gini = 0.0\\nsamples = 2\\nvalue = [0, 2]'),\n",
       " Text(319.13684210526316, 385.4618181818182, 'X[39] <= 0.5\\ngini = 0.035\\nsamples = 224\\nvalue = [220, 4]'),\n",
       " Text(317.17894736842106, 326.16, 'X[3] <= 8296.0\\ngini = 0.027\\nsamples = 223\\nvalue = [220, 3]'),\n",
       " Text(313.2631578947369, 266.85818181818183, 'X[2] <= 11.5\\ngini = 0.278\\nsamples = 12\\nvalue = [10, 2]'),\n",
       " Text(311.30526315789473, 207.55636363636364, 'X[49] <= 0.5\\ngini = 0.444\\nsamples = 3\\nvalue = [1, 2]'),\n",
       " Text(309.34736842105264, 148.2545454545455, 'gini = 0.0\\nsamples = 2\\nvalue = [0, 2]'),\n",
       " Text(313.2631578947369, 148.2545454545455, 'gini = 0.0\\nsamples = 1\\nvalue = [1, 0]'),\n",
       " Text(315.22105263157897, 207.55636363636364, 'gini = 0.0\\nsamples = 9\\nvalue = [9, 0]'),\n",
       " Text(321.0947368421053, 266.85818181818183, 'X[3] <= 30961.5\\ngini = 0.009\\nsamples = 211\\nvalue = [210, 1]'),\n",
       " Text(319.13684210526316, 207.55636363636364, 'gini = 0.0\\nsamples = 188\\nvalue = [188, 0]'),\n",
       " Text(323.0526315789474, 207.55636363636364, 'X[3] <= 67047.0\\ngini = 0.083\\nsamples = 23\\nvalue = [22, 1]'),\n",
       " Text(321.0947368421053, 148.2545454545455, 'gini = 0.0\\nsamples = 1\\nvalue = [0, 1]'),\n",
       " Text(325.0105263157895, 148.2545454545455, 'gini = 0.0\\nsamples = 22\\nvalue = [22, 0]'),\n",
       " Text(321.0947368421053, 326.16, 'gini = 0.0\\nsamples = 1\\nvalue = [0, 1]'),\n",
       " Text(559.4837171052632, 563.3672727272727, 'X[2] <= 12.5\\ngini = 0.494\\nsamples = 10432\\nvalue = [4652, 5780]'),\n",
       " Text(474.0858552631579, 504.0654545454546, 'X[3] <= 5095.5\\ngini = 0.442\\nsamples = 7309\\nvalue = [2408, 4901]'),\n",
       " Text(409.7506578947369, 444.7636363636364, 'X[2] <= 8.5\\ngini = 0.416\\nsamples = 6941\\nvalue = [2046, 4895]'),\n",
       " Text(361.1092105263158, 385.4618181818182, 'X[4] <= 1791.5\\ngini = 0.173\\nsamples = 1119\\nvalue = [107, 1012]'),\n",
       " Text(346.3026315789474, 326.16, 'X[0] <= 36.5\\ngini = 0.161\\nsamples = 1095\\nvalue = [97, 998]'),\n",
       " Text(332.8421052631579, 266.85818181818183, 'X[10] <= 0.5\\ngini = 0.062\\nsamples = 342\\nvalue = [11, 331]'),\n",
       " Text(330.8842105263158, 207.55636363636364, 'X[94] <= 0.5\\ngini = 0.057\\nsamples = 341\\nvalue = [10, 331]'),\n",
       " Text(328.9263157894737, 148.2545454545455, 'X[48] <= 0.5\\ngini = 0.052\\nsamples = 340\\nvalue = [9, 331]'),\n",
       " Text(325.0105263157895, 88.95272727272732, 'X[1] <= 29417.5\\ngini = 0.046\\nsamples = 338\\nvalue = [8, 330]'),\n",
       " Text(323.0526315789474, 29.650909090909067, 'gini = 0.5\\nsamples = 2\\nvalue = [1, 1]'),\n",
       " Text(326.9684210526316, 29.650909090909067, 'gini = 0.041\\nsamples = 336\\nvalue = [7, 329]'),\n",
       " Text(332.8421052631579, 88.95272727272732, 'X[1] <= 258726.0\\ngini = 0.5\\nsamples = 2\\nvalue = [1, 1]'),\n",
       " Text(330.8842105263158, 29.650909090909067, 'gini = 0.0\\nsamples = 1\\nvalue = [0, 1]'),\n",
       " Text(334.8, 29.650909090909067, 'gini = 0.0\\nsamples = 1\\nvalue = [1, 0]'),\n",
       " Text(332.8421052631579, 148.2545454545455, 'gini = 0.0\\nsamples = 1\\nvalue = [1, 0]'),\n",
       " Text(334.8, 207.55636363636364, 'gini = 0.0\\nsamples = 1\\nvalue = [1, 0]'),\n",
       " Text(359.7631578947369, 266.85818181818183, 'X[2] <= 4.5\\ngini = 0.202\\nsamples = 753\\nvalue = [86, 667]'),\n",
       " Text(351.4421052631579, 207.55636363636364, 'X[10] <= 0.5\\ngini = 0.124\\nsamples = 300\\nvalue = [20, 280]'),\n",
       " Text(344.58947368421053, 148.2545454545455, 'X[5] <= 54.5\\ngini = 0.098\\nsamples = 289\\nvalue = [15, 274]'),\n",
       " Text(340.67368421052635, 88.95272727272732, 'X[37] <= 0.5\\ngini = 0.051\\nsamples = 265\\nvalue = [7, 258]'),\n",
       " Text(338.71578947368425, 29.650909090909067, 'gini = 0.038\\nsamples = 258\\nvalue = [5, 253]'),\n",
       " Text(342.63157894736844, 29.650909090909067, 'gini = 0.408\\nsamples = 7\\nvalue = [2, 5]'),\n",
       " Text(348.5052631578948, 88.95272727272732, 'X[1] <= 132903.0\\ngini = 0.444\\nsamples = 24\\nvalue = [8, 16]'),\n",
       " Text(346.5473684210526, 29.650909090909067, 'gini = 0.0\\nsamples = 8\\nvalue = [0, 8]'),\n",
       " Text(350.46315789473687, 29.650909090909067, 'gini = 0.5\\nsamples = 16\\nvalue = [8, 8]'),\n",
       " Text(358.2947368421053, 148.2545454545455, 'X[36] <= 0.5\\ngini = 0.496\\nsamples = 11\\nvalue = [5, 6]'),\n",
       " Text(356.3368421052632, 88.95272727272732, 'X[40] <= 0.5\\ngini = 0.375\\nsamples = 8\\nvalue = [2, 6]'),\n",
       " Text(354.37894736842105, 29.650909090909067, 'gini = 0.245\\nsamples = 7\\nvalue = [1, 6]'),\n",
       " Text(358.2947368421053, 29.650909090909067, 'gini = 0.0\\nsamples = 1\\nvalue = [1, 0]'),\n",
       " Text(360.2526315789474, 88.95272727272732, 'gini = 0.0\\nsamples = 3\\nvalue = [3, 0]'),\n",
       " Text(368.0842105263158, 207.55636363636364, 'X[0] <= 66.5\\ngini = 0.249\\nsamples = 453\\nvalue = [66, 387]'),\n",
       " Text(366.1263157894737, 148.2545454545455, 'X[50] <= 0.5\\ngini = 0.269\\nsamples = 412\\nvalue = [66, 346]'),\n",
       " Text(364.1684210526316, 88.95272727272732, 'X[57] <= 0.5\\ngini = 0.266\\nsamples = 411\\nvalue = [65, 346]'),\n",
       " Text(362.2105263157895, 29.650909090909067, 'gini = 0.263\\nsamples = 410\\nvalue = [64, 346]'),\n",
       " Text(366.1263157894737, 29.650909090909067, 'gini = 0.0\\nsamples = 1\\nvalue = [1, 0]'),\n",
       " Text(368.0842105263158, 88.95272727272732, 'gini = 0.0\\nsamples = 1\\nvalue = [1, 0]'),\n",
       " Text(370.0421052631579, 148.2545454545455, 'gini = 0.0\\nsamples = 41\\nvalue = [0, 41]'),\n",
       " Text(375.91578947368424, 326.16, 'X[4] <= 1989.5\\ngini = 0.486\\nsamples = 24\\nvalue = [10, 14]'),\n",
       " Text(373.95789473684215, 266.85818181818183, 'X[7] <= 0.5\\ngini = 0.165\\nsamples = 11\\nvalue = [10, 1]'),\n",
       " Text(372.0, 207.55636363636364, 'gini = 0.0\\nsamples = 9\\nvalue = [9, 0]'),\n",
       " Text(375.91578947368424, 207.55636363636364, 'X[54] <= 0.5\\ngini = 0.5\\nsamples = 2\\nvalue = [1, 1]'),\n",
       " Text(373.95789473684215, 148.2545454545455, 'gini = 0.0\\nsamples = 1\\nvalue = [0, 1]'),\n",
       " Text(377.87368421052633, 148.2545454545455, 'gini = 0.0\\nsamples = 1\\nvalue = [1, 0]'),\n",
       " Text(377.87368421052633, 266.85818181818183, 'gini = 0.0\\nsamples = 13\\nvalue = [0, 13]'),\n",
       " Text(458.39210526315793, 385.4618181818182, 'X[0] <= 35.5\\ngini = 0.444\\nsamples = 5822\\nvalue = [1939, 3883]'),\n",
       " Text(419.72368421052636, 326.16, 'X[4] <= 1794.0\\ngini = 0.338\\nsamples = 1931\\nvalue = [416, 1515]'),\n",
       " Text(400.87894736842105, 266.85818181818183, 'X[0] <= 29.5\\ngini = 0.325\\nsamples = 1888\\nvalue = [386, 1502]'),\n",
       " Text(386.6842105263158, 207.55636363636364, 'X[0] <= 24.5\\ngini = 0.237\\nsamples = 844\\nvalue = [116, 728]'),\n",
       " Text(381.7894736842105, 148.2545454545455, 'X[1] <= 542762.5\\ngini = 0.111\\nsamples = 237\\nvalue = [14, 223]'),\n",
       " Text(379.8315789473684, 88.95272727272732, 'X[5] <= 45.5\\ngini = 0.104\\nsamples = 236\\nvalue = [13, 223]'),\n",
       " Text(377.87368421052633, 29.650909090909067, 'gini = 0.05\\nsamples = 193\\nvalue = [5, 188]'),\n",
       " Text(381.7894736842105, 29.650909090909067, 'gini = 0.303\\nsamples = 43\\nvalue = [8, 35]'),\n",
       " Text(383.74736842105267, 88.95272727272732, 'gini = 0.0\\nsamples = 1\\nvalue = [1, 0]'),\n",
       " Text(391.5789473684211, 148.2545454545455, 'X[6] <= 0.5\\ngini = 0.28\\nsamples = 607\\nvalue = [102, 505]'),\n",
       " Text(387.66315789473686, 88.95272727272732, 'X[24] <= 0.5\\ngini = 0.268\\nsamples = 595\\nvalue = [95, 500]'),\n",
       " Text(385.70526315789476, 29.650909090909067, 'gini = 0.336\\nsamples = 257\\nvalue = [55, 202]'),\n",
       " Text(389.62105263157895, 29.650909090909067, 'gini = 0.209\\nsamples = 338\\nvalue = [40, 298]'),\n",
       " Text(395.4947368421053, 88.95272727272732, 'X[0] <= 27.5\\ngini = 0.486\\nsamples = 12\\nvalue = [7, 5]'),\n",
       " Text(393.5368421052632, 29.650909090909067, 'gini = 0.278\\nsamples = 6\\nvalue = [1, 5]'),\n",
       " Text(397.4526315789474, 29.650909090909067, 'gini = 0.0\\nsamples = 6\\nvalue = [6, 0]'),\n",
       " Text(415.0736842105263, 207.55636363636364, 'X[2] <= 9.5\\ngini = 0.383\\nsamples = 1044\\nvalue = [270, 774]'),\n",
       " Text(407.2421052631579, 148.2545454545455, 'X[5] <= 53.0\\ngini = 0.322\\nsamples = 571\\nvalue = [115, 456]'),\n",
       " Text(403.3263157894737, 88.95272727272732, 'X[61] <= 0.5\\ngini = 0.289\\nsamples = 490\\nvalue = [86, 404]'),\n",
       " Text(401.3684210526316, 29.650909090909067, 'gini = 0.285\\nsamples = 488\\nvalue = [84, 404]'),\n",
       " Text(405.2842105263158, 29.650909090909067, 'gini = 0.0\\nsamples = 2\\nvalue = [2, 0]'),\n",
       " Text(411.15789473684214, 88.95272727272732, 'X[40] <= 0.5\\ngini = 0.46\\nsamples = 81\\nvalue = [29, 52]'),\n",
       " Text(409.20000000000005, 29.650909090909067, 'gini = 0.444\\nsamples = 78\\nvalue = [26, 52]'),\n",
       " Text(413.11578947368423, 29.650909090909067, 'gini = 0.0\\nsamples = 3\\nvalue = [3, 0]'),\n",
       " Text(422.90526315789475, 148.2545454545455, 'X[1] <= 166445.5\\ngini = 0.441\\nsamples = 473\\nvalue = [155, 318]'),\n",
       " Text(418.98947368421057, 88.95272727272732, 'X[36] <= 0.5\\ngini = 0.374\\nsamples = 201\\nvalue = [50, 151]'),\n",
       " Text(417.0315789473684, 29.650909090909067, 'gini = 0.417\\nsamples = 152\\nvalue = [45, 107]'),\n",
       " Text(420.94736842105266, 29.650909090909067, 'gini = 0.183\\nsamples = 49\\nvalue = [5, 44]'),\n",
       " Text(426.821052631579, 88.95272727272732, 'X[1] <= 207227.0\\ngini = 0.474\\nsamples = 272\\nvalue = [105, 167]'),\n",
       " Text(424.86315789473684, 29.650909090909067, 'gini = 0.5\\nsamples = 93\\nvalue = [46, 47]'),\n",
       " Text(428.7789473684211, 29.650909090909067, 'gini = 0.442\\nsamples = 179\\nvalue = [59, 120]'),\n",
       " Text(438.5684210526316, 266.85818181818183, 'X[4] <= 1989.5\\ngini = 0.422\\nsamples = 43\\nvalue = [30, 13]'),\n",
       " Text(434.65263157894736, 207.55636363636364, 'X[0] <= 27.5\\ngini = 0.064\\nsamples = 30\\nvalue = [29, 1]'),\n",
       " Text(432.69473684210527, 148.2545454545455, 'X[54] <= 0.5\\ngini = 0.444\\nsamples = 3\\nvalue = [2, 1]'),\n",
       " Text(430.7368421052632, 88.95272727272732, 'gini = 0.0\\nsamples = 1\\nvalue = [0, 1]'),\n",
       " Text(434.65263157894736, 88.95272727272732, 'gini = 0.0\\nsamples = 2\\nvalue = [2, 0]'),\n",
       " Text(436.6105263157895, 148.2545454545455, 'gini = 0.0\\nsamples = 27\\nvalue = [27, 0]'),\n",
       " Text(442.4842105263158, 207.55636363636364, 'X[41] <= 0.5\\ngini = 0.142\\nsamples = 13\\nvalue = [1, 12]'),\n",
       " Text(440.5263157894737, 148.2545454545455, 'gini = 0.0\\nsamples = 12\\nvalue = [0, 12]'),\n",
       " Text(444.44210526315794, 148.2545454545455, 'gini = 0.0\\nsamples = 1\\nvalue = [1, 0]'),\n",
       " Text(497.0605263157895, 326.16, 'X[4] <= 1846.0\\ngini = 0.476\\nsamples = 3891\\nvalue = [1523, 2368]'),\n",
       " Text(471.8526315789474, 266.85818181818183, 'X[5] <= 34.5\\ngini = 0.468\\nsamples = 3720\\nvalue = [1393, 2327]'),\n",
       " Text(456.18947368421055, 207.55636363636364, 'X[56] <= 0.5\\ngini = 0.265\\nsamples = 408\\nvalue = [64, 344]'),\n",
       " Text(448.3578947368421, 148.2545454545455, 'X[46] <= 0.5\\ngini = 0.194\\nsamples = 304\\nvalue = [33, 271]'),\n",
       " Text(444.44210526315794, 88.95272727272732, 'X[2] <= 9.5\\ngini = 0.172\\nsamples = 294\\nvalue = [28, 266]'),\n",
       " Text(442.4842105263158, 29.650909090909067, 'gini = 0.085\\nsamples = 180\\nvalue = [8, 172]'),\n",
       " Text(446.40000000000003, 29.650909090909067, 'gini = 0.289\\nsamples = 114\\nvalue = [20, 94]'),\n",
       " Text(452.2736842105263, 88.95272727272732, 'X[0] <= 52.0\\ngini = 0.5\\nsamples = 10\\nvalue = [5, 5]'),\n",
       " Text(450.3157894736842, 29.650909090909067, 'gini = 0.0\\nsamples = 4\\nvalue = [4, 0]'),\n",
       " Text(454.23157894736846, 29.650909090909067, 'gini = 0.278\\nsamples = 6\\nvalue = [1, 5]'),\n",
       " Text(464.021052631579, 148.2545454545455, 'X[2] <= 10.5\\ngini = 0.418\\nsamples = 104\\nvalue = [31, 73]'),\n",
       " Text(460.10526315789474, 88.95272727272732, 'X[37] <= 0.5\\ngini = 0.354\\nsamples = 87\\nvalue = [20, 67]'),\n",
       " Text(458.14736842105265, 29.650909090909067, 'gini = 0.311\\nsamples = 78\\nvalue = [15, 63]'),\n",
       " Text(462.0631578947369, 29.650909090909067, 'gini = 0.494\\nsamples = 9\\nvalue = [5, 4]'),\n",
       " Text(467.93684210526317, 88.95272727272732, 'X[5] <= 17.5\\ngini = 0.457\\nsamples = 17\\nvalue = [11, 6]'),\n",
       " Text(465.9789473684211, 29.650909090909067, 'gini = 0.49\\nsamples = 7\\nvalue = [3, 4]'),\n",
       " Text(469.89473684210526, 29.650909090909067, 'gini = 0.32\\nsamples = 10\\nvalue = [8, 2]'),\n",
       " Text(487.5157894736842, 207.55636363636364, 'X[37] <= 0.5\\ngini = 0.481\\nsamples = 3312\\nvalue = [1329, 1983]'),\n",
       " Text(479.68421052631584, 148.2545454545455, 'X[38] <= 0.5\\ngini = 0.469\\nsamples = 2839\\nvalue = [1065, 1774]'),\n",
       " Text(475.7684210526316, 88.95272727272732, 'X[41] <= 0.5\\ngini = 0.475\\nsamples = 2676\\nvalue = [1041, 1635]'),\n",
       " Text(473.8105263157895, 29.650909090909067, 'gini = 0.481\\nsamples = 2536\\nvalue = [1020, 1516]'),\n",
       " Text(477.7263157894737, 29.650909090909067, 'gini = 0.255\\nsamples = 140\\nvalue = [21, 119]'),\n",
       " Text(483.6, 88.95272727272732, 'X[57] <= 0.5\\ngini = 0.251\\nsamples = 163\\nvalue = [24, 139]'),\n",
       " Text(481.64210526315793, 29.650909090909067, 'gini = 0.244\\nsamples = 162\\nvalue = [23, 139]'),\n",
       " Text(485.5578947368421, 29.650909090909067, 'gini = 0.0\\nsamples = 1\\nvalue = [1, 0]'),\n",
       " Text(495.34736842105264, 148.2545454545455, 'X[11] <= 0.5\\ngini = 0.493\\nsamples = 473\\nvalue = [264, 209]'),\n",
       " Text(491.43157894736845, 88.95272727272732, 'X[1] <= 83303.5\\ngini = 0.479\\nsamples = 395\\nvalue = [238, 157]'),\n",
       " Text(489.47368421052636, 29.650909090909067, 'gini = 0.482\\nsamples = 64\\nvalue = [26, 38]'),\n",
       " Text(493.38947368421054, 29.650909090909067, 'gini = 0.461\\nsamples = 331\\nvalue = [212, 119]'),\n",
       " Text(499.2631578947369, 88.95272727272732, 'X[1] <= 220905.0\\ngini = 0.444\\nsamples = 78\\nvalue = [26, 52]'),\n",
       " Text(497.3052631578948, 29.650909090909067, 'gini = 0.483\\nsamples = 59\\nvalue = [24, 35]'),\n",
       " Text(501.22105263157897, 29.650909090909067, 'gini = 0.188\\nsamples = 19\\nvalue = [2, 17]'),\n",
       " Text(522.2684210526317, 266.85818181818183, 'X[4] <= 1989.5\\ngini = 0.365\\nsamples = 171\\nvalue = [130, 41]'),\n",
       " Text(513.9473684210526, 207.55636363636364, 'X[0] <= 56.5\\ngini = 0.049\\nsamples = 120\\nvalue = [117, 3]'),\n",
       " Text(509.0526315789474, 148.2545454545455, 'X[0] <= 37.5\\ngini = 0.019\\nsamples = 103\\nvalue = [102, 1]'),\n",
       " Text(507.0947368421053, 88.95272727272732, 'X[36] <= 0.5\\ngini = 0.153\\nsamples = 12\\nvalue = [11, 1]'),\n",
       " Text(505.13684210526316, 29.650909090909067, 'gini = 0.0\\nsamples = 7\\nvalue = [7, 0]'),\n",
       " Text(509.0526315789474, 29.650909090909067, 'gini = 0.32\\nsamples = 5\\nvalue = [4, 1]'),\n",
       " Text(511.0105263157895, 88.95272727272732, 'gini = 0.0\\nsamples = 91\\nvalue = [91, 0]'),\n",
       " Text(518.8421052631579, 148.2545454545455, 'X[21] <= 0.5\\ngini = 0.208\\nsamples = 17\\nvalue = [15, 2]'),\n",
       " Text(514.9263157894737, 88.95272727272732, 'X[36] <= 0.5\\ngini = 0.124\\nsamples = 15\\nvalue = [14, 1]'),\n",
       " Text(512.9684210526316, 29.650909090909067, 'gini = 0.0\\nsamples = 13\\nvalue = [13, 0]'),\n",
       " Text(516.8842105263158, 29.650909090909067, 'gini = 0.5\\nsamples = 2\\nvalue = [1, 1]'),\n",
       " Text(522.7578947368421, 88.95272727272732, 'X[43] <= 0.5\\ngini = 0.5\\nsamples = 2\\nvalue = [1, 1]'),\n",
       " Text(520.8000000000001, 29.650909090909067, 'gini = 0.0\\nsamples = 1\\nvalue = [1, 0]'),\n",
       " Text(524.7157894736843, 29.650909090909067, 'gini = 0.0\\nsamples = 1\\nvalue = [0, 1]'),\n",
       " Text(530.5894736842106, 207.55636363636364, 'X[4] <= 2161.5\\ngini = 0.38\\nsamples = 51\\nvalue = [13, 38]'),\n",
       " Text(528.6315789473684, 148.2545454545455, 'gini = 0.0\\nsamples = 25\\nvalue = [0, 25]'),\n",
       " Text(532.5473684210526, 148.2545454545455, 'X[4] <= 2436.0\\ngini = 0.5\\nsamples = 26\\nvalue = [13, 13]'),\n",
       " Text(530.5894736842106, 88.95272727272732, 'X[5] <= 57.5\\ngini = 0.472\\nsamples = 21\\nvalue = [13, 8]'),\n",
       " Text(528.6315789473684, 29.650909090909067, 'gini = 0.401\\nsamples = 18\\nvalue = [13, 5]'),\n",
       " Text(532.5473684210526, 29.650909090909067, 'gini = 0.0\\nsamples = 3\\nvalue = [0, 3]'),\n",
       " Text(534.5052631578948, 88.95272727272732, 'gini = 0.0\\nsamples = 5\\nvalue = [0, 5]'),\n",
       " Text(538.421052631579, 444.7636363636364, 'X[0] <= 69.5\\ngini = 0.032\\nsamples = 368\\nvalue = [362, 6]'),\n",
       " Text(532.5473684210526, 385.4618181818182, 'X[2] <= 1.5\\ngini = 0.011\\nsamples = 355\\nvalue = [353, 2]'),\n",
       " Text(530.5894736842106, 326.16, 'gini = 0.0\\nsamples = 1\\nvalue = [0, 1]'),\n",
       " Text(534.5052631578948, 326.16, 'X[38] <= 0.5\\ngini = 0.006\\nsamples = 354\\nvalue = [353, 1]'),\n",
       " Text(532.5473684210526, 266.85818181818183, 'gini = 0.0\\nsamples = 344\\nvalue = [344, 0]'),\n",
       " Text(536.4631578947369, 266.85818181818183, 'X[21] <= 0.5\\ngini = 0.18\\nsamples = 10\\nvalue = [9, 1]'),\n",
       " Text(534.5052631578948, 207.55636363636364, 'gini = 0.0\\nsamples = 9\\nvalue = [9, 0]'),\n",
       " Text(538.421052631579, 207.55636363636364, 'gini = 0.0\\nsamples = 1\\nvalue = [0, 1]'),\n",
       " Text(544.2947368421053, 385.4618181818182, 'X[5] <= 22.5\\ngini = 0.426\\nsamples = 13\\nvalue = [9, 4]'),\n",
       " Text(542.3368421052631, 326.16, 'gini = 0.0\\nsamples = 2\\nvalue = [0, 2]'),\n",
       " Text(546.2526315789474, 326.16, 'X[45] <= 0.5\\ngini = 0.298\\nsamples = 11\\nvalue = [9, 2]'),\n",
       " Text(544.2947368421053, 266.85818181818183, 'X[7] <= 0.5\\ngini = 0.18\\nsamples = 10\\nvalue = [9, 1]'),\n",
       " Text(542.3368421052631, 207.55636363636364, 'gini = 0.0\\nsamples = 9\\nvalue = [9, 0]'),\n",
       " Text(546.2526315789474, 207.55636363636364, 'gini = 0.0\\nsamples = 1\\nvalue = [0, 1]'),\n",
       " Text(548.2105263157895, 266.85818181818183, 'gini = 0.0\\nsamples = 1\\nvalue = [0, 1]'),\n",
       " Text(644.8815789473684, 504.0654545454546, 'X[3] <= 5095.5\\ngini = 0.404\\nsamples = 3123\\nvalue = [2244, 879]'),\n",
       " Text(626.0368421052632, 444.7636363636364, 'X[4] <= 1794.0\\ngini = 0.443\\nsamples = 2648\\nvalue = [1770, 878]'),\n",
       " Text(599.1157894736842, 385.4618181818182, 'X[5] <= 31.0\\ngini = 0.464\\nsamples = 2370\\nvalue = [1501, 869]'),\n",
       " Text(568.2789473684211, 326.16, 'X[56] <= 0.5\\ngini = 0.47\\nsamples = 214\\nvalue = [81, 133]'),\n",
       " Text(556.042105263158, 266.85818181818183, 'X[2] <= 13.5\\ngini = 0.405\\nsamples = 156\\nvalue = [44, 112]'),\n",
       " Text(550.1684210526316, 207.55636363636364, 'X[0] <= 67.5\\ngini = 0.313\\nsamples = 103\\nvalue = [20, 83]'),\n",
       " Text(548.2105263157895, 148.2545454545455, 'X[0] <= 52.0\\ngini = 0.378\\nsamples = 79\\nvalue = [20, 59]'),\n",
       " Text(544.2947368421053, 88.95272727272732, 'X[41] <= 0.5\\ngini = 0.223\\nsamples = 47\\nvalue = [6, 41]'),\n",
       " Text(542.3368421052631, 29.650909090909067, 'gini = 0.169\\nsamples = 43\\nvalue = [4, 39]'),\n",
       " Text(546.2526315789474, 29.650909090909067, 'gini = 0.5\\nsamples = 4\\nvalue = [2, 2]'),\n",
       " Text(552.1263157894737, 88.95272727272732, 'X[37] <= 0.5\\ngini = 0.492\\nsamples = 32\\nvalue = [14, 18]'),\n",
       " Text(550.1684210526316, 29.650909090909067, 'gini = 0.459\\nsamples = 28\\nvalue = [10, 18]'),\n",
       " Text(554.0842105263158, 29.650909090909067, 'gini = 0.0\\nsamples = 4\\nvalue = [4, 0]'),\n",
       " Text(552.1263157894737, 148.2545454545455, 'gini = 0.0\\nsamples = 24\\nvalue = [0, 24]'),\n",
       " Text(561.9157894736842, 207.55636363636364, 'X[0] <= 29.5\\ngini = 0.496\\nsamples = 53\\nvalue = [24, 29]'),\n",
       " Text(559.9578947368421, 148.2545454545455, 'gini = 0.0\\nsamples = 5\\nvalue = [0, 5]'),\n",
       " Text(563.8736842105263, 148.2545454545455, 'X[11] <= 0.5\\ngini = 0.5\\nsamples = 48\\nvalue = [24, 24]'),\n",
       " Text(559.9578947368421, 88.95272727272732, 'X[7] <= 0.5\\ngini = 0.492\\nsamples = 39\\nvalue = [17, 22]'),\n",
       " Text(558.0, 29.650909090909067, 'gini = 0.482\\nsamples = 37\\nvalue = [15, 22]'),\n",
       " Text(561.9157894736842, 29.650909090909067, 'gini = 0.0\\nsamples = 2\\nvalue = [2, 0]'),\n",
       " Text(567.7894736842105, 88.95272727272732, 'X[38] <= 0.5\\ngini = 0.346\\nsamples = 9\\nvalue = [7, 2]'),\n",
       " Text(565.8315789473685, 29.650909090909067, 'gini = 0.219\\nsamples = 8\\nvalue = [7, 1]'),\n",
       " Text(569.7473684210527, 29.650909090909067, 'gini = 0.0\\nsamples = 1\\nvalue = [0, 1]'),\n",
       " Text(580.5157894736842, 266.85818181818183, 'X[0] <= 35.5\\ngini = 0.462\\nsamples = 58\\nvalue = [37, 21]'),\n",
       " Text(575.621052631579, 207.55636363636364, 'X[34] <= 0.5\\ngini = 0.491\\nsamples = 23\\nvalue = [10, 13]'),\n",
       " Text(573.6631578947369, 148.2545454545455, 'X[9] <= 0.5\\ngini = 0.494\\nsamples = 18\\nvalue = [10, 8]'),\n",
       " Text(571.7052631578948, 88.95272727272732, 'gini = 0.0\\nsamples = 4\\nvalue = [4, 0]'),\n",
       " Text(575.621052631579, 88.95272727272732, 'X[1] <= 168389.0\\ngini = 0.49\\nsamples = 14\\nvalue = [6, 8]'),\n",
       " Text(573.6631578947369, 29.650909090909067, 'gini = 0.375\\nsamples = 8\\nvalue = [2, 6]'),\n",
       " Text(577.578947368421, 29.650909090909067, 'gini = 0.444\\nsamples = 6\\nvalue = [4, 2]'),\n",
       " Text(577.578947368421, 148.2545454545455, 'gini = 0.0\\nsamples = 5\\nvalue = [0, 5]'),\n",
       " Text(585.4105263157895, 207.55636363636364, 'X[1] <= 68811.5\\ngini = 0.353\\nsamples = 35\\nvalue = [27, 8]'),\n",
       " Text(581.4947368421053, 148.2545454545455, 'X[25] <= 0.5\\ngini = 0.48\\nsamples = 5\\nvalue = [2, 3]'),\n",
       " Text(579.5368421052632, 88.95272727272732, 'gini = 0.0\\nsamples = 3\\nvalue = [0, 3]'),\n",
       " Text(583.4526315789474, 88.95272727272732, 'gini = 0.0\\nsamples = 2\\nvalue = [2, 0]'),\n",
       " Text(589.3263157894737, 148.2545454545455, 'X[0] <= 66.5\\ngini = 0.278\\nsamples = 30\\nvalue = [25, 5]'),\n",
       " Text(587.3684210526316, 88.95272727272732, 'X[7] <= 0.5\\ngini = 0.238\\nsamples = 29\\nvalue = [25, 4]'),\n",
       " Text(585.4105263157895, 29.650909090909067, 'gini = 0.153\\nsamples = 24\\nvalue = [22, 2]'),\n",
       " Text(589.3263157894737, 29.650909090909067, 'gini = 0.48\\nsamples = 5\\nvalue = [3, 2]'),\n",
       " Text(591.2842105263159, 88.95272727272732, 'gini = 0.0\\nsamples = 1\\nvalue = [0, 1]'),\n",
       " Text(629.9526315789474, 326.16, 'X[3] <= 3120.0\\ngini = 0.45\\nsamples = 2156\\nvalue = [1420, 736]'),\n",
       " Text(619.6736842105263, 266.85818181818183, 'X[0] <= 28.5\\ngini = 0.442\\nsamples = 2108\\nvalue = [1412, 696]'),\n",
       " Text(606.9473684210527, 207.55636363636364, 'X[0] <= 25.5\\ngini = 0.479\\nsamples = 138\\nvalue = [55, 83]'),\n",
       " Text(599.1157894736842, 148.2545454545455, 'X[1] <= 247789.0\\ngini = 0.349\\nsamples = 40\\nvalue = [9, 31]'),\n",
       " Text(595.2, 88.95272727272732, 'X[10] <= 0.5\\ngini = 0.238\\nsamples = 29\\nvalue = [4, 25]'),\n",
       " Text(593.2421052631579, 29.650909090909067, 'gini = 0.191\\nsamples = 28\\nvalue = [3, 25]'),\n",
       " Text(597.1578947368421, 29.650909090909067, 'gini = 0.0\\nsamples = 1\\nvalue = [1, 0]'),\n",
       " Text(603.0315789473684, 88.95272727272732, 'X[56] <= 0.5\\ngini = 0.496\\nsamples = 11\\nvalue = [5, 6]'),\n",
       " Text(601.0736842105264, 29.650909090909067, 'gini = 0.469\\nsamples = 8\\nvalue = [5, 3]'),\n",
       " Text(604.9894736842106, 29.650909090909067, 'gini = 0.0\\nsamples = 3\\nvalue = [0, 3]'),\n",
       " Text(614.7789473684211, 148.2545454545455, 'X[56] <= 0.5\\ngini = 0.498\\nsamples = 98\\nvalue = [46, 52]'),\n",
       " Text(610.8631578947369, 88.95272727272732, 'X[1] <= 52032.0\\ngini = 0.478\\nsamples = 76\\nvalue = [30, 46]'),\n",
       " Text(608.9052631578948, 29.650909090909067, 'gini = 0.0\\nsamples = 5\\nvalue = [0, 5]'),\n",
       " Text(612.8210526315789, 29.650909090909067, 'gini = 0.488\\nsamples = 71\\nvalue = [30, 41]'),\n",
       " Text(618.6947368421053, 88.95272727272732, 'X[1] <= 499648.5\\ngini = 0.397\\nsamples = 22\\nvalue = [16, 6]'),\n",
       " Text(616.7368421052632, 29.650909090909067, 'gini = 0.363\\nsamples = 21\\nvalue = [16, 5]'),\n",
       " Text(620.6526315789474, 29.650909090909067, 'gini = 0.0\\nsamples = 1\\nvalue = [0, 1]'),\n",
       " Text(632.4, 207.55636363636364, 'X[4] <= 629.0\\ngini = 0.429\\nsamples = 1970\\nvalue = [1357, 613]'),\n",
       " Text(630.4421052631579, 148.2545454545455, 'X[37] <= 0.5\\ngini = 0.424\\nsamples = 1952\\nvalue = [1357, 595]'),\n",
       " Text(626.5263157894738, 88.95272727272732, 'X[43] <= 0.5\\ngini = 0.453\\nsamples = 1405\\nvalue = [918, 487]'),\n",
       " Text(624.5684210526316, 29.650909090909067, 'gini = 0.493\\nsamples = 626\\nvalue = [349, 277]'),\n",
       " Text(628.4842105263158, 29.650909090909067, 'gini = 0.394\\nsamples = 779\\nvalue = [569, 210]'),\n",
       " Text(634.3578947368421, 88.95272727272732, 'X[11] <= 0.5\\ngini = 0.317\\nsamples = 547\\nvalue = [439, 108]'),\n",
       " Text(632.4, 29.650909090909067, 'gini = 0.282\\nsamples = 500\\nvalue = [415, 85]'),\n",
       " Text(636.3157894736843, 29.650909090909067, 'gini = 0.5\\nsamples = 47\\nvalue = [24, 23]'),\n",
       " Text(634.3578947368421, 148.2545454545455, 'gini = 0.0\\nsamples = 18\\nvalue = [0, 18]'),\n",
       " Text(640.2315789473685, 266.85818181818183, 'X[3] <= 4225.0\\ngini = 0.278\\nsamples = 48\\nvalue = [8, 40]'),\n",
       " Text(638.2736842105263, 207.55636363636364, 'gini = 0.0\\nsamples = 20\\nvalue = [0, 20]'),\n",
       " Text(642.1894736842106, 207.55636363636364, 'X[3] <= 4447.0\\ngini = 0.408\\nsamples = 28\\nvalue = [8, 20]'),\n",
       " Text(640.2315789473685, 148.2545454545455, 'X[37] <= 0.5\\ngini = 0.198\\nsamples = 9\\nvalue = [8, 1]'),\n",
       " Text(638.2736842105263, 88.95272727272732, 'gini = 0.0\\nsamples = 7\\nvalue = [7, 0]'),\n",
       " Text(642.1894736842106, 88.95272727272732, 'X[22] <= 0.5\\ngini = 0.5\\nsamples = 2\\nvalue = [1, 1]'),\n",
       " Text(640.2315789473685, 29.650909090909067, 'gini = 0.0\\nsamples = 1\\nvalue = [0, 1]'),\n",
       " Text(644.1473684210526, 29.650909090909067, 'gini = 0.0\\nsamples = 1\\nvalue = [1, 0]'),\n",
       " Text(644.1473684210526, 148.2545454545455, 'gini = 0.0\\nsamples = 19\\nvalue = [0, 19]'),\n",
       " Text(652.9578947368421, 385.4618181818182, 'X[4] <= 1989.5\\ngini = 0.063\\nsamples = 278\\nvalue = [269, 9]'),\n",
       " Text(646.1052631578948, 326.16, 'X[6] <= 0.5\\ngini = 0.009\\nsamples = 233\\nvalue = [232, 1]'),\n",
       " Text(644.1473684210526, 266.85818181818183, 'gini = 0.0\\nsamples = 220\\nvalue = [220, 0]'),\n",
       " Text(648.0631578947368, 266.85818181818183, 'X[0] <= 48.5\\ngini = 0.142\\nsamples = 13\\nvalue = [12, 1]'),\n",
       " Text(646.1052631578948, 207.55636363636364, 'gini = 0.0\\nsamples = 12\\nvalue = [12, 0]'),\n",
       " Text(650.021052631579, 207.55636363636364, 'gini = 0.0\\nsamples = 1\\nvalue = [0, 1]'),\n",
       " Text(659.8105263157895, 326.16, 'X[4] <= 2212.5\\ngini = 0.292\\nsamples = 45\\nvalue = [37, 8]'),\n",
       " Text(655.8947368421053, 266.85818181818183, 'X[0] <= 65.0\\ngini = 0.219\\nsamples = 8\\nvalue = [1, 7]'),\n",
       " Text(653.9368421052632, 207.55636363636364, 'gini = 0.0\\nsamples = 7\\nvalue = [0, 7]'),\n",
       " Text(657.8526315789474, 207.55636363636364, 'gini = 0.0\\nsamples = 1\\nvalue = [1, 0]'),\n",
       " Text(663.7263157894737, 266.85818181818183, 'X[7] <= 0.5\\ngini = 0.053\\nsamples = 37\\nvalue = [36, 1]'),\n",
       " Text(661.7684210526317, 207.55636363636364, 'gini = 0.0\\nsamples = 36\\nvalue = [36, 0]'),\n",
       " Text(665.6842105263158, 207.55636363636364, 'gini = 0.0\\nsamples = 1\\nvalue = [0, 1]'),\n",
       " Text(663.7263157894737, 444.7636363636364, 'X[38] <= 0.5\\ngini = 0.004\\nsamples = 475\\nvalue = [474, 1]'),\n",
       " Text(661.7684210526317, 385.4618181818182, 'gini = 0.0\\nsamples = 471\\nvalue = [471, 0]'),\n",
       " Text(665.6842105263158, 385.4618181818182, 'X[5] <= 45.0\\ngini = 0.375\\nsamples = 4\\nvalue = [3, 1]'),\n",
       " Text(663.7263157894737, 326.16, 'gini = 0.0\\nsamples = 3\\nvalue = [3, 0]'),\n",
       " Text(667.6421052631579, 326.16, 'gini = 0.0\\nsamples = 1\\nvalue = [0, 1]')]"
      ]
     },
     "execution_count": 95,
     "metadata": {},
     "output_type": "execute_result"
    },
    {
     "data": {
      "image/png": "[encoded data removed]",
      "text/plain": [
       "<Figure size 864x864 with 1 Axes>"
      ]
     },
     "metadata": {
      "needs_background": "light"
     },
     "output_type": "display_data"
    }
   ],
   "source": [
    "fig, ax = plt.subplots(figsize=(12, 12))\n",
    "tree.plot_tree(model_treeMAX) "
   ]
  },
  {
   "cell_type": "code",
   "execution_count": 96,
   "metadata": {},
   "outputs": [
    {
     "name": "stdout",
     "output_type": "stream",
     "text": [
      "Sensitivity:  0.9417738659444821\n",
      "Specificity:  0.5721476510067114\n",
      "Precision:  0.8721003134796238\n",
      "Accuracy:  0.8515712969597707\n"
     ]
    }
   ],
   "source": [
    "confusion_matrix_TreeMAX = pd.crosstab(testy, model_treeMAX.predict(testX))\n",
    "Sensitivity_TreeMAX, Specificity_TreeMAX, Precision_TreeMAX, Accuracy_TreeMAX = calculate_four_metrics(confusion_matrix_TreeMAX)\n",
    "print(\"Sensitivity: \", Sensitivity_TreeMAX)\n",
    "print(\"Specificity: \", Specificity_TreeMAX)\n",
    "print(\"Precision: \", Precision_TreeMAX)\n",
    "print(\"Accuracy: \", Accuracy_TreeMAX)"
   ]
  },
  {
   "cell_type": "markdown",
   "metadata": {},
   "source": [
    "### Random Forest"
   ]
  },
  {
   "cell_type": "code",
   "execution_count": 97,
   "metadata": {},
   "outputs": [],
   "source": [
    "max_depths = range(10, 30)\n",
    "results = np.array([])\n",
    "for max_depth in max_depths:\n",
    "    rf = ensemble.RandomForestClassifier(max_depth=max_depth, n_estimators=100, random_state=43)\n",
    "    results = np.append(results, \n",
    "                        np.mean(model_selection.cross_val_score(rf, trainX, trainy, scoring='recall')))"
   ]
  },
  {
   "cell_type": "code",
   "execution_count": 98,
   "metadata": {},
   "outputs": [
    {
     "data": {
      "text/plain": [
       "array([0.95754254, 0.95736948, 0.95661956, 0.95419671, 0.95488895,\n",
       "       0.9542544 , 0.95321604, 0.95275454, 0.95113931, 0.95148543,\n",
       "       0.94923565, 0.9486011 , 0.94935102, 0.94652437, 0.94537064,\n",
       "       0.94346697, 0.94427459, 0.94231324, 0.94202481, 0.9411595 ])"
      ]
     },
     "execution_count": 98,
     "metadata": {},
     "output_type": "execute_result"
    }
   ],
   "source": [
    "results"
   ]
  },
  {
   "cell_type": "code",
   "execution_count": 99,
   "metadata": {},
   "outputs": [],
   "source": [
    "min_leaves = range(2,20)\n",
    "results1 = np.array([])\n",
    "for min_leaf in min_leaves:\n",
    "    rf = ensemble.RandomForestClassifier(min_samples_leaf=min_leaf, n_estimators=100, random_state=43)\n",
    "    results1 = np.append(results1, \n",
    "                        np.mean(model_selection.cross_val_score(rf, trainX, trainy, scoring='recall')))"
   ]
  },
  {
   "cell_type": "code",
   "execution_count": 163,
   "metadata": {},
   "outputs": [
    {
     "data": {
      "text/plain": [
       "array([0.94715893, 0.94796654, 0.94871647, 0.94912028, 0.94992789,\n",
       "       0.94837035, 0.94969714, 0.94929334, 0.94998558, 0.95044707,\n",
       "       0.95090857, 0.95183155, 0.9525238 , 0.95333141, 0.95200461,\n",
       "       0.95177387, 0.95269686, 0.95240842])"
      ]
     },
     "execution_count": 163,
     "metadata": {},
     "output_type": "execute_result"
    }
   ],
   "source": [
    "results1"
   ]
  },
  {
   "cell_type": "markdown",
   "metadata": {},
   "source": [
    "### Max depths better results than min leaves for Random Forest"
   ]
  },
  {
   "cell_type": "code",
   "execution_count": 100,
   "metadata": {},
   "outputs": [
    {
     "data": {
      "text/plain": [
       "RandomForestClassifier(bootstrap=True, ccp_alpha=0.0, class_weight=None,\n",
       "                       criterion='gini', max_depth=10, max_features='auto',\n",
       "                       max_leaf_nodes=None, max_samples=None,\n",
       "                       min_impurity_decrease=0.0, min_impurity_split=None,\n",
       "                       min_samples_leaf=1, min_samples_split=2,\n",
       "                       min_weight_fraction_leaf=0.0, n_estimators=100,\n",
       "                       n_jobs=None, oob_score=False, random_state=43, verbose=0,\n",
       "                       warm_start=False)"
      ]
     },
     "execution_count": 100,
     "metadata": {},
     "output_type": "execute_result"
    }
   ],
   "source": [
    "rf = ensemble.RandomForestClassifier(max_depth=max_depths[np.argmax(results)], n_estimators=100, random_state=43)\n",
    "rf.fit(trainX, trainy)\n"
   ]
  },
  {
   "cell_type": "code",
   "execution_count": 101,
   "metadata": {},
   "outputs": [
    {
     "name": "stdout",
     "output_type": "stream",
     "text": [
      "Sensitivity:  0.9577522004062289\n",
      "Specificity:  0.5276845637583892\n",
      "Precision:  0.862666178802293\n",
      "Accuracy:  0.8527996724332071\n"
     ]
    }
   ],
   "source": [
    "confusion_matrix_RF = pd.crosstab(testy, rf.predict(testX))\n",
    "Sensitivity_RF, Specificity_RF, Precision_RF, Accuracy_RF = calculate_four_metrics(confusion_matrix_RF)\n",
    "print(\"Sensitivity: \", Sensitivity_RF)\n",
    "print(\"Specificity: \", Specificity_RF)\n",
    "print(\"Precision: \", Precision_RF)\n",
    "print(\"Accuracy: \", Accuracy_RF)"
   ]
  },
  {
   "cell_type": "code",
   "execution_count": null,
   "metadata": {},
   "outputs": [],
   "source": []
  },
  {
   "cell_type": "code",
   "execution_count": null,
   "metadata": {},
   "outputs": [],
   "source": []
  },
  {
   "cell_type": "markdown",
   "metadata": {},
   "source": [
    "### Oversampling"
   ]
  },
  {
   "cell_type": "code",
   "execution_count": 102,
   "metadata": {},
   "outputs": [
    {
     "data": {
      "text/plain": [
       "1    24720\n",
       "0     7841\n",
       "Name:  income, dtype: int64"
      ]
     },
     "execution_count": 102,
     "metadata": {},
     "output_type": "execute_result"
    }
   ],
   "source": [
    "incomey.value_counts()"
   ]
  },
  {
   "cell_type": "code",
   "execution_count": 103,
   "metadata": {},
   "outputs": [
    {
     "data": {
      "text/plain": [
       "1    0.75919\n",
       "0    0.24081\n",
       "Name:  income, dtype: float64"
      ]
     },
     "execution_count": 103,
     "metadata": {},
     "output_type": "execute_result"
    }
   ],
   "source": [
    "incomey.value_counts()/incomey.value_counts().sum()"
   ]
  },
  {
   "cell_type": "markdown",
   "metadata": {},
   "source": [
    "### Make the ratio of 1 to 0  6:4 using oversampling"
   ]
  },
  {
   "cell_type": "code",
   "execution_count": 104,
   "metadata": {},
   "outputs": [
    {
     "data": {
      "text/plain": [
       "1    17335\n",
       "0     5457\n",
       "Name:  income, dtype: int64"
      ]
     },
     "execution_count": 104,
     "metadata": {},
     "output_type": "execute_result"
    }
   ],
   "source": [
    "trainy.value_counts()"
   ]
  },
  {
   "cell_type": "markdown",
   "metadata": {},
   "source": [
    "x = 17335 * 4 /6"
   ]
  },
  {
   "cell_type": "code",
   "execution_count": 105,
   "metadata": {},
   "outputs": [
    {
     "data": {
      "text/plain": [
       "11556"
      ]
     },
     "execution_count": 105,
     "metadata": {},
     "output_type": "execute_result"
    }
   ],
   "source": [
    "int(trainy.value_counts()[1] * 4/6)"
   ]
  },
  {
   "cell_type": "code",
   "execution_count": 106,
   "metadata": {},
   "outputs": [],
   "source": [
    "oversampledX = trainX[trainy==0].sample(n = int(trainy.value_counts()[1] * 4/6), replace=True, random_state=53)"
   ]
  },
  {
   "cell_type": "code",
   "execution_count": 107,
   "metadata": {},
   "outputs": [],
   "source": [
    "oversampledy = trainy[trainy==0].sample(n = int(trainy.value_counts()[1] * 4/6), replace=True, random_state=53)"
   ]
  },
  {
   "cell_type": "code",
   "execution_count": 108,
   "metadata": {},
   "outputs": [
    {
     "data": {
      "text/html": [
       "<div>\n",
       "<style scoped>\n",
       "    .dataframe tbody tr th:only-of-type {\n",
       "        vertical-align: middle;\n",
       "    }\n",
       "\n",
       "    .dataframe tbody tr th {\n",
       "        vertical-align: top;\n",
       "    }\n",
       "\n",
       "    .dataframe thead th {\n",
       "        text-align: right;\n",
       "    }\n",
       "</style>\n",
       "<table border=\"1\" class=\"dataframe\">\n",
       "  <thead>\n",
       "    <tr style=\"text-align: right;\">\n",
       "      <th></th>\n",
       "      <th>age</th>\n",
       "      <th>fnlwgt</th>\n",
       "      <th>education-num</th>\n",
       "      <th>capital-gain</th>\n",
       "      <th>capital-loss</th>\n",
       "      <th>hours-per-week</th>\n",
       "      <th>workclass_ Federal-gov</th>\n",
       "      <th>workclass_ Local-gov</th>\n",
       "      <th>workclass_ Never-worked</th>\n",
       "      <th>workclass_ Private</th>\n",
       "      <th>...</th>\n",
       "      <th>native-country_ Poland</th>\n",
       "      <th>native-country_ Portugal</th>\n",
       "      <th>native-country_ Puerto-Rico</th>\n",
       "      <th>native-country_ Scotland</th>\n",
       "      <th>native-country_ South</th>\n",
       "      <th>native-country_ Taiwan</th>\n",
       "      <th>native-country_ Thailand</th>\n",
       "      <th>native-country_ Trinadad&amp;Tobago</th>\n",
       "      <th>native-country_ United-States</th>\n",
       "      <th>native-country_ Vietnam</th>\n",
       "    </tr>\n",
       "  </thead>\n",
       "  <tbody>\n",
       "    <tr>\n",
       "      <th>24683</th>\n",
       "      <td>45</td>\n",
       "      <td>201127</td>\n",
       "      <td>10</td>\n",
       "      <td>0</td>\n",
       "      <td>0</td>\n",
       "      <td>56</td>\n",
       "      <td>1</td>\n",
       "      <td>0</td>\n",
       "      <td>0</td>\n",
       "      <td>0</td>\n",
       "      <td>...</td>\n",
       "      <td>0</td>\n",
       "      <td>0</td>\n",
       "      <td>0</td>\n",
       "      <td>0</td>\n",
       "      <td>0</td>\n",
       "      <td>0</td>\n",
       "      <td>0</td>\n",
       "      <td>0</td>\n",
       "      <td>1</td>\n",
       "      <td>0</td>\n",
       "    </tr>\n",
       "    <tr>\n",
       "      <th>8646</th>\n",
       "      <td>32</td>\n",
       "      <td>256362</td>\n",
       "      <td>9</td>\n",
       "      <td>0</td>\n",
       "      <td>0</td>\n",
       "      <td>40</td>\n",
       "      <td>0</td>\n",
       "      <td>0</td>\n",
       "      <td>0</td>\n",
       "      <td>1</td>\n",
       "      <td>...</td>\n",
       "      <td>0</td>\n",
       "      <td>0</td>\n",
       "      <td>0</td>\n",
       "      <td>0</td>\n",
       "      <td>0</td>\n",
       "      <td>0</td>\n",
       "      <td>0</td>\n",
       "      <td>0</td>\n",
       "      <td>1</td>\n",
       "      <td>0</td>\n",
       "    </tr>\n",
       "    <tr>\n",
       "      <th>16856</th>\n",
       "      <td>71</td>\n",
       "      <td>196610</td>\n",
       "      <td>4</td>\n",
       "      <td>6097</td>\n",
       "      <td>0</td>\n",
       "      <td>40</td>\n",
       "      <td>0</td>\n",
       "      <td>0</td>\n",
       "      <td>0</td>\n",
       "      <td>1</td>\n",
       "      <td>...</td>\n",
       "      <td>0</td>\n",
       "      <td>0</td>\n",
       "      <td>0</td>\n",
       "      <td>0</td>\n",
       "      <td>0</td>\n",
       "      <td>0</td>\n",
       "      <td>0</td>\n",
       "      <td>0</td>\n",
       "      <td>1</td>\n",
       "      <td>0</td>\n",
       "    </tr>\n",
       "    <tr>\n",
       "      <th>28266</th>\n",
       "      <td>64</td>\n",
       "      <td>47298</td>\n",
       "      <td>16</td>\n",
       "      <td>0</td>\n",
       "      <td>0</td>\n",
       "      <td>60</td>\n",
       "      <td>0</td>\n",
       "      <td>0</td>\n",
       "      <td>0</td>\n",
       "      <td>1</td>\n",
       "      <td>...</td>\n",
       "      <td>0</td>\n",
       "      <td>0</td>\n",
       "      <td>0</td>\n",
       "      <td>0</td>\n",
       "      <td>0</td>\n",
       "      <td>0</td>\n",
       "      <td>0</td>\n",
       "      <td>0</td>\n",
       "      <td>1</td>\n",
       "      <td>0</td>\n",
       "    </tr>\n",
       "    <tr>\n",
       "      <th>19486</th>\n",
       "      <td>47</td>\n",
       "      <td>205730</td>\n",
       "      <td>9</td>\n",
       "      <td>0</td>\n",
       "      <td>0</td>\n",
       "      <td>56</td>\n",
       "      <td>0</td>\n",
       "      <td>0</td>\n",
       "      <td>0</td>\n",
       "      <td>1</td>\n",
       "      <td>...</td>\n",
       "      <td>0</td>\n",
       "      <td>0</td>\n",
       "      <td>0</td>\n",
       "      <td>0</td>\n",
       "      <td>0</td>\n",
       "      <td>0</td>\n",
       "      <td>0</td>\n",
       "      <td>0</td>\n",
       "      <td>1</td>\n",
       "      <td>0</td>\n",
       "    </tr>\n",
       "  </tbody>\n",
       "</table>\n",
       "<p>5 rows × 97 columns</p>\n",
       "</div>"
      ],
      "text/plain": [
       "       age   fnlwgt   education-num   capital-gain   capital-loss  \\\n",
       "24683   45   201127              10              0              0   \n",
       "8646    32   256362               9              0              0   \n",
       "16856   71   196610               4           6097              0   \n",
       "28266   64    47298              16              0              0   \n",
       "19486   47   205730               9              0              0   \n",
       "\n",
       "        hours-per-week   workclass_ Federal-gov   workclass_ Local-gov  \\\n",
       "24683               56                        1                      0   \n",
       "8646                40                        0                      0   \n",
       "16856               40                        0                      0   \n",
       "28266               60                        0                      0   \n",
       "19486               56                        0                      0   \n",
       "\n",
       "        workclass_ Never-worked   workclass_ Private  ...  \\\n",
       "24683                         0                    0  ...   \n",
       "8646                          0                    1  ...   \n",
       "16856                         0                    1  ...   \n",
       "28266                         0                    1  ...   \n",
       "19486                         0                    1  ...   \n",
       "\n",
       "        native-country_ Poland   native-country_ Portugal  \\\n",
       "24683                        0                          0   \n",
       "8646                         0                          0   \n",
       "16856                        0                          0   \n",
       "28266                        0                          0   \n",
       "19486                        0                          0   \n",
       "\n",
       "        native-country_ Puerto-Rico   native-country_ Scotland  \\\n",
       "24683                             0                          0   \n",
       "8646                              0                          0   \n",
       "16856                             0                          0   \n",
       "28266                             0                          0   \n",
       "19486                             0                          0   \n",
       "\n",
       "        native-country_ South   native-country_ Taiwan  \\\n",
       "24683                       0                        0   \n",
       "8646                        0                        0   \n",
       "16856                       0                        0   \n",
       "28266                       0                        0   \n",
       "19486                       0                        0   \n",
       "\n",
       "        native-country_ Thailand   native-country_ Trinadad&Tobago  \\\n",
       "24683                          0                                 0   \n",
       "8646                           0                                 0   \n",
       "16856                          0                                 0   \n",
       "28266                          0                                 0   \n",
       "19486                          0                                 0   \n",
       "\n",
       "        native-country_ United-States   native-country_ Vietnam  \n",
       "24683                               1                         0  \n",
       "8646                                1                         0  \n",
       "16856                               1                         0  \n",
       "28266                               1                         0  \n",
       "19486                               1                         0  \n",
       "\n",
       "[5 rows x 97 columns]"
      ]
     },
     "execution_count": 108,
     "metadata": {},
     "output_type": "execute_result"
    }
   ],
   "source": [
    "oversampledX.head()"
   ]
  },
  {
   "cell_type": "code",
   "execution_count": 109,
   "metadata": {},
   "outputs": [],
   "source": [
    "trainX1 = trainX[trainy==1].append(oversampledX)\n",
    "trainy1 = trainy[trainy==1].append(oversampledy)"
   ]
  },
  {
   "cell_type": "code",
   "execution_count": 110,
   "metadata": {},
   "outputs": [
    {
     "data": {
      "text/plain": [
       "1    17335\n",
       "0    11556\n",
       "Name:  income, dtype: int64"
      ]
     },
     "execution_count": 110,
     "metadata": {},
     "output_type": "execute_result"
    }
   ],
   "source": [
    "trainy1.value_counts()"
   ]
  },
  {
   "cell_type": "code",
   "execution_count": 111,
   "metadata": {},
   "outputs": [
    {
     "data": {
      "text/plain": [
       "1    0.600014\n",
       "0    0.399986\n",
       "Name:  income, dtype: float64"
      ]
     },
     "execution_count": 111,
     "metadata": {},
     "output_type": "execute_result"
    }
   ],
   "source": [
    "trainy1.value_counts()/trainy1.value_counts().sum()"
   ]
  },
  {
   "cell_type": "markdown",
   "metadata": {},
   "source": [
    "### Undersampling"
   ]
  },
  {
   "cell_type": "code",
   "execution_count": 112,
   "metadata": {},
   "outputs": [
    {
     "data": {
      "text/plain": [
       "1    17335\n",
       "0     5457\n",
       "Name:  income, dtype: int64"
      ]
     },
     "execution_count": 112,
     "metadata": {},
     "output_type": "execute_result"
    }
   ],
   "source": [
    "trainy.value_counts()"
   ]
  },
  {
   "cell_type": "markdown",
   "metadata": {},
   "source": [
    "x= 5457 * 6 / 4"
   ]
  },
  {
   "cell_type": "code",
   "execution_count": 113,
   "metadata": {},
   "outputs": [],
   "source": [
    "undersampledX = trainX[trainy==1].sample(n = int(trainy.value_counts()[0] * 6/4), replace=False, random_state=53)\n",
    "undersampledy = trainy[trainy==1].sample(n = int(trainy.value_counts()[0] * 6/4), replace=False, random_state=53)"
   ]
  },
  {
   "cell_type": "code",
   "execution_count": 114,
   "metadata": {},
   "outputs": [],
   "source": [
    "trainX2 = trainX[trainy==0].append(undersampledX)\n",
    "trainy2 = trainy[trainy==0].append(undersampledy)"
   ]
  },
  {
   "cell_type": "code",
   "execution_count": 115,
   "metadata": {},
   "outputs": [
    {
     "data": {
      "text/plain": [
       "1    8185\n",
       "0    5457\n",
       "Name:  income, dtype: int64"
      ]
     },
     "execution_count": 115,
     "metadata": {},
     "output_type": "execute_result"
    }
   ],
   "source": [
    "trainy2.value_counts()"
   ]
  },
  {
   "cell_type": "code",
   "execution_count": 116,
   "metadata": {},
   "outputs": [
    {
     "data": {
      "text/plain": [
       "1    0.599985\n",
       "0    0.400015\n",
       "Name:  income, dtype: float64"
      ]
     },
     "execution_count": 116,
     "metadata": {},
     "output_type": "execute_result"
    }
   ],
   "source": [
    "trainy2.value_counts()/trainy2.value_counts().sum()"
   ]
  },
  {
   "cell_type": "markdown",
   "metadata": {},
   "source": [
    "### Now that we have completed the Oversampling and undersampling, we can do the same modeling with the new training sets to see if we get better results"
   ]
  },
  {
   "cell_type": "code",
   "execution_count": null,
   "metadata": {},
   "outputs": [],
   "source": []
  },
  {
   "cell_type": "markdown",
   "metadata": {},
   "source": [
    "### Logistic Regression with Oversampled data"
   ]
  },
  {
   "cell_type": "code",
   "execution_count": 117,
   "metadata": {},
   "outputs": [],
   "source": [
    "trainXX = sm.add_constant(trainX1)\n",
    "testXX = sm.add_constant(testX)"
   ]
  },
  {
   "cell_type": "code",
   "execution_count": 118,
   "metadata": {},
   "outputs": [
    {
     "name": "stdout",
     "output_type": "stream",
     "text": [
      "                            OLS Regression Results                            \n",
      "==============================================================================\n",
      "Dep. Variable:                 income   R-squared:                       0.436\n",
      "Model:                            OLS   Adj. R-squared:                  0.434\n",
      "Method:                 Least Squares   F-statistic:                     231.8\n",
      "Date:                Sun, 16 Aug 2020   Prob (F-statistic):               0.00\n",
      "Time:                        09:56:24   Log-Likelihood:                -12107.\n",
      "No. Observations:               28891   AIC:                         2.441e+04\n",
      "Df Residuals:                   28794   BIC:                         2.521e+04\n",
      "Df Model:                          96                                         \n",
      "Covariance Type:            nonrobust                                         \n",
      "===============================================================================================================\n",
      "                                                  coef    std err          t      P>|t|      [0.025      0.975]\n",
      "---------------------------------------------------------------------------------------------------------------\n",
      "const                                           1.0453      0.118      8.847      0.000       0.814       1.277\n",
      "age                                            -0.0033      0.000    -15.392      0.000      -0.004      -0.003\n",
      " fnlwgt                                     -6.303e-08   2.13e-08     -2.954      0.003   -1.05e-07   -2.12e-08\n",
      " education-num                                 -0.0036      0.004     -1.017      0.309      -0.010       0.003\n",
      " capital-gain                               -5.859e-06   2.28e-07    -25.698      0.000   -6.31e-06   -5.41e-06\n",
      " capital-loss                               -7.889e-05   4.92e-06    -16.043      0.000   -8.85e-05   -6.93e-05\n",
      " hours-per-week                                -0.0038      0.000    -19.181      0.000      -0.004      -0.003\n",
      " workclass_ Federal-gov                        -0.3290      0.107     -3.065      0.002      -0.539      -0.119\n",
      " workclass_ Local-gov                          -0.2092      0.107     -1.954      0.051      -0.419       0.001\n",
      " workclass_ Never-worked                       -0.1223      0.197     -0.623      0.534      -0.508       0.263\n",
      " workclass_ Private                            -0.2232      0.107     -2.092      0.036      -0.432      -0.014\n",
      " workclass_ Self-emp-inc                       -0.2746      0.107     -2.561      0.010      -0.485      -0.064\n",
      " workclass_ Self-emp-not-inc                   -0.1732      0.107     -1.620      0.105      -0.383       0.036\n",
      " workclass_ State-gov                          -0.1874      0.107     -1.748      0.081      -0.398       0.023\n",
      " education_ 10th                                0.1050      0.020      5.363      0.000       0.067       0.143\n",
      " education_ 11th                                0.0800      0.017      4.795      0.000       0.047       0.113\n",
      " education_ 12th                                0.0661      0.022      3.040      0.002       0.023       0.109\n",
      " education_ 1st-4th                             0.1676      0.041      4.063      0.000       0.087       0.248\n",
      " education_ 5th-6th                             0.1477      0.033      4.419      0.000       0.082       0.213\n",
      " education_ 7th-8th                             0.1889      0.026      7.255      0.000       0.138       0.240\n",
      " education_ 9th                                 0.1198      0.025      4.774      0.000       0.071       0.169\n",
      " education_ Assoc-acdm                         -0.0539      0.015     -3.660      0.000      -0.083      -0.025\n",
      " education_ Assoc-voc                          -0.0146      0.012     -1.179      0.238      -0.039       0.010\n",
      " education_ Bachelors                          -0.1312      0.013    -10.153      0.000      -0.156      -0.106\n",
      " education_ Doctorate                          -0.2758      0.027    -10.368      0.000      -0.328      -0.224\n",
      " education_ HS-grad                             0.0549      0.007      7.931      0.000       0.041       0.068\n",
      " education_ Masters                            -0.2044      0.017    -11.749      0.000      -0.239      -0.170\n",
      " education_ Preschool                           0.1480      0.063      2.334      0.020       0.024       0.272\n",
      " education_ Prof-school                        -0.2363      0.023    -10.181      0.000      -0.282      -0.191\n",
      " marital-status_ Divorced                       0.0205      0.015      1.355      0.175      -0.009       0.050\n",
      " marital-status_ Married-AF-spouse             -0.2475      0.081     -3.053      0.002      -0.406      -0.089\n",
      " marital-status_ Married-civ-spouse            -0.1606      0.031     -5.191      0.000      -0.221      -0.100\n",
      " marital-status_ Married-spouse-absent          0.0104      0.025      0.408      0.683      -0.039       0.060\n",
      " marital-status_ Never-married                  0.0512      0.016      3.274      0.001       0.021       0.082\n",
      " marital-status_ Separated                      0.0203      0.019      1.059      0.289      -0.017       0.058\n",
      " occupation_ Adm-clerical                      -0.0411      0.013     -3.258      0.001      -0.066      -0.016\n",
      " occupation_ Armed-Forces                       0.0938      0.140      0.668      0.504      -0.181       0.369\n",
      " occupation_ Craft-repair                      -0.0340      0.012     -2.883      0.004      -0.057      -0.011\n",
      " occupation_ Exec-managerial                   -0.1631      0.012    -13.572      0.000      -0.187      -0.140\n",
      " occupation_ Farming-fishing                    0.0934      0.017      5.522      0.000       0.060       0.127\n",
      " occupation_ Handlers-cleaners                  0.0411      0.015      2.668      0.008       0.011       0.071\n",
      " occupation_ Machine-op-inspct                  0.0137      0.014      0.990      0.322      -0.013       0.041\n",
      " occupation_ Other-service                      0.0032      0.013      0.247      0.805      -0.022       0.028\n",
      " occupation_ Priv-house-serv                   -0.0627      0.037     -1.688      0.091      -0.135       0.010\n",
      " occupation_ Prof-specialty                    -0.0802      0.012     -6.658      0.000      -0.104      -0.057\n",
      " occupation_ Protective-serv                   -0.1297      0.019     -6.937      0.000      -0.166      -0.093\n",
      " occupation_ Sales                             -0.0939      0.012     -7.677      0.000      -0.118      -0.070\n",
      " occupation_ Tech-support                      -0.1265      0.017     -7.620      0.000      -0.159      -0.094\n",
      " relationship_ Husband                          0.1566      0.012     13.312      0.000       0.134       0.180\n",
      " relationship_ Not-in-family                    0.2922      0.029      9.940      0.000       0.235       0.350\n",
      " relationship_ Other-relative                   0.2965      0.029     10.217      0.000       0.240       0.353\n",
      " relationship_ Own-child                        0.3037      0.029     10.413      0.000       0.247       0.361\n",
      " relationship_ Unmarried                        0.2912      0.030      9.698      0.000       0.232       0.350\n",
      " race_ Amer-Indian-Eskimo                       0.1042      0.024      4.342      0.000       0.057       0.151\n",
      " race_ Asian-Pac-Islander                      -0.0049      0.019     -0.262      0.793      -0.042       0.032\n",
      " race_ Black                                    0.0231      0.008      2.836      0.005       0.007       0.039\n",
      " race_ Other                                    0.0728      0.027      2.659      0.008       0.019       0.126\n",
      " sex_ Female                                    0.0868      0.007     12.448      0.000       0.073       0.100\n",
      " native-country_ Cambodia                      -0.1722      0.132     -1.304      0.192      -0.431       0.087\n",
      " native-country_ Canada                         0.0679      0.101      0.670      0.503      -0.131       0.267\n",
      " native-country_ China                          0.1203      0.107      1.129      0.259      -0.089       0.329\n",
      " native-country_ Columbia                       0.1789      0.111      1.615      0.106      -0.038       0.396\n",
      " native-country_ Cuba                           0.0252      0.104      0.243      0.808      -0.178       0.228\n",
      " native-country_ Dominican-Republic             0.1090      0.109      1.002      0.316      -0.104       0.322\n",
      " native-country_ Ecuador                        0.1668      0.133      1.255      0.210      -0.094       0.427\n",
      " native-country_ El-Salvador                    0.0513      0.105      0.489      0.625      -0.154       0.257\n",
      " native-country_ England                       -0.0010      0.103     -0.010      0.992      -0.203       0.201\n",
      " native-country_ France                         0.0656      0.115      0.571      0.568      -0.160       0.291\n",
      " native-country_ Germany                       -0.0042      0.100     -0.042      0.967      -0.200       0.192\n",
      " native-country_ Greece                         0.2811      0.121      2.315      0.021       0.043       0.519\n",
      " native-country_ Guatemala                      0.0380      0.109      0.349      0.727      -0.175       0.251\n",
      " native-country_ Haiti                          0.0609      0.117      0.521      0.602      -0.168       0.290\n",
      " native-country_ Holand-Netherlands             0.1988      0.381      0.521      0.602      -0.549       0.946\n",
      " native-country_ Honduras                       0.0902      0.151      0.598      0.550      -0.205       0.386\n",
      " native-country_ Hong                           0.2100      0.136      1.548      0.122      -0.056       0.476\n",
      " native-country_ Hungary                        0.1501      0.151      0.996      0.319      -0.145       0.445\n",
      " native-country_ India                          0.1612      0.103      1.566      0.117      -0.041       0.363\n",
      " native-country_ Iran                           0.1550      0.115      1.343      0.179      -0.071       0.381\n",
      " native-country_ Ireland                        0.0157      0.126      0.125      0.901      -0.231       0.263\n",
      " native-country_ Italy                          0.0150      0.106      0.142      0.887      -0.192       0.222\n",
      " native-country_ Jamaica                        0.0241      0.105      0.230      0.818      -0.182       0.230\n",
      " native-country_ Japan                         -0.0537      0.109     -0.493      0.622      -0.267       0.160\n",
      " native-country_ Laos                           0.2754      0.138      1.990      0.047       0.004       0.547\n",
      " native-country_ Mexico                         0.1314      0.097      1.353      0.176      -0.059       0.322\n",
      " native-country_ Nicaragua                      0.1677      0.120      1.400      0.161      -0.067       0.402\n",
      " native-country_ Outlying-US(Guam-USVI-etc)     0.2117      0.169      1.254      0.210      -0.119       0.543\n",
      " native-country_ Peru                           0.1260      0.119      1.061      0.289      -0.107       0.359\n",
      " native-country_ Philippines                    0.0309      0.100      0.307      0.759      -0.166       0.228\n",
      " native-country_ Poland                         0.1142      0.107      1.065      0.287      -0.096       0.325\n",
      " native-country_ Portugal                       0.0922      0.117      0.785      0.433      -0.138       0.322\n",
      " native-country_ Puerto-Rico                    0.0578      0.102      0.565      0.572      -0.143       0.259\n",
      " native-country_ Scotland                       0.1334      0.161      0.826      0.409      -0.183       0.450\n",
      " native-country_ South                          0.1531      0.106      1.437      0.151      -0.056       0.362\n",
      " native-country_ Taiwan                         0.1135      0.111      1.023      0.306      -0.104       0.331\n",
      " native-country_ Thailand                       0.1056      0.141      0.751      0.453      -0.170       0.381\n",
      " native-country_ Trinadad&Tobago                0.0049      0.147      0.033      0.973      -0.283       0.292\n",
      " native-country_ United-States                  0.0453      0.095      0.475      0.635      -0.142       0.232\n",
      " native-country_ Vietnam                        0.1776      0.110      1.622      0.105      -0.037       0.392\n",
      "==============================================================================\n",
      "Omnibus:                      729.614   Durbin-Watson:                   0.876\n",
      "Prob(Omnibus):                  0.000   Jarque-Bera (JB):              367.441\n",
      "Skew:                           0.019   Prob(JB):                     1.63e-80\n",
      "Kurtosis:                       2.449   Cond. No.                     7.88e+15\n",
      "==============================================================================\n",
      "\n",
      "Warnings:\n",
      "[1] Standard Errors assume that the covariance matrix of the errors is correctly specified.\n",
      "[2] The smallest eigenvalue is 2.17e-17. This might indicate that there are\n",
      "strong multicollinearity problems or that the design matrix is singular.\n"
     ]
    }
   ],
   "source": [
    "model = sm.OLS(trainy1,trainXX)\n",
    "results = model.fit()\n",
    "print(results.summary())"
   ]
  },
  {
   "cell_type": "code",
   "execution_count": 119,
   "metadata": {},
   "outputs": [
    {
     "data": {
      "image/png": "[encoded data removed]",
      "text/plain": [
       "<Figure size 432x288 with 1 Axes>"
      ]
     },
     "execution_count": 119,
     "metadata": {},
     "output_type": "execute_result"
    },
    {
     "data": {
      "image/png": "[encoded data removed]",
      "text/plain": [
       "<Figure size 432x288 with 1 Axes>"
      ]
     },
     "metadata": {
      "needs_background": "light"
     },
     "output_type": "display_data"
    }
   ],
   "source": [
    "res = results.resid\n",
    "sm.qqplot(res, fit=True, line='45')"
   ]
  },
  {
   "cell_type": "code",
   "execution_count": 120,
   "metadata": {},
   "outputs": [
    {
     "data": {
      "text/plain": [
       "1270.9349557486858"
      ]
     },
     "execution_count": 120,
     "metadata": {},
     "output_type": "execute_result"
    }
   ],
   "source": [
    "predicted_y = results.predict(testXX)\n",
    "((testy - predicted_y)**2).sum()"
   ]
  },
  {
   "cell_type": "markdown",
   "metadata": {},
   "source": [
    "### Lasso with penalized logistic regression with Oversampled data"
   ]
  },
  {
   "cell_type": "code",
   "execution_count": 121,
   "metadata": {},
   "outputs": [],
   "source": [
    "model_logit_lassoCV = linear_model.LogisticRegressionCV(cv=5, Cs=100, penalty='l1', solver='liblinear', random_state=23941).fit(trainX1, trainy1)\n",
    "model_logit_lasso = linear_model.LogisticRegression(C=model_logit_lassoCV.C_[0], penalty='l1', solver='liblinear')"
   ]
  },
  {
   "cell_type": "code",
   "execution_count": 122,
   "metadata": {},
   "outputs": [],
   "source": [
    "model_logit_lasso = linear_model.LogisticRegression(C=model_logit_lassoCV.C_[0], penalty='l1', solver='liblinear')"
   ]
  },
  {
   "cell_type": "code",
   "execution_count": 123,
   "metadata": {},
   "outputs": [
    {
     "data": {
      "text/plain": [
       "LogisticRegression(C=5.857020818056673, class_weight=None, dual=False,\n",
       "                   fit_intercept=True, intercept_scaling=1, l1_ratio=None,\n",
       "                   max_iter=100, multi_class='auto', n_jobs=None, penalty='l1',\n",
       "                   random_state=None, solver='liblinear', tol=0.0001, verbose=0,\n",
       "                   warm_start=False)"
      ]
     },
     "execution_count": 123,
     "metadata": {},
     "output_type": "execute_result"
    }
   ],
   "source": [
    "model_logit_lasso.fit(trainX1, trainy1)"
   ]
  },
  {
   "cell_type": "code",
   "execution_count": 124,
   "metadata": {},
   "outputs": [
    {
     "name": "stdout",
     "output_type": "stream",
     "text": [
      "Sensitivity:  0.8532159783344617\n",
      "Specificity:  0.7609060402684564\n",
      "Precision:  0.9170426429922864\n",
      "Accuracy:  0.8306889139113522\n"
     ]
    }
   ],
   "source": [
    "confusion_matrix_Lasso_Oversample = pd.crosstab(testy, model_logit_lasso.predict(testX))\n",
    "Sensitivity_Lasso_Oversample, Specificity_Lasso_Oversample, Precision_Lasso_Oversample, Accuracy_Lasso_Oversample = calculate_four_metrics(confusion_matrix_Lasso_Oversample)\n",
    "print(\"Sensitivity: \", Sensitivity_Lasso_Oversample)\n",
    "print(\"Specificity: \", Specificity_Lasso_Oversample)\n",
    "print(\"Precision: \", Precision_Lasso_Oversample)\n",
    "print(\"Accuracy: \", Accuracy_Lasso_Oversample)"
   ]
  },
  {
   "cell_type": "code",
   "execution_count": null,
   "metadata": {},
   "outputs": [],
   "source": []
  },
  {
   "cell_type": "markdown",
   "metadata": {},
   "source": [
    "### Decision Tree model (Min Samples) with oversampled training "
   ]
  },
  {
   "cell_type": "code",
   "execution_count": 125,
   "metadata": {},
   "outputs": [],
   "source": [
    "min_samples = range(10,20)\n",
    "results = np.array([])\n",
    "for min_sample in min_samples:\n",
    "    model_tree = tree.DecisionTreeClassifier(min_samples_leaf=min_sample, random_state=53)\n",
    "    results = np.append(results, \n",
    "                        np.mean(model_selection.cross_val_score(model_tree, trainX1, trainy1, scoring='recall')))"
   ]
  },
  {
   "cell_type": "code",
   "execution_count": 126,
   "metadata": {},
   "outputs": [
    {
     "data": {
      "text/plain": [
       "array([0.85428324, 0.85549466, 0.8557831 , 0.85676377, 0.85474474,\n",
       "       0.85797519, 0.85964811, 0.85959042, 0.85895587, 0.85699452])"
      ]
     },
     "execution_count": 126,
     "metadata": {},
     "output_type": "execute_result"
    }
   ],
   "source": [
    "results"
   ]
  },
  {
   "cell_type": "code",
   "execution_count": 127,
   "metadata": {},
   "outputs": [
    {
     "data": {
      "text/plain": [
       "16"
      ]
     },
     "execution_count": 127,
     "metadata": {},
     "output_type": "execute_result"
    }
   ],
   "source": [
    "min_samples[np.argmax(results)]"
   ]
  },
  {
   "cell_type": "code",
   "execution_count": 128,
   "metadata": {},
   "outputs": [
    {
     "data": {
      "text/plain": [
       "DecisionTreeClassifier(ccp_alpha=0.0, class_weight=None, criterion='gini',\n",
       "                       max_depth=None, max_features=None, max_leaf_nodes=None,\n",
       "                       min_impurity_decrease=0.0, min_impurity_split=None,\n",
       "                       min_samples_leaf=16, min_samples_split=2,\n",
       "                       min_weight_fraction_leaf=0.0, presort='deprecated',\n",
       "                       random_state=None, splitter='best')"
      ]
     },
     "execution_count": 128,
     "metadata": {},
     "output_type": "execute_result"
    }
   ],
   "source": [
    "model_treeMIN = tree.DecisionTreeClassifier(min_samples_leaf=min_samples[np.argmax(results)])\n",
    "model_treeMIN.fit(trainX1, trainy1)"
   ]
  },
  {
   "cell_type": "code",
   "execution_count": 129,
   "metadata": {},
   "outputs": [
    {
     "name": "stdout",
     "output_type": "stream",
     "text": [
      "Sensitivity:  0.854840893703453\n",
      "Specificity:  0.7344798657718121\n",
      "Precision:  0.9088684134753815\n",
      "Accuracy:  0.8254683181492476\n"
     ]
    }
   ],
   "source": [
    "confusion_matrix_TreeMIN_Oversample = pd.crosstab(testy, model_treeMIN.predict(testX))\n",
    "Sensitivity_TreeMIN_Oversample, Specificity_TreeMIN_Oversample, Precision_TreeMIN_Oversample, Accuracy_TreeMIN_Oversample = calculate_four_metrics(confusion_matrix_TreeMIN_Oversample)\n",
    "print(\"Sensitivity: \", Sensitivity_TreeMIN_Oversample)\n",
    "print(\"Specificity: \", Specificity_TreeMIN_Oversample)\n",
    "print(\"Precision: \", Precision_TreeMIN_Oversample)\n",
    "print(\"Accuracy: \", Accuracy_TreeMIN_Oversample)"
   ]
  },
  {
   "cell_type": "markdown",
   "metadata": {},
   "source": [
    "### Decision Tree (Max Depth) using oversampled training data"
   ]
  },
  {
   "cell_type": "code",
   "execution_count": 130,
   "metadata": {},
   "outputs": [],
   "source": [
    "max_depths = range(10,20)\n",
    "results = np.array([])\n",
    "for max_depth in max_depths:\n",
    "    model_tree = tree.DecisionTreeClassifier(max_depth=max_depth, random_state=53)\n",
    "    results = np.append(results, \n",
    "                        np.mean(model_selection.cross_val_score(model_tree, trainX1, trainy1, scoring='recall')))"
   ]
  },
  {
   "cell_type": "code",
   "execution_count": 131,
   "metadata": {},
   "outputs": [
    {
     "data": {
      "text/plain": [
       "array([0.82855495, 0.84066917, 0.83893856, 0.84366888, 0.83847707,\n",
       "       0.85947505, 0.85457168, 0.8544563 , 0.85116816, 0.85370637])"
      ]
     },
     "execution_count": 131,
     "metadata": {},
     "output_type": "execute_result"
    }
   ],
   "source": [
    "results"
   ]
  },
  {
   "cell_type": "code",
   "execution_count": 132,
   "metadata": {},
   "outputs": [
    {
     "data": {
      "text/plain": [
       "DecisionTreeClassifier(ccp_alpha=0.0, class_weight=None, criterion='gini',\n",
       "                       max_depth=15, max_features=None, max_leaf_nodes=None,\n",
       "                       min_impurity_decrease=0.0, min_impurity_split=None,\n",
       "                       min_samples_leaf=1, min_samples_split=2,\n",
       "                       min_weight_fraction_leaf=0.0, presort='deprecated',\n",
       "                       random_state=None, splitter='best')"
      ]
     },
     "execution_count": 132,
     "metadata": {},
     "output_type": "execute_result"
    }
   ],
   "source": [
    "model_treeMAX = tree.DecisionTreeClassifier(max_depth=max_depths[np.argmax(results)])\n",
    "model_treeMAX.fit(trainX1, trainy1)"
   ]
  },
  {
   "cell_type": "code",
   "execution_count": 133,
   "metadata": {},
   "outputs": [
    {
     "data": {
      "text/plain": [
       "[Text(389.6169806235888, 631.9350000000001, 'X[30] <= 0.5\\ngini = 0.48\\nsamples = 28891\\nvalue = [11556, 17335]'),\n",
       " Text(217.63824244229804, 591.1650000000001, 'X[3] <= 7073.5\\ngini = 0.226\\nsamples = 13283\\nvalue = [1728, 11555]'),\n",
       " Text(141.63353455845458, 550.395, 'X[2] <= 12.5\\ngini = 0.171\\nsamples = 12750\\nvalue = [1205, 11545]'),\n",
       " Text(100.06898284621174, 509.625, 'X[4] <= 2218.5\\ngini = 0.095\\nsamples = 10029\\nvalue = [503, 9526]'),\n",
       " Text(63.395768000501754, 468.855, 'X[5] <= 40.5\\ngini = 0.088\\nsamples = 9963\\nvalue = [460, 9503]'),\n",
       " Text(33.59496675865529, 428.08500000000004, 'X[0] <= 33.5\\ngini = 0.058\\nsamples = 8152\\nvalue = [245, 7907]'),\n",
       " Text(23.69155168088309, 387.31500000000005, 'X[29] <= 0.5\\ngini = 0.015\\nsamples = 4723\\nvalue = [35, 4688]'),\n",
       " Text(18.489174611138985, 346.545, 'X[11] <= 0.5\\ngini = 0.013\\nsamples = 4714\\nvalue = [31, 4683]'),\n",
       " Text(10.772227797290517, 305.77500000000003, 'X[0] <= 27.5\\ngini = 0.01\\nsamples = 4608\\nvalue = [23, 4585]'),\n",
       " Text(3.3597591570496737, 265.005, 'X[44] <= 0.5\\ngini = 0.002\\nsamples = 3568\\nvalue = [4, 3564]'),\n",
       " Text(1.3439036628198695, 224.235, 'X[69] <= 0.5\\ngini = 0.001\\nsamples = 3520\\nvalue = [1, 3519]'),\n",
       " Text(0.6719518314099348, 183.46500000000003, 'gini = 0.0\\nsamples = 3506\\nvalue = [0, 3506]'),\n",
       " Text(2.0158554942298044, 183.46500000000003, 'X[17] <= 0.5\\ngini = 0.133\\nsamples = 14\\nvalue = [1, 13]'),\n",
       " Text(1.3439036628198695, 142.695, 'gini = 0.0\\nsamples = 11\\nvalue = [0, 11]'),\n",
       " Text(2.687807325639739, 142.695, 'X[9] <= 0.5\\ngini = 0.444\\nsamples = 3\\nvalue = [1, 2]'),\n",
       " Text(2.0158554942298044, 101.92499999999995, 'gini = 0.0\\nsamples = 1\\nvalue = [1, 0]'),\n",
       " Text(3.3597591570496737, 101.92499999999995, 'gini = 0.0\\nsamples = 2\\nvalue = [0, 2]'),\n",
       " Text(5.375614651279478, 224.235, 'X[7] <= 0.5\\ngini = 0.117\\nsamples = 48\\nvalue = [3, 45]'),\n",
       " Text(4.703662819869543, 183.46500000000003, 'gini = 0.0\\nsamples = 31\\nvalue = [0, 31]'),\n",
       " Text(6.047566482689413, 183.46500000000003, 'X[0] <= 23.5\\ngini = 0.291\\nsamples = 17\\nvalue = [3, 14]'),\n",
       " Text(5.375614651279478, 142.695, 'X[0] <= 22.5\\ngini = 0.49\\nsamples = 7\\nvalue = [3, 4]'),\n",
       " Text(4.703662819869543, 101.92499999999995, 'gini = 0.0\\nsamples = 4\\nvalue = [0, 4]'),\n",
       " Text(6.047566482689413, 101.92499999999995, 'gini = 0.0\\nsamples = 3\\nvalue = [3, 0]'),\n",
       " Text(6.719518314099347, 142.695, 'gini = 0.0\\nsamples = 10\\nvalue = [0, 10]'),\n",
       " Text(18.184696437531358, 265.005, 'X[12] <= 0.5\\ngini = 0.036\\nsamples = 1040\\nvalue = [19, 1021]'),\n",
       " Text(14.194982438534872, 224.235, 'X[36] <= 0.5\\ngini = 0.029\\nsamples = 1006\\nvalue = [15, 991]'),\n",
       " Text(10.91921726041144, 183.46500000000003, 'X[14] <= 0.5\\ngini = 0.016\\nsamples = 885\\nvalue = [7, 878]'),\n",
       " Text(9.07134972403412, 142.695, 'X[46] <= 0.5\\ngini = 0.012\\nsamples = 853\\nvalue = [5, 848]'),\n",
       " Text(7.391470145509282, 101.92499999999995, 'X[1] <= 372765.0\\ngini = 0.007\\nsamples = 817\\nvalue = [3, 814]'),\n",
       " Text(6.047566482689413, 61.15499999999997, 'X[6] <= 0.5\\ngini = 0.003\\nsamples = 763\\nvalue = [1, 762]'),\n",
       " Text(5.375614651279478, 20.38499999999999, 'gini = 0.0\\nsamples = 742\\nvalue = [0, 742]'),\n",
       " Text(6.719518314099347, 20.38499999999999, 'gini = 0.091\\nsamples = 21\\nvalue = [1, 20]'),\n",
       " Text(8.735373808329152, 61.15499999999997, 'X[1] <= 373437.5\\ngini = 0.071\\nsamples = 54\\nvalue = [2, 52]'),\n",
       " Text(8.063421976919217, 20.38499999999999, 'gini = 0.0\\nsamples = 2\\nvalue = [2, 0]'),\n",
       " Text(9.407325639739087, 20.38499999999999, 'gini = 0.0\\nsamples = 52\\nvalue = [0, 52]'),\n",
       " Text(10.751229302558956, 101.92499999999995, 'X[33] <= 0.5\\ngini = 0.105\\nsamples = 36\\nvalue = [2, 34]'),\n",
       " Text(10.079277471149021, 61.15499999999997, 'gini = 0.0\\nsamples = 33\\nvalue = [0, 33]'),\n",
       " Text(11.42318113396889, 61.15499999999997, 'X[0] <= 30.0\\ngini = 0.444\\nsamples = 3\\nvalue = [2, 1]'),\n",
       " Text(10.751229302558956, 20.38499999999999, 'gini = 0.0\\nsamples = 2\\nvalue = [2, 0]'),\n",
       " Text(12.095132965378825, 20.38499999999999, 'gini = 0.0\\nsamples = 1\\nvalue = [0, 1]'),\n",
       " Text(12.76708479678876, 142.695, 'X[37] <= 0.5\\ngini = 0.117\\nsamples = 32\\nvalue = [2, 30]'),\n",
       " Text(12.095132965378825, 101.92499999999995, 'gini = 0.0\\nsamples = 29\\nvalue = [0, 29]'),\n",
       " Text(13.439036628198695, 101.92499999999995, 'X[48] <= 0.5\\ngini = 0.444\\nsamples = 3\\nvalue = [2, 1]'),\n",
       " Text(12.76708479678876, 61.15499999999997, 'gini = 0.0\\nsamples = 2\\nvalue = [2, 0]'),\n",
       " Text(14.11098845960863, 61.15499999999997, 'gini = 0.0\\nsamples = 1\\nvalue = [0, 1]'),\n",
       " Text(17.470747616658304, 183.46500000000003, 'X[1] <= 347879.0\\ngini = 0.123\\nsamples = 121\\nvalue = [8, 113]'),\n",
       " Text(16.126843953838435, 142.695, 'X[2] <= 9.5\\ngini = 0.073\\nsamples = 106\\nvalue = [4, 102]'),\n",
       " Text(15.454892122428499, 101.92499999999995, 'gini = 0.0\\nsamples = 73\\nvalue = [0, 73]'),\n",
       " Text(16.79879578524837, 101.92499999999995, 'X[5] <= 37.5\\ngini = 0.213\\nsamples = 33\\nvalue = [4, 29]'),\n",
       " Text(15.454892122428499, 61.15499999999997, 'X[5] <= 27.5\\ngini = 0.5\\nsamples = 4\\nvalue = [2, 2]'),\n",
       " Text(14.782940291018564, 20.38499999999999, 'gini = 0.0\\nsamples = 2\\nvalue = [0, 2]'),\n",
       " Text(16.126843953838435, 20.38499999999999, 'gini = 0.0\\nsamples = 2\\nvalue = [2, 0]'),\n",
       " Text(18.14269944806824, 61.15499999999997, 'X[1] <= 179165.5\\ngini = 0.128\\nsamples = 29\\nvalue = [2, 27]'),\n",
       " Text(17.470747616658304, 20.38499999999999, 'gini = 0.26\\nsamples = 13\\nvalue = [2, 11]'),\n",
       " Text(18.814651279478174, 20.38499999999999, 'gini = 0.0\\nsamples = 16\\nvalue = [0, 16]'),\n",
       " Text(18.814651279478174, 142.695, 'X[1] <= 350972.0\\ngini = 0.391\\nsamples = 15\\nvalue = [4, 11]'),\n",
       " Text(18.14269944806824, 101.92499999999995, 'gini = 0.0\\nsamples = 4\\nvalue = [4, 0]'),\n",
       " Text(19.486603110888108, 101.92499999999995, 'gini = 0.0\\nsamples = 11\\nvalue = [0, 11]'),\n",
       " Text(22.174410436527847, 224.235, 'X[43] <= 0.5\\ngini = 0.208\\nsamples = 34\\nvalue = [4, 30]'),\n",
       " Text(20.830506773707977, 183.46500000000003, 'X[1] <= 342002.0\\ngini = 0.064\\nsamples = 30\\nvalue = [1, 29]'),\n",
       " Text(20.158554942298043, 142.695, 'gini = 0.0\\nsamples = 27\\nvalue = [0, 27]'),\n",
       " Text(21.502458605117912, 142.695, 'X[0] <= 31.5\\ngini = 0.444\\nsamples = 3\\nvalue = [1, 2]'),\n",
       " Text(20.830506773707977, 101.92499999999995, 'gini = 0.0\\nsamples = 1\\nvalue = [1, 0]'),\n",
       " Text(22.174410436527847, 101.92499999999995, 'gini = 0.0\\nsamples = 2\\nvalue = [0, 2]'),\n",
       " Text(23.518314099347716, 183.46500000000003, 'X[5] <= 37.5\\ngini = 0.375\\nsamples = 4\\nvalue = [3, 1]'),\n",
       " Text(22.84636226793778, 142.695, 'gini = 0.0\\nsamples = 1\\nvalue = [0, 1]'),\n",
       " Text(24.19026593075765, 142.695, 'gini = 0.0\\nsamples = 3\\nvalue = [3, 0]'),\n",
       " Text(26.206121424987455, 305.77500000000003, 'X[2] <= 11.5\\ngini = 0.14\\nsamples = 106\\nvalue = [8, 98]'),\n",
       " Text(24.862217762167585, 265.005, 'X[53] <= 0.5\\ngini = 0.079\\nsamples = 97\\nvalue = [4, 93]'),\n",
       " Text(24.19026593075765, 224.235, 'gini = 0.0\\nsamples = 88\\nvalue = [0, 88]'),\n",
       " Text(25.53416959357752, 224.235, 'X[48] <= 0.5\\ngini = 0.494\\nsamples = 9\\nvalue = [4, 5]'),\n",
       " Text(24.862217762167585, 183.46500000000003, 'gini = 0.0\\nsamples = 4\\nvalue = [0, 4]'),\n",
       " Text(26.206121424987455, 183.46500000000003, 'X[5] <= 35.0\\ngini = 0.32\\nsamples = 5\\nvalue = [4, 1]'),\n",
       " Text(25.53416959357752, 142.695, 'gini = 0.0\\nsamples = 4\\nvalue = [4, 0]'),\n",
       " Text(26.87807325639739, 142.695, 'gini = 0.0\\nsamples = 1\\nvalue = [0, 1]'),\n",
       " Text(27.550025087807324, 265.005, 'X[45] <= 0.5\\ngini = 0.494\\nsamples = 9\\nvalue = [4, 5]'),\n",
       " Text(26.87807325639739, 224.235, 'gini = 0.0\\nsamples = 5\\nvalue = [0, 5]'),\n",
       " Text(28.22197691921726, 224.235, 'gini = 0.0\\nsamples = 4\\nvalue = [4, 0]'),\n",
       " Text(28.893928750627193, 346.545, 'X[5] <= 39.0\\ngini = 0.494\\nsamples = 9\\nvalue = [4, 5]'),\n",
       " Text(28.22197691921726, 305.77500000000003, 'gini = 0.0\\nsamples = 4\\nvalue = [0, 4]'),\n",
       " Text(29.565880582037128, 305.77500000000003, 'X[9] <= 0.5\\ngini = 0.32\\nsamples = 5\\nvalue = [4, 1]'),\n",
       " Text(28.893928750627193, 265.005, 'gini = 0.0\\nsamples = 1\\nvalue = [0, 1]'),\n",
       " Text(30.237832413447062, 265.005, 'gini = 0.0\\nsamples = 4\\nvalue = [4, 0]'),\n",
       " Text(43.4983818364275, 387.31500000000005, 'X[80] <= 0.5\\ngini = 0.115\\nsamples = 3429\\nvalue = [210, 3219]'),\n",
       " Text(41.136051179126945, 346.545, 'X[29] <= 0.5\\ngini = 0.111\\nsamples = 3416\\nvalue = [201, 3215]'),\n",
       " Text(38.42724535875564, 305.77500000000003, 'X[3] <= 4718.5\\ngini = 0.108\\nsamples = 3409\\nvalue = [196, 3213]'),\n",
       " Text(35.025489212242846, 265.005, 'X[56] <= 0.5\\ngini = 0.104\\nsamples = 3377\\nvalue = [185, 3192]'),\n",
       " Text(30.237832413447062, 224.235, 'X[89] <= 0.5\\ngini = 0.156\\nsamples = 1196\\nvalue = [102, 1094]'),\n",
       " Text(28.893928750627193, 183.46500000000003, 'X[67] <= 0.5\\ngini = 0.148\\nsamples = 1182\\nvalue = [95, 1087]'),\n",
       " Text(28.22197691921726, 142.695, 'X[78] <= 0.5\\ngini = 0.145\\nsamples = 1180\\nvalue = [93, 1087]'),\n",
       " Text(27.550025087807324, 101.92499999999995, 'X[0] <= 38.5\\ngini = 0.143\\nsamples = 1178\\nvalue = [91, 1087]'),\n",
       " Text(26.206121424987455, 61.15499999999997, 'X[65] <= 0.5\\ngini = 0.046\\nsamples = 336\\nvalue = [8, 328]'),\n",
       " Text(25.53416959357752, 20.38499999999999, 'gini = 0.035\\nsamples = 334\\nvalue = [6, 328]'),\n",
       " Text(26.87807325639739, 20.38499999999999, 'gini = 0.0\\nsamples = 2\\nvalue = [2, 0]'),\n",
       " Text(28.893928750627193, 61.15499999999997, 'X[0] <= 40.5\\ngini = 0.178\\nsamples = 842\\nvalue = [83, 759]'),\n",
       " Text(28.22197691921726, 20.38499999999999, 'gini = 0.343\\nsamples = 123\\nvalue = [27, 96]'),\n",
       " Text(29.565880582037128, 20.38499999999999, 'gini = 0.144\\nsamples = 719\\nvalue = [56, 663]'),\n",
       " Text(28.893928750627193, 101.92499999999995, 'gini = 0.0\\nsamples = 2\\nvalue = [2, 0]'),\n",
       " Text(29.565880582037128, 142.695, 'gini = 0.0\\nsamples = 2\\nvalue = [2, 0]'),\n",
       " Text(31.58173607626693, 183.46500000000003, 'X[0] <= 49.5\\ngini = 0.5\\nsamples = 14\\nvalue = [7, 7]'),\n",
       " Text(30.909784244856997, 142.695, 'gini = 0.0\\nsamples = 7\\nvalue = [0, 7]'),\n",
       " Text(32.25368790767687, 142.695, 'gini = 0.0\\nsamples = 7\\nvalue = [7, 0]'),\n",
       " Text(39.81314601103863, 224.235, 'X[75] <= 0.5\\ngini = 0.073\\nsamples = 2181\\nvalue = [83, 2098]'),\n",
       " Text(39.1411941796287, 183.46500000000003, 'X[1] <= 52547.0\\ngini = 0.072\\nsamples = 2179\\nvalue = [81, 2098]'),\n",
       " Text(34.60551931761164, 142.695, 'X[1] <= 49575.0\\ngini = 0.228\\nsamples = 168\\nvalue = [22, 146]'),\n",
       " Text(32.925639739086805, 101.92499999999995, 'X[1] <= 28255.0\\ngini = 0.156\\nsamples = 152\\nvalue = [13, 139]'),\n",
       " Text(31.58173607626693, 61.15499999999997, 'X[1] <= 27910.0\\ngini = 0.346\\nsamples = 45\\nvalue = [10, 35]'),\n",
       " Text(30.909784244856997, 20.38499999999999, 'gini = 0.25\\nsamples = 41\\nvalue = [6, 35]'),\n",
       " Text(32.25368790767687, 20.38499999999999, 'gini = 0.0\\nsamples = 4\\nvalue = [4, 0]'),\n",
       " Text(34.269543401906674, 61.15499999999997, 'X[44] <= 0.5\\ngini = 0.055\\nsamples = 107\\nvalue = [3, 104]'),\n",
       " Text(33.59759157049674, 20.38499999999999, 'gini = 0.019\\nsamples = 104\\nvalue = [1, 103]'),\n",
       " Text(34.94149523331661, 20.38499999999999, 'gini = 0.444\\nsamples = 3\\nvalue = [2, 1]'),\n",
       " Text(36.28539889613648, 101.92499999999995, 'X[0] <= 35.5\\ngini = 0.492\\nsamples = 16\\nvalue = [9, 7]'),\n",
       " Text(35.61344706472654, 61.15499999999997, 'gini = 0.0\\nsamples = 5\\nvalue = [5, 0]'),\n",
       " Text(36.95735072754641, 61.15499999999997, 'X[1] <= 52267.5\\ngini = 0.463\\nsamples = 11\\nvalue = [4, 7]'),\n",
       " Text(36.28539889613648, 20.38499999999999, 'gini = 0.0\\nsamples = 7\\nvalue = [0, 7]'),\n",
       " Text(37.62930255895635, 20.38499999999999, 'gini = 0.0\\nsamples = 4\\nvalue = [4, 0]'),\n",
       " Text(43.67686904164576, 142.695, 'X[20] <= 0.5\\ngini = 0.057\\nsamples = 2011\\nvalue = [59, 1952]'),\n",
       " Text(40.98906171600602, 101.92499999999995, 'X[10] <= 0.5\\ngini = 0.047\\nsamples = 1917\\nvalue = [46, 1871]'),\n",
       " Text(39.64515805318615, 61.15499999999997, 'X[37] <= 0.5\\ngini = 0.043\\nsamples = 1902\\nvalue = [42, 1860]'),\n",
       " Text(38.973206221776216, 20.38499999999999, 'gini = 0.03\\nsamples = 1745\\nvalue = [27, 1718]'),\n",
       " Text(40.317109884596086, 20.38499999999999, 'gini = 0.173\\nsamples = 157\\nvalue = [15, 142]'),\n",
       " Text(42.33296537882589, 61.15499999999997, 'X[1] <= 219421.0\\ngini = 0.391\\nsamples = 15\\nvalue = [4, 11]'),\n",
       " Text(41.661013547415955, 20.38499999999999, 'gini = 0.0\\nsamples = 8\\nvalue = [0, 8]'),\n",
       " Text(43.004917210235824, 20.38499999999999, 'gini = 0.49\\nsamples = 7\\nvalue = [4, 3]'),\n",
       " Text(46.3646763672855, 101.92499999999995, 'X[6] <= 0.5\\ngini = 0.238\\nsamples = 94\\nvalue = [13, 81]'),\n",
       " Text(45.02077270446563, 61.15499999999997, 'X[43] <= 0.5\\ngini = 0.131\\nsamples = 85\\nvalue = [6, 79]'),\n",
       " Text(44.34882087305569, 20.38499999999999, 'gini = 0.032\\nsamples = 62\\nvalue = [1, 61]'),\n",
       " Text(45.69272453587556, 20.38499999999999, 'gini = 0.34\\nsamples = 23\\nvalue = [5, 18]'),\n",
       " Text(47.70858003010537, 61.15499999999997, 'X[43] <= 0.5\\ngini = 0.346\\nsamples = 9\\nvalue = [7, 2]'),\n",
       " Text(47.03662819869543, 20.38499999999999, 'gini = 0.0\\nsamples = 2\\nvalue = [0, 2]'),\n",
       " Text(48.3805318615153, 20.38499999999999, 'gini = 0.0\\nsamples = 7\\nvalue = [7, 0]'),\n",
       " Text(40.48509784244857, 183.46500000000003, 'gini = 0.0\\nsamples = 2\\nvalue = [2, 0]'),\n",
       " Text(41.82900150526844, 265.005, 'X[3] <= 4826.0\\ngini = 0.451\\nsamples = 32\\nvalue = [11, 21]'),\n",
       " Text(41.1570496738585, 224.235, 'gini = 0.0\\nsamples = 8\\nvalue = [8, 0]'),\n",
       " Text(42.50095333667837, 224.235, 'X[37] <= 0.5\\ngini = 0.219\\nsamples = 24\\nvalue = [3, 21]'),\n",
       " Text(41.82900150526844, 183.46500000000003, 'gini = 0.0\\nsamples = 21\\nvalue = [0, 21]'),\n",
       " Text(43.172905168088306, 183.46500000000003, 'gini = 0.0\\nsamples = 3\\nvalue = [3, 0]'),\n",
       " Text(43.84485699949824, 305.77500000000003, 'X[0] <= 36.5\\ngini = 0.408\\nsamples = 7\\nvalue = [5, 2]'),\n",
       " Text(43.172905168088306, 265.005, 'gini = 0.0\\nsamples = 5\\nvalue = [5, 0]'),\n",
       " Text(44.516808830908175, 265.005, 'gini = 0.0\\nsamples = 2\\nvalue = [0, 2]'),\n",
       " Text(45.860712493728045, 346.545, 'X[37] <= 0.5\\ngini = 0.426\\nsamples = 13\\nvalue = [9, 4]'),\n",
       " Text(45.18876066231811, 305.77500000000003, 'gini = 0.0\\nsamples = 4\\nvalue = [0, 4]'),\n",
       " Text(46.53266432513798, 305.77500000000003, 'gini = 0.0\\nsamples = 9\\nvalue = [9, 0]'),\n",
       " Text(93.19656924234822, 428.08500000000004, 'X[0] <= 41.5\\ngini = 0.209\\nsamples = 1811\\nvalue = [215, 1596]'),\n",
       " Text(72.20332413447065, 387.31500000000005, 'X[3] <= 4668.5\\ngini = 0.147\\nsamples = 1256\\nvalue = [100, 1156]'),\n",
       " Text(66.46023582538886, 346.545, 'X[53] <= 0.5\\ngini = 0.14\\nsamples = 1243\\nvalue = [94, 1149]'),\n",
       " Text(56.98991470145509, 305.77500000000003, 'X[48] <= 0.5\\ngini = 0.129\\nsamples = 1212\\nvalue = [84, 1128]'),\n",
       " Text(51.06833918715504, 265.005, 'X[88] <= 0.5\\ngini = 0.035\\nsamples = 501\\nvalue = [9, 492]'),\n",
       " Text(50.396387355745105, 224.235, 'X[2] <= 11.5\\ngini = 0.028\\nsamples = 499\\nvalue = [7, 492]'),\n",
       " Text(48.3805318615153, 183.46500000000003, 'X[45] <= 0.5\\ngini = 0.013\\nsamples = 473\\nvalue = [3, 470]'),\n",
       " Text(47.70858003010537, 142.695, 'gini = 0.0\\nsamples = 413\\nvalue = [0, 413]'),\n",
       " Text(49.052483692925236, 142.695, 'X[1] <= 282598.0\\ngini = 0.095\\nsamples = 60\\nvalue = [3, 57]'),\n",
       " Text(48.3805318615153, 101.92499999999995, 'gini = 0.0\\nsamples = 52\\nvalue = [0, 52]'),\n",
       " Text(49.72443552433517, 101.92499999999995, 'X[51] <= 0.5\\ngini = 0.469\\nsamples = 8\\nvalue = [3, 5]'),\n",
       " Text(49.052483692925236, 61.15499999999997, 'gini = 0.0\\nsamples = 5\\nvalue = [0, 5]'),\n",
       " Text(50.396387355745105, 61.15499999999997, 'gini = 0.0\\nsamples = 3\\nvalue = [3, 0]'),\n",
       " Text(52.41224284997491, 183.46500000000003, 'X[36] <= 0.5\\ngini = 0.26\\nsamples = 26\\nvalue = [4, 22]'),\n",
       " Text(51.740291018564974, 142.695, 'X[6] <= 0.5\\ngini = 0.083\\nsamples = 23\\nvalue = [1, 22]'),\n",
       " Text(51.06833918715504, 101.92499999999995, 'gini = 0.0\\nsamples = 22\\nvalue = [0, 22]'),\n",
       " Text(52.41224284997491, 101.92499999999995, 'gini = 0.0\\nsamples = 1\\nvalue = [1, 0]'),\n",
       " Text(53.084194681384844, 142.695, 'gini = 0.0\\nsamples = 3\\nvalue = [3, 0]'),\n",
       " Text(51.740291018564974, 224.235, 'gini = 0.0\\nsamples = 2\\nvalue = [2, 0]'),\n",
       " Text(62.911490215755144, 265.005, 'X[0] <= 28.5\\ngini = 0.189\\nsamples = 711\\nvalue = [75, 636]'),\n",
       " Text(56.44395383843452, 224.235, 'X[18] <= 0.5\\ngini = 0.072\\nsamples = 269\\nvalue = [10, 259]'),\n",
       " Text(55.77200200702458, 183.46500000000003, 'X[2] <= 11.5\\ngini = 0.051\\nsamples = 266\\nvalue = [7, 259]'),\n",
       " Text(54.42809834420471, 142.695, 'X[5] <= 76.5\\ngini = 0.016\\nsamples = 244\\nvalue = [2, 242]'),\n",
       " Text(53.75614651279478, 101.92499999999995, 'gini = 0.0\\nsamples = 237\\nvalue = [0, 237]'),\n",
       " Text(55.10005017561465, 101.92499999999995, 'X[37] <= 0.5\\ngini = 0.408\\nsamples = 7\\nvalue = [2, 5]'),\n",
       " Text(54.42809834420471, 61.15499999999997, 'gini = 0.0\\nsamples = 5\\nvalue = [0, 5]'),\n",
       " Text(55.77200200702458, 61.15499999999997, 'gini = 0.0\\nsamples = 2\\nvalue = [2, 0]'),\n",
       " Text(57.11590566984445, 142.695, 'X[1] <= 197666.5\\ngini = 0.351\\nsamples = 22\\nvalue = [5, 17]'),\n",
       " Text(56.44395383843452, 101.92499999999995, 'gini = 0.0\\nsamples = 12\\nvalue = [0, 12]'),\n",
       " Text(57.787857501254386, 101.92499999999995, 'X[1] <= 214169.5\\ngini = 0.5\\nsamples = 10\\nvalue = [5, 5]'),\n",
       " Text(57.11590566984445, 61.15499999999997, 'X[5] <= 46.0\\ngini = 0.278\\nsamples = 6\\nvalue = [5, 1]'),\n",
       " Text(56.44395383843452, 20.38499999999999, 'gini = 0.0\\nsamples = 1\\nvalue = [0, 1]'),\n",
       " Text(57.787857501254386, 20.38499999999999, 'gini = 0.0\\nsamples = 5\\nvalue = [5, 0]'),\n",
       " Text(58.45980933266432, 61.15499999999997, 'gini = 0.0\\nsamples = 4\\nvalue = [0, 4]'),\n",
       " Text(57.11590566984445, 183.46500000000003, 'gini = 0.0\\nsamples = 3\\nvalue = [3, 0]'),\n",
       " Text(69.37902659307576, 224.235, 'X[5] <= 43.5\\ngini = 0.251\\nsamples = 442\\nvalue = [65, 377]'),\n",
       " Text(63.499448068238834, 183.46500000000003, 'X[45] <= 0.5\\ngini = 0.495\\nsamples = 29\\nvalue = [13, 16]'),\n",
       " Text(61.819568489713994, 142.695, 'X[41] <= 0.5\\ngini = 0.332\\nsamples = 19\\nvalue = [4, 15]'),\n",
       " Text(60.475664826894125, 101.92499999999995, 'X[1] <= 37151.0\\ngini = 0.124\\nsamples = 15\\nvalue = [1, 14]'),\n",
       " Text(59.80371299548419, 61.15499999999997, 'gini = 0.0\\nsamples = 1\\nvalue = [1, 0]'),\n",
       " Text(61.14761665830406, 61.15499999999997, 'gini = 0.0\\nsamples = 14\\nvalue = [0, 14]'),\n",
       " Text(63.16347215253386, 101.92499999999995, 'X[54] <= 0.5\\ngini = 0.375\\nsamples = 4\\nvalue = [3, 1]'),\n",
       " Text(62.49152032112393, 61.15499999999997, 'gini = 0.0\\nsamples = 3\\nvalue = [3, 0]'),\n",
       " Text(63.8354239839438, 61.15499999999997, 'gini = 0.0\\nsamples = 1\\nvalue = [0, 1]'),\n",
       " Text(65.17932764676367, 142.695, 'X[18] <= 0.5\\ngini = 0.18\\nsamples = 10\\nvalue = [9, 1]'),\n",
       " Text(64.50737581535374, 101.92499999999995, 'gini = 0.0\\nsamples = 9\\nvalue = [9, 0]'),\n",
       " Text(65.85127947817361, 101.92499999999995, 'gini = 0.0\\nsamples = 1\\nvalue = [0, 1]'),\n",
       " Text(75.2586051179127, 183.46500000000003, 'X[9] <= 0.5\\ngini = 0.22\\nsamples = 413\\nvalue = [52, 361]'),\n",
       " Text(69.88299046663322, 142.695, 'X[1] <= 301716.0\\ngini = 0.357\\nsamples = 103\\nvalue = [24, 79]'),\n",
       " Text(67.19518314099348, 101.92499999999995, 'X[24] <= 0.5\\ngini = 0.28\\nsamples = 83\\nvalue = [14, 69]'),\n",
       " Text(65.85127947817361, 61.15499999999997, 'X[1] <= 30484.5\\ngini = 0.051\\nsamples = 38\\nvalue = [1, 37]'),\n",
       " Text(65.17932764676367, 20.38499999999999, 'gini = 0.0\\nsamples = 1\\nvalue = [1, 0]'),\n",
       " Text(66.52323130958354, 20.38499999999999, 'gini = 0.0\\nsamples = 37\\nvalue = [0, 37]'),\n",
       " Text(68.53908680381335, 61.15499999999997, 'X[0] <= 38.5\\ngini = 0.411\\nsamples = 45\\nvalue = [13, 32]'),\n",
       " Text(67.8671349724034, 20.38499999999999, 'gini = 0.461\\nsamples = 36\\nvalue = [13, 23]'),\n",
       " Text(69.21103863522328, 20.38499999999999, 'gini = 0.0\\nsamples = 9\\nvalue = [0, 9]'),\n",
       " Text(72.57079779227296, 101.92499999999995, 'X[0] <= 31.5\\ngini = 0.5\\nsamples = 20\\nvalue = [10, 10]'),\n",
       " Text(71.22689412945309, 61.15499999999997, 'X[5] <= 50.5\\ngini = 0.32\\nsamples = 10\\nvalue = [8, 2]'),\n",
       " Text(70.55494229804314, 20.38499999999999, 'gini = 0.0\\nsamples = 2\\nvalue = [0, 2]'),\n",
       " Text(71.89884596086301, 20.38499999999999, 'gini = 0.0\\nsamples = 8\\nvalue = [8, 0]'),\n",
       " Text(73.91470145509282, 61.15499999999997, 'X[36] <= 0.5\\ngini = 0.32\\nsamples = 10\\nvalue = [2, 8]'),\n",
       " Text(73.24274962368288, 20.38499999999999, 'gini = 0.0\\nsamples = 8\\nvalue = [0, 8]'),\n",
       " Text(74.58665328650275, 20.38499999999999, 'gini = 0.0\\nsamples = 2\\nvalue = [2, 0]'),\n",
       " Text(80.63421976919217, 142.695, 'X[20] <= 0.5\\ngini = 0.164\\nsamples = 310\\nvalue = [28, 282]'),\n",
       " Text(77.94641244355243, 101.92499999999995, 'X[1] <= 31691.0\\ngini = 0.126\\nsamples = 281\\nvalue = [19, 262]'),\n",
       " Text(76.60250878073256, 61.15499999999997, 'X[1] <= 30269.0\\ngini = 0.469\\nsamples = 8\\nvalue = [3, 5]'),\n",
       " Text(75.93055694932262, 20.38499999999999, 'gini = 0.0\\nsamples = 5\\nvalue = [0, 5]'),\n",
       " Text(77.27446061214249, 20.38499999999999, 'gini = 0.0\\nsamples = 3\\nvalue = [3, 0]'),\n",
       " Text(79.2903161063723, 61.15499999999997, 'X[1] <= 520739.5\\ngini = 0.11\\nsamples = 273\\nvalue = [16, 257]'),\n",
       " Text(78.61836427496236, 20.38499999999999, 'gini = 0.099\\nsamples = 268\\nvalue = [14, 254]'),\n",
       " Text(79.96226793778223, 20.38499999999999, 'gini = 0.48\\nsamples = 5\\nvalue = [2, 3]'),\n",
       " Text(83.32202709483191, 101.92499999999995, 'X[36] <= 0.5\\ngini = 0.428\\nsamples = 29\\nvalue = [9, 20]'),\n",
       " Text(81.97812343201204, 61.15499999999997, 'X[41] <= 0.5\\ngini = 0.18\\nsamples = 20\\nvalue = [2, 18]'),\n",
       " Text(81.3061716006021, 20.38499999999999, 'gini = 0.0\\nsamples = 18\\nvalue = [0, 18]'),\n",
       " Text(82.65007526342197, 20.38499999999999, 'gini = 0.0\\nsamples = 2\\nvalue = [2, 0]'),\n",
       " Text(84.66593075765178, 61.15499999999997, 'X[0] <= 32.0\\ngini = 0.346\\nsamples = 9\\nvalue = [7, 2]'),\n",
       " Text(83.99397892624184, 20.38499999999999, 'gini = 0.0\\nsamples = 7\\nvalue = [7, 0]'),\n",
       " Text(85.3378825890617, 20.38499999999999, 'gini = 0.0\\nsamples = 2\\nvalue = [0, 2]'),\n",
       " Text(75.93055694932262, 305.77500000000003, 'X[1] <= 70533.5\\ngini = 0.437\\nsamples = 31\\nvalue = [10, 21]'),\n",
       " Text(75.2586051179127, 265.005, 'gini = 0.0\\nsamples = 5\\nvalue = [5, 0]'),\n",
       " Text(76.60250878073256, 265.005, 'X[5] <= 65.0\\ngini = 0.311\\nsamples = 26\\nvalue = [5, 21]'),\n",
       " Text(75.93055694932262, 224.235, 'gini = 0.0\\nsamples = 20\\nvalue = [0, 20]'),\n",
       " Text(77.27446061214249, 224.235, 'X[36] <= 0.5\\ngini = 0.278\\nsamples = 6\\nvalue = [5, 1]'),\n",
       " Text(76.60250878073256, 183.46500000000003, 'gini = 0.0\\nsamples = 5\\nvalue = [5, 0]'),\n",
       " Text(77.94641244355243, 183.46500000000003, 'gini = 0.0\\nsamples = 1\\nvalue = [0, 1]'),\n",
       " Text(77.94641244355243, 346.545, 'X[3] <= 4826.0\\ngini = 0.497\\nsamples = 13\\nvalue = [6, 7]'),\n",
       " Text(77.27446061214249, 305.77500000000003, 'gini = 0.0\\nsamples = 6\\nvalue = [6, 0]'),\n",
       " Text(78.61836427496236, 305.77500000000003, 'gini = 0.0\\nsamples = 7\\nvalue = [0, 7]'),\n",
       " Text(114.18981435022579, 387.31500000000005, 'X[56] <= 0.5\\ngini = 0.329\\nsamples = 555\\nvalue = [115, 440]'),\n",
       " Text(100.372804816859, 346.545, 'X[2] <= 9.5\\ngini = 0.415\\nsamples = 296\\nvalue = [87, 209]'),\n",
       " Text(92.39337681886603, 305.77500000000003, 'X[0] <= 53.5\\ngini = 0.32\\nsamples = 165\\nvalue = [33, 132]'),\n",
       " Text(87.68971399899648, 265.005, 'X[1] <= 177820.5\\ngini = 0.172\\nsamples = 95\\nvalue = [9, 86]'),\n",
       " Text(87.01776216758655, 224.235, 'gini = 0.0\\nsamples = 47\\nvalue = [0, 47]'),\n",
       " Text(88.36166583040642, 224.235, 'X[37] <= 0.5\\ngini = 0.305\\nsamples = 48\\nvalue = [9, 39]'),\n",
       " Text(87.68971399899648, 183.46500000000003, 'X[1] <= 178227.0\\ngini = 0.258\\nsamples = 46\\nvalue = [7, 39]'),\n",
       " Text(87.01776216758655, 142.695, 'gini = 0.0\\nsamples = 2\\nvalue = [2, 0]'),\n",
       " Text(88.36166583040642, 142.695, 'X[0] <= 42.5\\ngini = 0.201\\nsamples = 44\\nvalue = [5, 39]'),\n",
       " Text(86.68178625188159, 101.92499999999995, 'X[5] <= 55.0\\ngini = 0.49\\nsamples = 7\\nvalue = [3, 4]'),\n",
       " Text(86.00983442047165, 61.15499999999997, 'gini = 0.0\\nsamples = 4\\nvalue = [0, 4]'),\n",
       " Text(87.35373808329152, 61.15499999999997, 'gini = 0.0\\nsamples = 3\\nvalue = [3, 0]'),\n",
       " Text(90.04154540893126, 101.92499999999995, 'X[46] <= 0.5\\ngini = 0.102\\nsamples = 37\\nvalue = [2, 35]'),\n",
       " Text(88.69764174611139, 61.15499999999997, 'X[1] <= 361071.0\\ngini = 0.056\\nsamples = 35\\nvalue = [1, 34]'),\n",
       " Text(88.02568991470146, 20.38499999999999, 'gini = 0.0\\nsamples = 30\\nvalue = [0, 30]'),\n",
       " Text(89.36959357752133, 20.38499999999999, 'gini = 0.32\\nsamples = 5\\nvalue = [1, 4]'),\n",
       " Text(91.38544907175113, 61.15499999999997, 'X[0] <= 45.5\\ngini = 0.5\\nsamples = 2\\nvalue = [1, 1]'),\n",
       " Text(90.7134972403412, 20.38499999999999, 'gini = 0.0\\nsamples = 1\\nvalue = [1, 0]'),\n",
       " Text(92.05740090316107, 20.38499999999999, 'gini = 0.0\\nsamples = 1\\nvalue = [0, 1]'),\n",
       " Text(89.03361766181635, 183.46500000000003, 'gini = 0.0\\nsamples = 2\\nvalue = [2, 0]'),\n",
       " Text(97.09703963873557, 265.005, 'X[48] <= 0.5\\ngini = 0.451\\nsamples = 70\\nvalue = [24, 46]'),\n",
       " Text(95.41716006021073, 224.235, 'X[0] <= 64.5\\ngini = 0.434\\nsamples = 22\\nvalue = [15, 7]'),\n",
       " Text(94.7452082288008, 183.46500000000003, 'X[1] <= 303413.0\\ngini = 0.278\\nsamples = 18\\nvalue = [15, 3]'),\n",
       " Text(94.07325639739086, 142.695, 'X[38] <= 0.5\\ngini = 0.208\\nsamples = 17\\nvalue = [15, 2]'),\n",
       " Text(93.40130456598094, 101.92499999999995, 'X[1] <= 220377.5\\ngini = 0.117\\nsamples = 16\\nvalue = [15, 1]'),\n",
       " Text(92.729352734571, 61.15499999999997, 'gini = 0.0\\nsamples = 13\\nvalue = [13, 0]'),\n",
       " Text(94.07325639739086, 61.15499999999997, 'X[28] <= 0.5\\ngini = 0.444\\nsamples = 3\\nvalue = [2, 1]'),\n",
       " Text(93.40130456598094, 20.38499999999999, 'gini = 0.0\\nsamples = 1\\nvalue = [0, 1]'),\n",
       " Text(94.7452082288008, 20.38499999999999, 'gini = 0.0\\nsamples = 2\\nvalue = [2, 0]'),\n",
       " Text(94.7452082288008, 101.92499999999995, 'gini = 0.0\\nsamples = 1\\nvalue = [0, 1]'),\n",
       " Text(95.41716006021073, 142.695, 'gini = 0.0\\nsamples = 1\\nvalue = [0, 1]'),\n",
       " Text(96.08911189162068, 183.46500000000003, 'gini = 0.0\\nsamples = 4\\nvalue = [0, 4]'),\n",
       " Text(98.77691921726041, 224.235, 'X[0] <= 54.5\\ngini = 0.305\\nsamples = 48\\nvalue = [9, 39]'),\n",
       " Text(97.43301555444054, 183.46500000000003, 'X[1] <= 207346.5\\ngini = 0.444\\nsamples = 6\\nvalue = [4, 2]'),\n",
       " Text(96.7610637230306, 142.695, 'gini = 0.0\\nsamples = 4\\nvalue = [4, 0]'),\n",
       " Text(98.10496738585047, 142.695, 'gini = 0.0\\nsamples = 2\\nvalue = [0, 2]'),\n",
       " Text(100.12082288008028, 183.46500000000003, 'X[18] <= 0.5\\ngini = 0.21\\nsamples = 42\\nvalue = [5, 37]'),\n",
       " Text(99.44887104867034, 142.695, 'X[1] <= 26270.5\\ngini = 0.097\\nsamples = 39\\nvalue = [2, 37]'),\n",
       " Text(98.77691921726041, 101.92499999999995, 'gini = 0.0\\nsamples = 1\\nvalue = [1, 0]'),\n",
       " Text(100.12082288008028, 101.92499999999995, 'X[0] <= 76.5\\ngini = 0.051\\nsamples = 38\\nvalue = [1, 37]'),\n",
       " Text(99.44887104867034, 61.15499999999997, 'gini = 0.0\\nsamples = 36\\nvalue = [0, 36]'),\n",
       " Text(100.79277471149021, 61.15499999999997, 'X[44] <= 0.5\\ngini = 0.5\\nsamples = 2\\nvalue = [1, 1]'),\n",
       " Text(100.12082288008028, 20.38499999999999, 'gini = 0.0\\nsamples = 1\\nvalue = [1, 0]'),\n",
       " Text(101.46472654290015, 20.38499999999999, 'gini = 0.0\\nsamples = 1\\nvalue = [0, 1]'),\n",
       " Text(100.79277471149021, 142.695, 'gini = 0.0\\nsamples = 3\\nvalue = [3, 0]'),\n",
       " Text(108.35223281485197, 305.77500000000003, 'X[5] <= 46.5\\ngini = 0.485\\nsamples = 131\\nvalue = [54, 77]'),\n",
       " Text(103.48058203712995, 265.005, 'X[37] <= 0.5\\ngini = 0.188\\nsamples = 38\\nvalue = [4, 34]'),\n",
       " Text(102.13667837431008, 224.235, 'X[1] <= 440717.5\\ngini = 0.062\\nsamples = 31\\nvalue = [1, 30]'),\n",
       " Text(101.46472654290015, 183.46500000000003, 'gini = 0.0\\nsamples = 30\\nvalue = [0, 30]'),\n",
       " Text(102.80863020572002, 183.46500000000003, 'gini = 0.0\\nsamples = 1\\nvalue = [1, 0]'),\n",
       " Text(104.82448569994982, 224.235, 'X[1] <= 119445.5\\ngini = 0.49\\nsamples = 7\\nvalue = [3, 4]'),\n",
       " Text(104.15253386853989, 183.46500000000003, 'gini = 0.0\\nsamples = 3\\nvalue = [0, 3]'),\n",
       " Text(105.49643753135976, 183.46500000000003, 'X[95] <= 0.5\\ngini = 0.375\\nsamples = 4\\nvalue = [3, 1]'),\n",
       " Text(104.82448569994982, 142.695, 'gini = 0.0\\nsamples = 1\\nvalue = [0, 1]'),\n",
       " Text(106.16838936276969, 142.695, 'gini = 0.0\\nsamples = 3\\nvalue = [3, 0]'),\n",
       " Text(113.22388359257401, 265.005, 'X[1] <= 206451.5\\ngini = 0.497\\nsamples = 93\\nvalue = [50, 43]'),\n",
       " Text(109.86412443552433, 224.235, 'X[7] <= 0.5\\ngini = 0.48\\nsamples = 60\\nvalue = [24, 36]'),\n",
       " Text(109.1921726041144, 183.46500000000003, 'X[0] <= 57.5\\ngini = 0.452\\nsamples = 55\\nvalue = [19, 36]'),\n",
       " Text(107.51229302558956, 142.695, 'X[51] <= 0.5\\ngini = 0.386\\nsamples = 46\\nvalue = [12, 34]'),\n",
       " Text(106.16838936276969, 101.92499999999995, 'X[12] <= 0.5\\ngini = 0.257\\nsamples = 33\\nvalue = [5, 28]'),\n",
       " Text(105.49643753135976, 61.15499999999997, 'X[1] <= 189254.0\\ngini = 0.175\\nsamples = 31\\nvalue = [3, 28]'),\n",
       " Text(104.82448569994982, 20.38499999999999, 'gini = 0.0\\nsamples = 25\\nvalue = [0, 25]'),\n",
       " Text(106.16838936276969, 20.38499999999999, 'gini = 0.5\\nsamples = 6\\nvalue = [3, 3]'),\n",
       " Text(106.84034119417963, 61.15499999999997, 'gini = 0.0\\nsamples = 2\\nvalue = [2, 0]'),\n",
       " Text(108.85619668840943, 101.92499999999995, 'X[5] <= 52.5\\ngini = 0.497\\nsamples = 13\\nvalue = [7, 6]'),\n",
       " Text(108.1842448569995, 61.15499999999997, 'gini = 0.0\\nsamples = 4\\nvalue = [0, 4]'),\n",
       " Text(109.52814851981937, 61.15499999999997, 'X[0] <= 44.5\\ngini = 0.346\\nsamples = 9\\nvalue = [7, 2]'),\n",
       " Text(108.85619668840943, 20.38499999999999, 'gini = 0.0\\nsamples = 7\\nvalue = [7, 0]'),\n",
       " Text(110.2001003512293, 20.38499999999999, 'gini = 0.0\\nsamples = 2\\nvalue = [0, 2]'),\n",
       " Text(110.87205218263924, 142.695, 'X[0] <= 61.5\\ngini = 0.346\\nsamples = 9\\nvalue = [7, 2]'),\n",
       " Text(110.2001003512293, 101.92499999999995, 'gini = 0.0\\nsamples = 7\\nvalue = [7, 0]'),\n",
       " Text(111.54400401404916, 101.92499999999995, 'gini = 0.0\\nsamples = 2\\nvalue = [0, 2]'),\n",
       " Text(110.53607626693427, 183.46500000000003, 'gini = 0.0\\nsamples = 5\\nvalue = [5, 0]'),\n",
       " Text(116.58364274962368, 224.235, 'X[5] <= 51.5\\ngini = 0.334\\nsamples = 33\\nvalue = [26, 7]'),\n",
       " Text(114.90376317109884, 183.46500000000003, 'X[2] <= 11.0\\ngini = 0.165\\nsamples = 22\\nvalue = [20, 2]'),\n",
       " Text(113.55985950827898, 142.695, 'X[3] <= 1662.5\\ngini = 0.095\\nsamples = 20\\nvalue = [19, 1]'),\n",
       " Text(112.88790767686903, 101.92499999999995, 'gini = 0.0\\nsamples = 14\\nvalue = [14, 0]'),\n",
       " Text(114.2318113396889, 101.92499999999995, 'X[1] <= 329394.5\\ngini = 0.278\\nsamples = 6\\nvalue = [5, 1]'),\n",
       " Text(113.55985950827898, 61.15499999999997, 'gini = 0.0\\nsamples = 1\\nvalue = [0, 1]'),\n",
       " Text(114.90376317109884, 61.15499999999997, 'gini = 0.0\\nsamples = 5\\nvalue = [5, 0]'),\n",
       " Text(116.24766683391871, 142.695, 'X[1] <= 387451.0\\ngini = 0.5\\nsamples = 2\\nvalue = [1, 1]'),\n",
       " Text(115.57571500250877, 101.92499999999995, 'gini = 0.0\\nsamples = 1\\nvalue = [0, 1]'),\n",
       " Text(116.91961866532864, 101.92499999999995, 'gini = 0.0\\nsamples = 1\\nvalue = [1, 0]'),\n",
       " Text(118.26352232814851, 183.46500000000003, 'X[5] <= 57.5\\ngini = 0.496\\nsamples = 11\\nvalue = [6, 5]'),\n",
       " Text(117.59157049673858, 142.695, 'gini = 0.0\\nsamples = 3\\nvalue = [0, 3]'),\n",
       " Text(118.93547415955845, 142.695, 'X[0] <= 52.0\\ngini = 0.375\\nsamples = 8\\nvalue = [6, 2]'),\n",
       " Text(118.26352232814851, 101.92499999999995, 'X[11] <= 0.5\\ngini = 0.245\\nsamples = 7\\nvalue = [6, 1]'),\n",
       " Text(117.59157049673858, 61.15499999999997, 'gini = 0.0\\nsamples = 6\\nvalue = [6, 0]'),\n",
       " Text(118.93547415955845, 61.15499999999997, 'gini = 0.0\\nsamples = 1\\nvalue = [0, 1]'),\n",
       " Text(119.60742599096838, 101.92499999999995, 'gini = 0.0\\nsamples = 1\\nvalue = [0, 1]'),\n",
       " Text(128.00682388359257, 346.545, 'X[29] <= 0.5\\ngini = 0.193\\nsamples = 259\\nvalue = [28, 231]'),\n",
       " Text(127.33487205218263, 305.77500000000003, 'X[0] <= 50.5\\ngini = 0.176\\nsamples = 256\\nvalue = [25, 231]'),\n",
       " Text(123.97511289513297, 265.005, 'X[46] <= 0.5\\ngini = 0.056\\nsamples = 140\\nvalue = [4, 136]'),\n",
       " Text(122.29523331660812, 224.235, 'X[33] <= 0.5\\ngini = 0.043\\nsamples = 136\\nvalue = [3, 133]'),\n",
       " Text(120.95132965378825, 183.46500000000003, 'X[12] <= 0.5\\ngini = 0.017\\nsamples = 117\\nvalue = [1, 116]'),\n",
       " Text(120.27937782237832, 142.695, 'gini = 0.0\\nsamples = 111\\nvalue = [0, 111]'),\n",
       " Text(121.62328148519819, 142.695, 'X[5] <= 53.0\\ngini = 0.278\\nsamples = 6\\nvalue = [1, 5]'),\n",
       " Text(120.95132965378825, 101.92499999999995, 'gini = 0.0\\nsamples = 5\\nvalue = [0, 5]'),\n",
       " Text(122.29523331660812, 101.92499999999995, 'gini = 0.0\\nsamples = 1\\nvalue = [1, 0]'),\n",
       " Text(123.63913697942799, 183.46500000000003, 'X[37] <= 0.5\\ngini = 0.188\\nsamples = 19\\nvalue = [2, 17]'),\n",
       " Text(122.96718514801806, 142.695, 'gini = 0.0\\nsamples = 14\\nvalue = [0, 14]'),\n",
       " Text(124.31108881083793, 142.695, 'X[5] <= 46.5\\ngini = 0.48\\nsamples = 5\\nvalue = [2, 3]'),\n",
       " Text(123.63913697942799, 101.92499999999995, 'gini = 0.0\\nsamples = 2\\nvalue = [2, 0]'),\n",
       " Text(124.98304064224786, 101.92499999999995, 'gini = 0.0\\nsamples = 3\\nvalue = [0, 3]'),\n",
       " Text(125.6549924736578, 224.235, 'X[2] <= 9.5\\ngini = 0.375\\nsamples = 4\\nvalue = [1, 3]'),\n",
       " Text(124.98304064224786, 183.46500000000003, 'gini = 0.0\\nsamples = 1\\nvalue = [1, 0]'),\n",
       " Text(126.32694430506773, 183.46500000000003, 'gini = 0.0\\nsamples = 3\\nvalue = [0, 3]'),\n",
       " Text(130.6946312092323, 265.005, 'X[45] <= 0.5\\ngini = 0.297\\nsamples = 116\\nvalue = [21, 95]'),\n",
       " Text(129.01475163070748, 224.235, 'X[14] <= 0.5\\ngini = 0.207\\nsamples = 94\\nvalue = [11, 83]'),\n",
       " Text(127.6708479678876, 183.46500000000003, 'X[2] <= 9.5\\ngini = 0.164\\nsamples = 89\\nvalue = [8, 81]'),\n",
       " Text(126.99889613647767, 142.695, 'gini = 0.0\\nsamples = 50\\nvalue = [0, 50]'),\n",
       " Text(128.34279979929752, 142.695, 'X[48] <= 0.5\\ngini = 0.326\\nsamples = 39\\nvalue = [8, 31]'),\n",
       " Text(127.6708479678876, 101.92499999999995, 'gini = 0.0\\nsamples = 13\\nvalue = [0, 13]'),\n",
       " Text(129.01475163070748, 101.92499999999995, 'X[0] <= 58.5\\ngini = 0.426\\nsamples = 26\\nvalue = [8, 18]'),\n",
       " Text(128.34279979929752, 61.15499999999997, 'X[5] <= 52.0\\ngini = 0.498\\nsamples = 17\\nvalue = [8, 9]'),\n",
       " Text(127.6708479678876, 20.38499999999999, 'gini = 0.463\\nsamples = 11\\nvalue = [7, 4]'),\n",
       " Text(129.01475163070748, 20.38499999999999, 'gini = 0.278\\nsamples = 6\\nvalue = [1, 5]'),\n",
       " Text(129.6867034621174, 61.15499999999997, 'gini = 0.0\\nsamples = 9\\nvalue = [0, 9]'),\n",
       " Text(130.35865529352733, 183.46500000000003, 'X[36] <= 0.5\\ngini = 0.48\\nsamples = 5\\nvalue = [3, 2]'),\n",
       " Text(129.6867034621174, 142.695, 'gini = 0.0\\nsamples = 2\\nvalue = [0, 2]'),\n",
       " Text(131.0306071249373, 142.695, 'gini = 0.0\\nsamples = 3\\nvalue = [3, 0]'),\n",
       " Text(132.37451078775715, 224.235, 'X[1] <= 170151.5\\ngini = 0.496\\nsamples = 22\\nvalue = [10, 12]'),\n",
       " Text(131.70255895634722, 183.46500000000003, 'gini = 0.0\\nsamples = 6\\nvalue = [0, 6]'),\n",
       " Text(133.04646261916707, 183.46500000000003, 'X[1] <= 213940.0\\ngini = 0.469\\nsamples = 16\\nvalue = [10, 6]'),\n",
       " Text(132.37451078775715, 142.695, 'gini = 0.0\\nsamples = 10\\nvalue = [10, 0]'),\n",
       " Text(133.71841445057703, 142.695, 'gini = 0.0\\nsamples = 6\\nvalue = [0, 6]'),\n",
       " Text(128.6787757150025, 305.77500000000003, 'gini = 0.0\\nsamples = 3\\nvalue = [3, 0]'),\n",
       " Text(136.74219769192172, 468.855, 'X[4] <= 3253.5\\ngini = 0.454\\nsamples = 66\\nvalue = [43, 23]'),\n",
       " Text(136.0702458605118, 428.08500000000004, 'X[4] <= 2391.5\\ngini = 0.395\\nsamples = 59\\nvalue = [43, 16]'),\n",
       " Text(134.7263421976919, 387.31500000000005, 'X[4] <= 2298.5\\ngini = 0.495\\nsamples = 31\\nvalue = [17, 14]'),\n",
       " Text(134.05439036628198, 346.545, 'X[0] <= 37.0\\ngini = 0.413\\nsamples = 24\\nvalue = [17, 7]'),\n",
       " Text(132.71048670346212, 305.77500000000003, 'X[44] <= 0.5\\ngini = 0.278\\nsamples = 6\\nvalue = [1, 5]'),\n",
       " Text(132.03853487205217, 265.005, 'gini = 0.0\\nsamples = 5\\nvalue = [0, 5]'),\n",
       " Text(133.38243853487205, 265.005, 'gini = 0.0\\nsamples = 1\\nvalue = [1, 0]'),\n",
       " Text(135.39829402910186, 305.77500000000003, 'X[6] <= 0.5\\ngini = 0.198\\nsamples = 18\\nvalue = [16, 2]'),\n",
       " Text(134.7263421976919, 265.005, 'X[45] <= 0.5\\ngini = 0.111\\nsamples = 17\\nvalue = [16, 1]'),\n",
       " Text(134.05439036628198, 224.235, 'gini = 0.0\\nsamples = 16\\nvalue = [16, 0]'),\n",
       " Text(135.39829402910186, 224.235, 'gini = 0.0\\nsamples = 1\\nvalue = [0, 1]'),\n",
       " Text(136.0702458605118, 265.005, 'gini = 0.0\\nsamples = 1\\nvalue = [0, 1]'),\n",
       " Text(135.39829402910186, 346.545, 'gini = 0.0\\nsamples = 7\\nvalue = [0, 7]'),\n",
       " Text(137.41414952333164, 387.31500000000005, 'X[1] <= 92086.5\\ngini = 0.133\\nsamples = 28\\nvalue = [26, 2]'),\n",
       " Text(136.74219769192172, 346.545, 'gini = 0.0\\nsamples = 2\\nvalue = [0, 2]'),\n",
       " Text(138.0861013547416, 346.545, 'gini = 0.0\\nsamples = 26\\nvalue = [26, 0]'),\n",
       " Text(137.41414952333164, 428.08500000000004, 'gini = 0.0\\nsamples = 7\\nvalue = [0, 7]'),\n",
       " Text(183.19808627069744, 509.625, 'X[0] <= 27.5\\ngini = 0.383\\nsamples = 2721\\nvalue = [702, 2019]'),\n",
       " Text(148.60634721525338, 468.855, 'X[4] <= 2116.0\\ngini = 0.048\\nsamples = 729\\nvalue = [18, 711]'),\n",
       " Text(146.35950827897642, 428.08500000000004, 'X[33] <= 0.5\\ngini = 0.035\\nsamples = 723\\nvalue = [13, 710]'),\n",
       " Text(143.8816859006523, 387.31500000000005, 'X[10] <= 0.5\\ngini = 0.022\\nsamples = 716\\nvalue = [8, 708]'),\n",
       " Text(140.94189663823383, 346.545, 'X[1] <= 41011.0\\ngini = 0.014\\nsamples = 702\\nvalue = [5, 697]'),\n",
       " Text(138.0861013547416, 305.77500000000003, 'X[27] <= 0.5\\ngini = 0.108\\nsamples = 35\\nvalue = [2, 33]'),\n",
       " Text(137.41414952333164, 265.005, 'X[1] <= 40713.5\\ngini = 0.057\\nsamples = 34\\nvalue = [1, 33]'),\n",
       " Text(136.74219769192172, 224.235, 'gini = 0.0\\nsamples = 32\\nvalue = [0, 32]'),\n",
       " Text(138.0861013547416, 224.235, 'X[5] <= 32.5\\ngini = 0.5\\nsamples = 2\\nvalue = [1, 1]'),\n",
       " Text(137.41414952333164, 183.46500000000003, 'gini = 0.0\\nsamples = 1\\nvalue = [0, 1]'),\n",
       " Text(138.75805318615153, 183.46500000000003, 'gini = 0.0\\nsamples = 1\\nvalue = [1, 0]'),\n",
       " Text(138.75805318615153, 265.005, 'gini = 0.0\\nsamples = 1\\nvalue = [1, 0]'),\n",
       " Text(143.79769192172603, 305.77500000000003, 'X[36] <= 0.5\\ngini = 0.009\\nsamples = 667\\nvalue = [3, 664]'),\n",
       " Text(142.1178123432012, 265.005, 'X[51] <= 0.5\\ngini = 0.006\\nsamples = 653\\nvalue = [2, 651]'),\n",
       " Text(140.77390868038134, 224.235, 'X[34] <= 0.5\\ngini = 0.003\\nsamples = 636\\nvalue = [1, 635]'),\n",
       " Text(140.10195684897138, 183.46500000000003, 'gini = 0.0\\nsamples = 532\\nvalue = [0, 532]'),\n",
       " Text(141.44586051179127, 183.46500000000003, 'X[56] <= 0.5\\ngini = 0.019\\nsamples = 104\\nvalue = [1, 103]'),\n",
       " Text(140.77390868038134, 142.695, 'X[1] <= 199150.0\\ngini = 0.064\\nsamples = 30\\nvalue = [1, 29]'),\n",
       " Text(140.10195684897138, 101.92499999999995, 'X[1] <= 194818.0\\ngini = 0.198\\nsamples = 9\\nvalue = [1, 8]'),\n",
       " Text(139.43000501756146, 61.15499999999997, 'gini = 0.0\\nsamples = 8\\nvalue = [0, 8]'),\n",
       " Text(140.77390868038134, 61.15499999999997, 'gini = 0.0\\nsamples = 1\\nvalue = [1, 0]'),\n",
       " Text(141.44586051179127, 101.92499999999995, 'gini = 0.0\\nsamples = 21\\nvalue = [0, 21]'),\n",
       " Text(142.1178123432012, 142.695, 'gini = 0.0\\nsamples = 74\\nvalue = [0, 74]'),\n",
       " Text(143.46171600602108, 224.235, 'X[37] <= 0.5\\ngini = 0.111\\nsamples = 17\\nvalue = [1, 16]'),\n",
       " Text(142.78976417461112, 183.46500000000003, 'gini = 0.0\\nsamples = 13\\nvalue = [0, 13]'),\n",
       " Text(144.133667837431, 183.46500000000003, 'X[0] <= 23.5\\ngini = 0.375\\nsamples = 4\\nvalue = [1, 3]'),\n",
       " Text(143.46171600602108, 142.695, 'gini = 0.0\\nsamples = 3\\nvalue = [0, 3]'),\n",
       " Text(144.80561966884093, 142.695, 'gini = 0.0\\nsamples = 1\\nvalue = [1, 0]'),\n",
       " Text(145.47757150025086, 265.005, 'X[5] <= 42.5\\ngini = 0.133\\nsamples = 14\\nvalue = [1, 13]'),\n",
       " Text(144.80561966884093, 224.235, 'gini = 0.0\\nsamples = 11\\nvalue = [0, 11]'),\n",
       " Text(146.14952333166082, 224.235, 'X[0] <= 26.5\\ngini = 0.444\\nsamples = 3\\nvalue = [1, 2]'),\n",
       " Text(145.47757150025086, 183.46500000000003, 'gini = 0.0\\nsamples = 1\\nvalue = [1, 0]'),\n",
       " Text(146.82147516307074, 183.46500000000003, 'gini = 0.0\\nsamples = 2\\nvalue = [0, 2]'),\n",
       " Text(146.82147516307074, 346.545, 'X[5] <= 44.0\\ngini = 0.337\\nsamples = 14\\nvalue = [3, 11]'),\n",
       " Text(146.14952333166082, 305.77500000000003, 'gini = 0.0\\nsamples = 8\\nvalue = [0, 8]'),\n",
       " Text(147.49342699448067, 305.77500000000003, 'X[5] <= 47.5\\ngini = 0.5\\nsamples = 6\\nvalue = [3, 3]'),\n",
       " Text(146.82147516307074, 265.005, 'gini = 0.0\\nsamples = 3\\nvalue = [3, 0]'),\n",
       " Text(148.1653788258906, 265.005, 'gini = 0.0\\nsamples = 3\\nvalue = [0, 3]'),\n",
       " Text(148.83733065730056, 387.31500000000005, 'X[86] <= 0.5\\ngini = 0.408\\nsamples = 7\\nvalue = [5, 2]'),\n",
       " Text(148.1653788258906, 346.545, 'gini = 0.0\\nsamples = 2\\nvalue = [0, 2]'),\n",
       " Text(149.50928248871048, 346.545, 'gini = 0.0\\nsamples = 5\\nvalue = [5, 0]'),\n",
       " Text(150.85318615153037, 428.08500000000004, 'X[9] <= 0.5\\ngini = 0.278\\nsamples = 6\\nvalue = [5, 1]'),\n",
       " Text(150.1812343201204, 387.31500000000005, 'gini = 0.0\\nsamples = 1\\nvalue = [0, 1]'),\n",
       " Text(151.5251379829403, 387.31500000000005, 'gini = 0.0\\nsamples = 5\\nvalue = [5, 0]'),\n",
       " Text(217.78982532614148, 468.855, 'X[5] <= 42.5\\ngini = 0.451\\nsamples = 1992\\nvalue = [684, 1308]'),\n",
       " Text(171.7519380331159, 428.08500000000004, 'X[0] <= 34.5\\ngini = 0.36\\nsamples = 1146\\nvalue = [270, 876]'),\n",
       " Text(158.370647265429, 387.31500000000005, 'X[3] <= 4718.5\\ngini = 0.177\\nsamples = 315\\nvalue = [31, 284]'),\n",
       " Text(157.02674360260912, 346.545, 'X[29] <= 0.5\\ngini = 0.164\\nsamples = 310\\nvalue = [28, 282]'),\n",
       " Text(156.3547917711992, 305.77500000000003, 'X[43] <= 0.5\\ngini = 0.159\\nsamples = 309\\nvalue = [27, 282]'),\n",
       " Text(150.85318615153037, 265.005, 'X[45] <= 0.5\\ngini = 0.08\\nsamples = 168\\nvalue = [7, 161]'),\n",
       " Text(148.83733065730056, 224.235, 'X[46] <= 0.5\\ngini = 0.029\\nsamples = 137\\nvalue = [2, 135]'),\n",
       " Text(148.1653788258906, 183.46500000000003, 'gini = 0.0\\nsamples = 114\\nvalue = [0, 114]'),\n",
       " Text(149.50928248871048, 183.46500000000003, 'X[1] <= 171021.5\\ngini = 0.159\\nsamples = 23\\nvalue = [2, 21]'),\n",
       " Text(148.83733065730056, 142.695, 'X[1] <= 164047.5\\ngini = 0.278\\nsamples = 12\\nvalue = [2, 10]'),\n",
       " Text(148.1653788258906, 101.92499999999995, 'gini = 0.0\\nsamples = 10\\nvalue = [0, 10]'),\n",
       " Text(149.50928248871048, 101.92499999999995, 'gini = 0.0\\nsamples = 2\\nvalue = [2, 0]'),\n",
       " Text(150.1812343201204, 142.695, 'gini = 0.0\\nsamples = 11\\nvalue = [0, 11]'),\n",
       " Text(152.86904164576015, 224.235, 'X[1] <= 181653.5\\ngini = 0.271\\nsamples = 31\\nvalue = [5, 26]'),\n",
       " Text(152.19708981435022, 183.46500000000003, 'X[56] <= 0.5\\ngini = 0.486\\nsamples = 12\\nvalue = [5, 7]'),\n",
       " Text(151.5251379829403, 142.695, 'X[5] <= 39.0\\ngini = 0.469\\nsamples = 8\\nvalue = [5, 3]'),\n",
       " Text(150.85318615153037, 101.92499999999995, 'gini = 0.0\\nsamples = 2\\nvalue = [0, 2]'),\n",
       " Text(152.19708981435022, 101.92499999999995, 'X[0] <= 29.0\\ngini = 0.278\\nsamples = 6\\nvalue = [5, 1]'),\n",
       " Text(151.5251379829403, 61.15499999999997, 'gini = 0.0\\nsamples = 1\\nvalue = [0, 1]'),\n",
       " Text(152.86904164576015, 61.15499999999997, 'gini = 0.0\\nsamples = 5\\nvalue = [5, 0]'),\n",
       " Text(152.86904164576015, 142.695, 'gini = 0.0\\nsamples = 4\\nvalue = [0, 4]'),\n",
       " Text(153.5409934771701, 183.46500000000003, 'gini = 0.0\\nsamples = 19\\nvalue = [0, 19]'),\n",
       " Text(161.85639739086804, 265.005, 'X[4] <= 782.0\\ngini = 0.243\\nsamples = 141\\nvalue = [20, 121]'),\n",
       " Text(159.42057200200702, 224.235, 'X[6] <= 0.5\\ngini = 0.209\\nsamples = 135\\nvalue = [16, 119]'),\n",
       " Text(156.5647767185148, 183.46500000000003, 'X[0] <= 31.5\\ngini = 0.174\\nsamples = 125\\nvalue = [12, 113]'),\n",
       " Text(154.21294530858003, 142.695, 'X[1] <= 353900.5\\ngini = 0.054\\nsamples = 72\\nvalue = [2, 70]'),\n",
       " Text(153.5409934771701, 101.92499999999995, 'gini = 0.0\\nsamples = 63\\nvalue = [0, 63]'),\n",
       " Text(154.88489713998996, 101.92499999999995, 'X[1] <= 356070.5\\ngini = 0.346\\nsamples = 9\\nvalue = [2, 7]'),\n",
       " Text(154.21294530858003, 61.15499999999997, 'gini = 0.0\\nsamples = 2\\nvalue = [2, 0]'),\n",
       " Text(155.5568489713999, 61.15499999999997, 'gini = 0.0\\nsamples = 7\\nvalue = [0, 7]'),\n",
       " Text(158.91660812844958, 142.695, 'X[23] <= 0.5\\ngini = 0.306\\nsamples = 53\\nvalue = [10, 43]'),\n",
       " Text(158.24465629703963, 101.92499999999995, 'X[11] <= 0.5\\ngini = 0.265\\nsamples = 51\\nvalue = [8, 43]'),\n",
       " Text(156.90075263421977, 61.15499999999997, 'X[9] <= 0.5\\ngini = 0.219\\nsamples = 48\\nvalue = [6, 42]'),\n",
       " Text(156.22880080280984, 20.38499999999999, 'gini = 0.0\\nsamples = 18\\nvalue = [0, 18]'),\n",
       " Text(157.5727044656297, 20.38499999999999, 'gini = 0.32\\nsamples = 30\\nvalue = [6, 24]'),\n",
       " Text(159.5885599598595, 61.15499999999997, 'X[1] <= 178390.0\\ngini = 0.444\\nsamples = 3\\nvalue = [2, 1]'),\n",
       " Text(158.91660812844958, 20.38499999999999, 'gini = 0.0\\nsamples = 2\\nvalue = [2, 0]'),\n",
       " Text(160.26051179126944, 20.38499999999999, 'gini = 0.0\\nsamples = 1\\nvalue = [0, 1]'),\n",
       " Text(159.5885599598595, 101.92499999999995, 'gini = 0.0\\nsamples = 2\\nvalue = [2, 0]'),\n",
       " Text(162.27636728549925, 183.46500000000003, 'X[56] <= 0.5\\ngini = 0.48\\nsamples = 10\\nvalue = [4, 6]'),\n",
       " Text(161.60441545408932, 142.695, 'X[1] <= 132621.0\\ngini = 0.32\\nsamples = 5\\nvalue = [4, 1]'),\n",
       " Text(160.93246362267936, 101.92499999999995, 'gini = 0.0\\nsamples = 4\\nvalue = [4, 0]'),\n",
       " Text(162.27636728549925, 101.92499999999995, 'gini = 0.0\\nsamples = 1\\nvalue = [0, 1]'),\n",
       " Text(162.94831911690918, 142.695, 'gini = 0.0\\nsamples = 5\\nvalue = [0, 5]'),\n",
       " Text(164.29222277972906, 224.235, 'X[50] <= 0.5\\ngini = 0.444\\nsamples = 6\\nvalue = [4, 2]'),\n",
       " Text(163.6202709483191, 183.46500000000003, 'gini = 0.0\\nsamples = 2\\nvalue = [0, 2]'),\n",
       " Text(164.964174611139, 183.46500000000003, 'gini = 0.0\\nsamples = 4\\nvalue = [4, 0]'),\n",
       " Text(157.69869543401907, 305.77500000000003, 'gini = 0.0\\nsamples = 1\\nvalue = [1, 0]'),\n",
       " Text(159.71455092824885, 346.545, 'X[22] <= 0.5\\ngini = 0.48\\nsamples = 5\\nvalue = [3, 2]'),\n",
       " Text(159.04259909683893, 305.77500000000003, 'gini = 0.0\\nsamples = 3\\nvalue = [3, 0]'),\n",
       " Text(160.3865027596588, 305.77500000000003, 'gini = 0.0\\nsamples = 2\\nvalue = [0, 2]'),\n",
       " Text(185.1332288008028, 387.31500000000005, 'X[5] <= 38.5\\ngini = 0.41\\nsamples = 831\\nvalue = [239, 592]'),\n",
       " Text(175.12744606121424, 346.545, 'X[1] <= 410013.0\\ngini = 0.263\\nsamples = 238\\nvalue = [37, 201]'),\n",
       " Text(172.52363271450074, 305.77500000000003, 'X[23] <= 0.5\\ngini = 0.233\\nsamples = 230\\nvalue = [31, 199]'),\n",
       " Text(169.33186151530356, 265.005, 'X[28] <= 0.5\\ngini = 0.192\\nsamples = 214\\nvalue = [23, 191]'),\n",
       " Text(167.65198193677872, 224.235, 'X[1] <= 169706.5\\ngini = 0.263\\nsamples = 141\\nvalue = [22, 119]'),\n",
       " Text(166.30807827395884, 183.46500000000003, 'X[1] <= 169404.0\\ngini = 0.36\\nsamples = 68\\nvalue = [16, 52]'),\n",
       " Text(165.6361264425489, 142.695, 'X[31] <= 0.5\\ngini = 0.305\\nsamples = 64\\nvalue = [12, 52]'),\n",
       " Text(164.964174611139, 101.92499999999995, 'X[0] <= 36.0\\ngini = 0.271\\nsamples = 62\\nvalue = [10, 52]'),\n",
       " Text(163.6202709483191, 61.15499999999997, 'X[53] <= 0.5\\ngini = 0.444\\nsamples = 3\\nvalue = [2, 1]'),\n",
       " Text(162.94831911690918, 20.38499999999999, 'gini = 0.0\\nsamples = 2\\nvalue = [2, 0]'),\n",
       " Text(164.29222277972906, 20.38499999999999, 'gini = 0.0\\nsamples = 1\\nvalue = [0, 1]'),\n",
       " Text(166.30807827395884, 61.15499999999997, 'X[3] <= 4792.0\\ngini = 0.234\\nsamples = 59\\nvalue = [8, 51]'),\n",
       " Text(165.6361264425489, 20.38499999999999, 'gini = 0.212\\nsamples = 58\\nvalue = [7, 51]'),\n",
       " Text(166.9800301053688, 20.38499999999999, 'gini = 0.0\\nsamples = 1\\nvalue = [1, 0]'),\n",
       " Text(166.30807827395884, 101.92499999999995, 'gini = 0.0\\nsamples = 2\\nvalue = [2, 0]'),\n",
       " Text(166.9800301053688, 142.695, 'gini = 0.0\\nsamples = 4\\nvalue = [4, 0]'),\n",
       " Text(168.99588559959858, 183.46500000000003, 'X[0] <= 51.5\\ngini = 0.151\\nsamples = 73\\nvalue = [6, 67]'),\n",
       " Text(168.32393376818865, 142.695, 'gini = 0.0\\nsamples = 49\\nvalue = [0, 49]'),\n",
       " Text(169.66783743100854, 142.695, 'X[0] <= 53.0\\ngini = 0.375\\nsamples = 24\\nvalue = [6, 18]'),\n",
       " Text(168.99588559959858, 101.92499999999995, 'gini = 0.0\\nsamples = 4\\nvalue = [4, 0]'),\n",
       " Text(170.33978926241846, 101.92499999999995, 'X[5] <= 31.0\\ngini = 0.18\\nsamples = 20\\nvalue = [2, 18]'),\n",
       " Text(169.66783743100854, 61.15499999999997, 'gini = 0.0\\nsamples = 13\\nvalue = [0, 13]'),\n",
       " Text(171.0117410938284, 61.15499999999997, 'X[45] <= 0.5\\ngini = 0.408\\nsamples = 7\\nvalue = [2, 5]'),\n",
       " Text(170.33978926241846, 20.38499999999999, 'gini = 0.278\\nsamples = 6\\nvalue = [1, 5]'),\n",
       " Text(171.68369292523832, 20.38499999999999, 'gini = 0.0\\nsamples = 1\\nvalue = [1, 0]'),\n",
       " Text(171.0117410938284, 224.235, 'X[50] <= 0.5\\ngini = 0.027\\nsamples = 73\\nvalue = [1, 72]'),\n",
       " Text(170.33978926241846, 183.46500000000003, 'gini = 0.0\\nsamples = 70\\nvalue = [0, 70]'),\n",
       " Text(171.68369292523832, 183.46500000000003, 'X[1] <= 197559.5\\ngini = 0.444\\nsamples = 3\\nvalue = [1, 2]'),\n",
       " Text(171.0117410938284, 142.695, 'gini = 0.0\\nsamples = 1\\nvalue = [1, 0]'),\n",
       " Text(172.35564475664827, 142.695, 'gini = 0.0\\nsamples = 2\\nvalue = [0, 2]'),\n",
       " Text(175.71540391369794, 265.005, 'X[1] <= 287757.0\\ngini = 0.5\\nsamples = 16\\nvalue = [8, 8]'),\n",
       " Text(175.043452082288, 224.235, 'X[6] <= 0.5\\ngini = 0.444\\nsamples = 12\\nvalue = [4, 8]'),\n",
       " Text(174.37150025087806, 183.46500000000003, 'X[54] <= 0.5\\ngini = 0.198\\nsamples = 9\\nvalue = [1, 8]'),\n",
       " Text(173.69954841946813, 142.695, 'gini = 0.0\\nsamples = 8\\nvalue = [0, 8]'),\n",
       " Text(175.043452082288, 142.695, 'gini = 0.0\\nsamples = 1\\nvalue = [1, 0]'),\n",
       " Text(175.71540391369794, 183.46500000000003, 'gini = 0.0\\nsamples = 3\\nvalue = [3, 0]'),\n",
       " Text(176.38735574510787, 224.235, 'gini = 0.0\\nsamples = 4\\nvalue = [4, 0]'),\n",
       " Text(177.73125940792775, 305.77500000000003, 'X[48] <= 0.5\\ngini = 0.375\\nsamples = 8\\nvalue = [6, 2]'),\n",
       " Text(177.0593075765178, 265.005, 'gini = 0.0\\nsamples = 5\\nvalue = [5, 0]'),\n",
       " Text(178.40321123933768, 265.005, 'X[1] <= 485073.5\\ngini = 0.444\\nsamples = 3\\nvalue = [1, 2]'),\n",
       " Text(177.73125940792775, 224.235, 'gini = 0.0\\nsamples = 2\\nvalue = [0, 2]'),\n",
       " Text(179.0751630707476, 224.235, 'gini = 0.0\\nsamples = 1\\nvalue = [1, 0]'),\n",
       " Text(195.13901154039135, 346.545, 'X[4] <= 2116.0\\ngini = 0.449\\nsamples = 593\\nvalue = [202, 391]'),\n",
       " Text(189.78439538384345, 305.77500000000003, 'X[1] <= 124538.0\\ngini = 0.44\\nsamples = 579\\nvalue = [189, 390]'),\n",
       " Text(181.09101856497742, 265.005, 'X[74] <= 0.5\\ngini = 0.287\\nsamples = 150\\nvalue = [26, 124]'),\n",
       " Text(180.4190667335675, 224.235, 'X[1] <= 66865.0\\ngini = 0.264\\nsamples = 147\\nvalue = [23, 124]'),\n",
       " Text(177.39528349222277, 183.46500000000003, 'X[1] <= 63438.5\\ngini = 0.423\\nsamples = 56\\nvalue = [17, 39]'),\n",
       " Text(176.72333166081285, 142.695, 'X[0] <= 43.5\\ngini = 0.375\\nsamples = 52\\nvalue = [13, 39]'),\n",
       " Text(176.05137982940292, 101.92499999999995, 'gini = 0.0\\nsamples = 18\\nvalue = [0, 18]'),\n",
       " Text(177.39528349222277, 101.92499999999995, 'X[25] <= 0.5\\ngini = 0.472\\nsamples = 34\\nvalue = [13, 21]'),\n",
       " Text(176.05137982940292, 61.15499999999997, 'X[0] <= 44.5\\ngini = 0.363\\nsamples = 21\\nvalue = [5, 16]'),\n",
       " Text(175.37942799799296, 20.38499999999999, 'gini = 0.0\\nsamples = 3\\nvalue = [3, 0]'),\n",
       " Text(176.72333166081285, 20.38499999999999, 'gini = 0.198\\nsamples = 18\\nvalue = [2, 16]'),\n",
       " Text(178.73918715504266, 61.15499999999997, 'X[0] <= 46.5\\ngini = 0.473\\nsamples = 13\\nvalue = [8, 5]'),\n",
       " Text(178.0672353236327, 20.38499999999999, 'gini = 0.0\\nsamples = 3\\nvalue = [0, 3]'),\n",
       " Text(179.41113898645258, 20.38499999999999, 'gini = 0.32\\nsamples = 10\\nvalue = [8, 2]'),\n",
       " Text(178.0672353236327, 142.695, 'gini = 0.0\\nsamples = 4\\nvalue = [4, 0]'),\n",
       " Text(183.44284997491218, 183.46500000000003, 'X[75] <= 0.5\\ngini = 0.123\\nsamples = 91\\nvalue = [6, 85]'),\n",
       " Text(182.77089814350225, 142.695, 'X[0] <= 53.5\\ngini = 0.086\\nsamples = 89\\nvalue = [4, 85]'),\n",
       " Text(180.75504264927244, 101.92499999999995, 'X[37] <= 0.5\\ngini = 0.051\\nsamples = 76\\nvalue = [2, 74]'),\n",
       " Text(180.0830908178625, 61.15499999999997, 'gini = 0.0\\nsamples = 58\\nvalue = [0, 58]'),\n",
       " Text(181.4269944806824, 61.15499999999997, 'X[22] <= 0.5\\ngini = 0.198\\nsamples = 18\\nvalue = [2, 16]'),\n",
       " Text(180.75504264927244, 20.38499999999999, 'gini = 0.444\\nsamples = 6\\nvalue = [2, 4]'),\n",
       " Text(182.09894631209232, 20.38499999999999, 'gini = 0.0\\nsamples = 12\\nvalue = [0, 12]'),\n",
       " Text(184.78675363773206, 101.92499999999995, 'X[11] <= 0.5\\ngini = 0.26\\nsamples = 13\\nvalue = [2, 11]'),\n",
       " Text(184.11480180632213, 61.15499999999997, 'X[53] <= 0.5\\ngini = 0.153\\nsamples = 12\\nvalue = [1, 11]'),\n",
       " Text(183.44284997491218, 20.38499999999999, 'gini = 0.0\\nsamples = 11\\nvalue = [0, 11]'),\n",
       " Text(184.78675363773206, 20.38499999999999, 'gini = 0.0\\nsamples = 1\\nvalue = [1, 0]'),\n",
       " Text(185.458705469142, 61.15499999999997, 'gini = 0.0\\nsamples = 1\\nvalue = [1, 0]'),\n",
       " Text(184.11480180632213, 142.695, 'gini = 0.0\\nsamples = 2\\nvalue = [2, 0]'),\n",
       " Text(181.76297039638735, 224.235, 'gini = 0.0\\nsamples = 3\\nvalue = [3, 0]'),\n",
       " Text(198.47777220270947, 265.005, 'X[1] <= 125441.0\\ngini = 0.471\\nsamples = 429\\nvalue = [163, 266]'),\n",
       " Text(197.80582037129955, 224.235, 'gini = 0.0\\nsamples = 9\\nvalue = [9, 0]'),\n",
       " Text(199.1497240341194, 224.235, 'X[33] <= 0.5\\ngini = 0.464\\nsamples = 420\\nvalue = [154, 266]'),\n",
       " Text(194.02609131961867, 183.46500000000003, 'X[48] <= 0.5\\ngini = 0.445\\nsamples = 377\\nvalue = [126, 251]'),\n",
       " Text(189.82639237330656, 142.695, 'X[0] <= 47.5\\ngini = 0.284\\nsamples = 111\\nvalue = [19, 92]'),\n",
       " Text(187.4745609633718, 101.92499999999995, 'X[27] <= 0.5\\ngini = 0.081\\nsamples = 71\\nvalue = [3, 68]'),\n",
       " Text(186.80260913196187, 61.15499999999997, 'gini = 0.0\\nsamples = 65\\nvalue = [0, 65]'),\n",
       " Text(188.14651279478173, 61.15499999999997, 'X[6] <= 0.5\\ngini = 0.5\\nsamples = 6\\nvalue = [3, 3]'),\n",
       " Text(187.4745609633718, 20.38499999999999, 'gini = 0.0\\nsamples = 3\\nvalue = [0, 3]'),\n",
       " Text(188.81846462619166, 20.38499999999999, 'gini = 0.0\\nsamples = 3\\nvalue = [3, 0]'),\n",
       " Text(192.17822378324135, 101.92499999999995, 'X[0] <= 52.0\\ngini = 0.48\\nsamples = 40\\nvalue = [16, 24]'),\n",
       " Text(190.83432012042147, 61.15499999999997, 'X[37] <= 0.5\\ngini = 0.48\\nsamples = 25\\nvalue = [15, 10]'),\n",
       " Text(190.16236828901154, 20.38499999999999, 'gini = 0.444\\nsamples = 12\\nvalue = [4, 8]'),\n",
       " Text(191.5062719518314, 20.38499999999999, 'gini = 0.26\\nsamples = 13\\nvalue = [11, 2]'),\n",
       " Text(193.5221274460612, 61.15499999999997, 'X[1] <= 367190.5\\ngini = 0.124\\nsamples = 15\\nvalue = [1, 14]'),\n",
       " Text(192.85017561465128, 20.38499999999999, 'gini = 0.0\\nsamples = 14\\nvalue = [0, 14]'),\n",
       " Text(194.19407927747113, 20.38499999999999, 'gini = 0.0\\nsamples = 1\\nvalue = [1, 0]'),\n",
       " Text(198.22579026593075, 142.695, 'X[0] <= 63.5\\ngini = 0.481\\nsamples = 266\\nvalue = [107, 159]'),\n",
       " Text(197.55383843452083, 101.92499999999995, 'X[2] <= 15.5\\ngini = 0.488\\nsamples = 253\\nvalue = [107, 146]'),\n",
       " Text(196.20993477170094, 61.15499999999997, 'X[0] <= 60.5\\ngini = 0.479\\nsamples = 241\\nvalue = [96, 145]'),\n",
       " Text(195.53798294029102, 20.38499999999999, 'gini = 0.466\\nsamples = 222\\nvalue = [82, 140]'),\n",
       " Text(196.88188660311087, 20.38499999999999, 'gini = 0.388\\nsamples = 19\\nvalue = [14, 5]'),\n",
       " Text(198.89774209734068, 61.15499999999997, 'X[1] <= 399850.0\\ngini = 0.153\\nsamples = 12\\nvalue = [11, 1]'),\n",
       " Text(198.22579026593075, 20.38499999999999, 'gini = 0.0\\nsamples = 11\\nvalue = [11, 0]'),\n",
       " Text(199.5696939287506, 20.38499999999999, 'gini = 0.0\\nsamples = 1\\nvalue = [0, 1]'),\n",
       " Text(198.89774209734068, 101.92499999999995, 'gini = 0.0\\nsamples = 13\\nvalue = [0, 13]'),\n",
       " Text(204.27335674862016, 183.46500000000003, 'X[22] <= 0.5\\ngini = 0.454\\nsamples = 43\\nvalue = [28, 15]'),\n",
       " Text(202.9294530858003, 142.695, 'X[53] <= 0.5\\ngini = 0.18\\nsamples = 20\\nvalue = [18, 2]'),\n",
       " Text(202.25750125439035, 101.92499999999995, 'X[1] <= 192286.5\\ngini = 0.1\\nsamples = 19\\nvalue = [18, 1]'),\n",
       " Text(201.58554942298042, 61.15499999999997, 'X[25] <= 0.5\\ngini = 0.375\\nsamples = 4\\nvalue = [3, 1]'),\n",
       " Text(200.9135975915705, 20.38499999999999, 'gini = 0.0\\nsamples = 1\\nvalue = [0, 1]'),\n",
       " Text(202.25750125439035, 20.38499999999999, 'gini = 0.0\\nsamples = 3\\nvalue = [3, 0]'),\n",
       " Text(202.9294530858003, 61.15499999999997, 'gini = 0.0\\nsamples = 15\\nvalue = [15, 0]'),\n",
       " Text(203.60140491721023, 101.92499999999995, 'gini = 0.0\\nsamples = 1\\nvalue = [0, 1]'),\n",
       " Text(205.61726041144004, 142.695, 'X[0] <= 38.5\\ngini = 0.491\\nsamples = 23\\nvalue = [10, 13]'),\n",
       " Text(204.9453085800301, 101.92499999999995, 'gini = 0.0\\nsamples = 5\\nvalue = [0, 5]'),\n",
       " Text(206.28921224284997, 101.92499999999995, 'X[1] <= 226864.5\\ngini = 0.494\\nsamples = 18\\nvalue = [10, 8]'),\n",
       " Text(205.61726041144004, 61.15499999999997, 'X[43] <= 0.5\\ngini = 0.49\\nsamples = 14\\nvalue = [6, 8]'),\n",
       " Text(204.9453085800301, 20.38499999999999, 'gini = 0.0\\nsamples = 5\\nvalue = [0, 5]'),\n",
       " Text(206.28921224284997, 20.38499999999999, 'gini = 0.444\\nsamples = 9\\nvalue = [6, 3]'),\n",
       " Text(206.9611640742599, 61.15499999999997, 'gini = 0.0\\nsamples = 4\\nvalue = [4, 0]'),\n",
       " Text(200.49362769693928, 305.77500000000003, 'X[34] <= 0.5\\ngini = 0.133\\nsamples = 14\\nvalue = [13, 1]'),\n",
       " Text(199.82167586552936, 265.005, 'gini = 0.0\\nsamples = 13\\nvalue = [13, 0]'),\n",
       " Text(201.1655795283492, 265.005, 'gini = 0.0\\nsamples = 1\\nvalue = [0, 1]'),\n",
       " Text(263.8277126191671, 428.08500000000004, 'X[37] <= 0.5\\ngini = 0.5\\nsamples = 846\\nvalue = [414, 432]'),\n",
       " Text(246.86355368790768, 387.31500000000005, 'X[2] <= 14.5\\ngini = 0.492\\nsamples = 615\\nvalue = [269, 346]'),\n",
       " Text(234.35370045158052, 346.545, 'X[45] <= 0.5\\ngini = 0.474\\nsamples = 500\\nvalue = [193, 307]'),\n",
       " Text(222.01708479678877, 305.77500000000003, 'X[1] <= 128679.0\\ngini = 0.432\\nsamples = 368\\nvalue = [116, 252]'),\n",
       " Text(212.33677872553938, 265.005, 'X[11] <= 0.5\\ngini = 0.254\\nsamples = 107\\nvalue = [16, 91]'),\n",
       " Text(210.99287506271952, 224.235, 'X[0] <= 37.5\\ngini = 0.19\\nsamples = 94\\nvalue = [10, 84]'),\n",
       " Text(210.32092323130956, 183.46500000000003, 'X[0] <= 33.5\\ngini = 0.335\\nsamples = 47\\nvalue = [10, 37]'),\n",
       " Text(209.64897139989964, 142.695, 'gini = 0.0\\nsamples = 23\\nvalue = [0, 23]'),\n",
       " Text(210.99287506271952, 142.695, 'X[0] <= 35.5\\ngini = 0.486\\nsamples = 24\\nvalue = [10, 14]'),\n",
       " Text(208.9770195684897, 101.92499999999995, 'X[32] <= 0.5\\ngini = 0.397\\nsamples = 11\\nvalue = [8, 3]'),\n",
       " Text(208.30506773707978, 61.15499999999997, 'gini = 0.0\\nsamples = 2\\nvalue = [0, 2]'),\n",
       " Text(209.64897139989964, 61.15499999999997, 'X[4] <= 1129.0\\ngini = 0.198\\nsamples = 9\\nvalue = [8, 1]'),\n",
       " Text(208.9770195684897, 20.38499999999999, 'gini = 0.0\\nsamples = 8\\nvalue = [8, 0]'),\n",
       " Text(210.32092323130956, 20.38499999999999, 'gini = 0.0\\nsamples = 1\\nvalue = [0, 1]'),\n",
       " Text(213.0087305569493, 101.92499999999995, 'X[1] <= 113913.0\\ngini = 0.26\\nsamples = 13\\nvalue = [2, 11]'),\n",
       " Text(212.33677872553938, 61.15499999999997, 'X[5] <= 80.0\\ngini = 0.153\\nsamples = 12\\nvalue = [1, 11]'),\n",
       " Text(211.66482689412945, 20.38499999999999, 'gini = 0.0\\nsamples = 11\\nvalue = [0, 11]'),\n",
       " Text(213.0087305569493, 20.38499999999999, 'gini = 0.0\\nsamples = 1\\nvalue = [1, 0]'),\n",
       " Text(213.68068238835926, 61.15499999999997, 'gini = 0.0\\nsamples = 1\\nvalue = [1, 0]'),\n",
       " Text(211.66482689412945, 183.46500000000003, 'gini = 0.0\\nsamples = 47\\nvalue = [0, 47]'),\n",
       " Text(213.68068238835926, 224.235, 'X[28] <= 0.5\\ngini = 0.497\\nsamples = 13\\nvalue = [6, 7]'),\n",
       " Text(213.0087305569493, 183.46500000000003, 'gini = 0.0\\nsamples = 5\\nvalue = [0, 5]'),\n",
       " Text(214.3526342197692, 183.46500000000003, 'X[1] <= 89287.5\\ngini = 0.375\\nsamples = 8\\nvalue = [6, 2]'),\n",
       " Text(213.68068238835926, 142.695, 'gini = 0.0\\nsamples = 5\\nvalue = [5, 0]'),\n",
       " Text(215.0245860511791, 142.695, 'X[2] <= 13.5\\ngini = 0.444\\nsamples = 3\\nvalue = [1, 2]'),\n",
       " Text(214.3526342197692, 101.92499999999995, 'gini = 0.0\\nsamples = 2\\nvalue = [0, 2]'),\n",
       " Text(215.69653788258907, 101.92499999999995, 'gini = 0.0\\nsamples = 1\\nvalue = [1, 0]'),\n",
       " Text(231.69739086803813, 265.005, 'X[44] <= 0.5\\ngini = 0.473\\nsamples = 261\\nvalue = [100, 161]'),\n",
       " Text(226.19578524836928, 224.235, 'X[1] <= 171839.0\\ngini = 0.456\\nsamples = 242\\nvalue = [85, 157]'),\n",
       " Text(221.57611640742599, 183.46500000000003, 'X[5] <= 58.0\\ngini = 0.487\\nsamples = 62\\nvalue = [36, 26]'),\n",
       " Text(218.72032112393376, 142.695, 'X[1] <= 144811.0\\ngini = 0.44\\nsamples = 49\\nvalue = [33, 16]'),\n",
       " Text(217.04044154540892, 101.92499999999995, 'X[1] <= 134017.5\\ngini = 0.219\\nsamples = 8\\nvalue = [1, 7]'),\n",
       " Text(216.368489713999, 61.15499999999997, 'gini = 0.0\\nsamples = 1\\nvalue = [1, 0]'),\n",
       " Text(217.71239337681885, 61.15499999999997, 'gini = 0.0\\nsamples = 7\\nvalue = [0, 7]'),\n",
       " Text(220.4002007024586, 101.92499999999995, 'X[0] <= 44.5\\ngini = 0.343\\nsamples = 41\\nvalue = [32, 9]'),\n",
       " Text(219.05629703963874, 61.15499999999997, 'X[28] <= 0.5\\ngini = 0.496\\nsamples = 11\\nvalue = [5, 6]'),\n",
       " Text(218.3843452082288, 20.38499999999999, 'gini = 0.408\\nsamples = 7\\nvalue = [5, 2]'),\n",
       " Text(219.72824887104866, 20.38499999999999, 'gini = 0.0\\nsamples = 4\\nvalue = [0, 4]'),\n",
       " Text(221.74410436527847, 61.15499999999997, 'X[5] <= 44.0\\ngini = 0.18\\nsamples = 30\\nvalue = [27, 3]'),\n",
       " Text(221.07215253386855, 20.38499999999999, 'gini = 0.0\\nsamples = 1\\nvalue = [0, 1]'),\n",
       " Text(222.4160561966884, 20.38499999999999, 'gini = 0.128\\nsamples = 29\\nvalue = [27, 2]'),\n",
       " Text(224.4319116909182, 142.695, 'X[1] <= 143033.5\\ngini = 0.355\\nsamples = 13\\nvalue = [3, 10]'),\n",
       " Text(223.75995985950829, 101.92499999999995, 'X[9] <= 0.5\\ngini = 0.375\\nsamples = 4\\nvalue = [3, 1]'),\n",
       " Text(223.08800802809833, 61.15499999999997, 'gini = 0.0\\nsamples = 1\\nvalue = [0, 1]'),\n",
       " Text(224.4319116909182, 61.15499999999997, 'gini = 0.0\\nsamples = 3\\nvalue = [3, 0]'),\n",
       " Text(225.10386352232814, 101.92499999999995, 'gini = 0.0\\nsamples = 9\\nvalue = [0, 9]'),\n",
       " Text(230.8154540893126, 183.46500000000003, 'X[1] <= 375161.5\\ngini = 0.396\\nsamples = 180\\nvalue = [49, 131]'),\n",
       " Text(227.79167084796788, 142.695, 'X[6] <= 0.5\\ngini = 0.354\\nsamples = 161\\nvalue = [37, 124]'),\n",
       " Text(226.44776718514802, 101.92499999999995, 'X[1] <= 182215.5\\ngini = 0.326\\nsamples = 151\\nvalue = [31, 120]'),\n",
       " Text(225.77581535373807, 61.15499999999997, 'gini = 0.0\\nsamples = 19\\nvalue = [0, 19]'),\n",
       " Text(227.11971901655795, 61.15499999999997, 'X[1] <= 182742.5\\ngini = 0.359\\nsamples = 132\\nvalue = [31, 101]'),\n",
       " Text(226.44776718514802, 20.38499999999999, 'gini = 0.0\\nsamples = 3\\nvalue = [3, 0]'),\n",
       " Text(227.79167084796788, 20.38499999999999, 'gini = 0.34\\nsamples = 129\\nvalue = [28, 101]'),\n",
       " Text(229.13557451078776, 101.92499999999995, 'X[0] <= 46.5\\ngini = 0.48\\nsamples = 10\\nvalue = [6, 4]'),\n",
       " Text(228.4636226793778, 61.15499999999997, 'gini = 0.0\\nsamples = 3\\nvalue = [0, 3]'),\n",
       " Text(229.8075263421977, 61.15499999999997, 'X[33] <= 0.5\\ngini = 0.245\\nsamples = 7\\nvalue = [6, 1]'),\n",
       " Text(229.13557451078776, 20.38499999999999, 'gini = 0.0\\nsamples = 6\\nvalue = [6, 0]'),\n",
       " Text(230.47947817360762, 20.38499999999999, 'gini = 0.0\\nsamples = 1\\nvalue = [0, 1]'),\n",
       " Text(233.83923733065728, 142.695, 'X[1] <= 533676.5\\ngini = 0.465\\nsamples = 19\\nvalue = [12, 7]'),\n",
       " Text(233.16728549924736, 101.92499999999995, 'X[56] <= 0.5\\ngini = 0.415\\nsamples = 17\\nvalue = [12, 5]'),\n",
       " Text(232.49533366783743, 61.15499999999997, 'X[32] <= 0.5\\ngini = 0.486\\nsamples = 12\\nvalue = [7, 5]'),\n",
       " Text(231.8233818364275, 20.38499999999999, 'gini = 0.0\\nsamples = 2\\nvalue = [0, 2]'),\n",
       " Text(233.16728549924736, 20.38499999999999, 'gini = 0.42\\nsamples = 10\\nvalue = [7, 3]'),\n",
       " Text(233.83923733065728, 61.15499999999997, 'gini = 0.0\\nsamples = 5\\nvalue = [5, 0]'),\n",
       " Text(234.51118916206724, 101.92499999999995, 'gini = 0.0\\nsamples = 2\\nvalue = [0, 2]'),\n",
       " Text(237.19899648770698, 224.235, 'X[0] <= 34.5\\ngini = 0.332\\nsamples = 19\\nvalue = [15, 4]'),\n",
       " Text(235.8550928248871, 183.46500000000003, 'X[28] <= 0.5\\ngini = 0.375\\nsamples = 4\\nvalue = [1, 3]'),\n",
       " Text(235.18314099347717, 142.695, 'gini = 0.0\\nsamples = 3\\nvalue = [0, 3]'),\n",
       " Text(236.52704465629702, 142.695, 'gini = 0.0\\nsamples = 1\\nvalue = [1, 0]'),\n",
       " Text(238.54290015052683, 183.46500000000003, 'X[9] <= 0.5\\ngini = 0.124\\nsamples = 15\\nvalue = [14, 1]'),\n",
       " Text(237.8709483191169, 142.695, 'gini = 0.0\\nsamples = 14\\nvalue = [14, 0]'),\n",
       " Text(239.21485198193676, 142.695, 'gini = 0.0\\nsamples = 1\\nvalue = [0, 1]'),\n",
       " Text(246.6903161063723, 305.77500000000003, 'X[4] <= 2391.5\\ngini = 0.486\\nsamples = 132\\nvalue = [77, 55]'),\n",
       " Text(246.01836427496235, 265.005, 'X[5] <= 49.0\\ngini = 0.495\\nsamples = 122\\nvalue = [67, 55]'),\n",
       " Text(241.23070747616657, 224.235, 'X[5] <= 44.5\\ngini = 0.473\\nsamples = 39\\nvalue = [15, 24]'),\n",
       " Text(240.55875564475664, 183.46500000000003, 'gini = 0.0\\nsamples = 7\\nvalue = [7, 0]'),\n",
       " Text(241.9026593075765, 183.46500000000003, 'X[1] <= 228515.0\\ngini = 0.375\\nsamples = 32\\nvalue = [8, 24]'),\n",
       " Text(240.55875564475664, 142.695, 'X[5] <= 47.0\\ngini = 0.091\\nsamples = 21\\nvalue = [1, 20]'),\n",
       " Text(239.88680381334672, 101.92499999999995, 'gini = 0.0\\nsamples = 18\\nvalue = [0, 18]'),\n",
       " Text(241.23070747616657, 101.92499999999995, 'X[28] <= 0.5\\ngini = 0.444\\nsamples = 3\\nvalue = [1, 2]'),\n",
       " Text(240.55875564475664, 61.15499999999997, 'gini = 0.0\\nsamples = 2\\nvalue = [0, 2]'),\n",
       " Text(241.9026593075765, 61.15499999999997, 'gini = 0.0\\nsamples = 1\\nvalue = [1, 0]'),\n",
       " Text(243.24656297039638, 142.695, 'X[1] <= 234030.5\\ngini = 0.463\\nsamples = 11\\nvalue = [7, 4]'),\n",
       " Text(242.57461113898646, 101.92499999999995, 'gini = 0.0\\nsamples = 6\\nvalue = [6, 0]'),\n",
       " Text(243.9185148018063, 101.92499999999995, 'X[22] <= 0.5\\ngini = 0.32\\nsamples = 5\\nvalue = [1, 4]'),\n",
       " Text(243.24656297039638, 61.15499999999997, 'gini = 0.0\\nsamples = 1\\nvalue = [1, 0]'),\n",
       " Text(244.59046663321624, 61.15499999999997, 'gini = 0.0\\nsamples = 4\\nvalue = [0, 4]'),\n",
       " Text(250.80602107375816, 224.235, 'X[53] <= 0.5\\ngini = 0.468\\nsamples = 83\\nvalue = [52, 31]'),\n",
       " Text(250.1340692423482, 183.46500000000003, 'X[0] <= 53.5\\ngini = 0.455\\nsamples = 80\\nvalue = [52, 28]'),\n",
       " Text(248.28620170597088, 142.695, 'X[0] <= 38.5\\ngini = 0.428\\nsamples = 71\\nvalue = [49, 22]'),\n",
       " Text(246.60632212744605, 101.92499999999995, 'X[0] <= 34.5\\ngini = 0.493\\nsamples = 34\\nvalue = [19, 15]'),\n",
       " Text(245.93437029603612, 61.15499999999997, 'X[48] <= 0.5\\ngini = 0.393\\nsamples = 26\\nvalue = [19, 7]'),\n",
       " Text(245.2624184646262, 20.38499999999999, 'gini = 0.0\\nsamples = 3\\nvalue = [0, 3]'),\n",
       " Text(246.60632212744605, 20.38499999999999, 'gini = 0.287\\nsamples = 23\\nvalue = [19, 4]'),\n",
       " Text(247.27827395885598, 61.15499999999997, 'gini = 0.0\\nsamples = 8\\nvalue = [0, 8]'),\n",
       " Text(249.96608128449571, 101.92499999999995, 'X[28] <= 0.5\\ngini = 0.307\\nsamples = 37\\nvalue = [30, 7]'),\n",
       " Text(248.62217762167586, 61.15499999999997, 'X[56] <= 0.5\\ngini = 0.095\\nsamples = 20\\nvalue = [19, 1]'),\n",
       " Text(247.95022579026593, 20.38499999999999, 'gini = 0.0\\nsamples = 18\\nvalue = [18, 0]'),\n",
       " Text(249.2941294530858, 20.38499999999999, 'gini = 0.5\\nsamples = 2\\nvalue = [1, 1]'),\n",
       " Text(251.3099849473156, 61.15499999999997, 'X[51] <= 0.5\\ngini = 0.457\\nsamples = 17\\nvalue = [11, 6]'),\n",
       " Text(250.63803311590567, 20.38499999999999, 'gini = 0.391\\nsamples = 15\\nvalue = [11, 4]'),\n",
       " Text(251.98193677872553, 20.38499999999999, 'gini = 0.0\\nsamples = 2\\nvalue = [0, 2]'),\n",
       " Text(251.98193677872553, 142.695, 'X[0] <= 69.5\\ngini = 0.444\\nsamples = 9\\nvalue = [3, 6]'),\n",
       " Text(251.3099849473156, 101.92499999999995, 'gini = 0.0\\nsamples = 6\\nvalue = [0, 6]'),\n",
       " Text(252.65388861013545, 101.92499999999995, 'gini = 0.0\\nsamples = 3\\nvalue = [3, 0]'),\n",
       " Text(251.4779729051681, 183.46500000000003, 'gini = 0.0\\nsamples = 3\\nvalue = [0, 3]'),\n",
       " Text(247.36226793778224, 265.005, 'gini = 0.0\\nsamples = 10\\nvalue = [10, 0]'),\n",
       " Text(259.3734069242348, 346.545, 'X[0] <= 32.5\\ngini = 0.448\\nsamples = 115\\nvalue = [76, 39]'),\n",
       " Text(256.01364776718515, 305.77500000000003, 'X[1] <= 401751.5\\ngini = 0.408\\nsamples = 28\\nvalue = [8, 20]'),\n",
       " Text(255.3416959357752, 265.005, 'X[78] <= 0.5\\ngini = 0.165\\nsamples = 22\\nvalue = [2, 20]'),\n",
       " Text(254.66974410436526, 224.235, 'X[1] <= 123148.5\\ngini = 0.091\\nsamples = 21\\nvalue = [1, 20]'),\n",
       " Text(253.99779227295534, 183.46500000000003, 'X[0] <= 28.5\\ngini = 0.375\\nsamples = 4\\nvalue = [1, 3]'),\n",
       " Text(253.3258404415454, 142.695, 'gini = 0.0\\nsamples = 1\\nvalue = [1, 0]'),\n",
       " Text(254.66974410436526, 142.695, 'gini = 0.0\\nsamples = 3\\nvalue = [0, 3]'),\n",
       " Text(255.3416959357752, 183.46500000000003, 'gini = 0.0\\nsamples = 17\\nvalue = [0, 17]'),\n",
       " Text(256.01364776718515, 224.235, 'gini = 0.0\\nsamples = 1\\nvalue = [1, 0]'),\n",
       " Text(256.68559959859505, 265.005, 'gini = 0.0\\nsamples = 6\\nvalue = [6, 0]'),\n",
       " Text(262.7331660812845, 305.77500000000003, 'X[0] <= 54.0\\ngini = 0.341\\nsamples = 87\\nvalue = [68, 19]'),\n",
       " Text(260.71731058705467, 265.005, 'X[1] <= 257163.5\\ngini = 0.263\\nsamples = 77\\nvalue = [65, 12]'),\n",
       " Text(258.70145509282486, 224.235, 'X[23] <= 0.5\\ngini = 0.187\\nsamples = 67\\nvalue = [60, 7]'),\n",
       " Text(256.68559959859505, 183.46500000000003, 'X[12] <= 0.5\\ngini = 0.044\\nsamples = 44\\nvalue = [43, 1]'),\n",
       " Text(256.01364776718515, 142.695, 'gini = 0.0\\nsamples = 39\\nvalue = [39, 0]'),\n",
       " Text(257.357551430005, 142.695, 'X[0] <= 44.5\\ngini = 0.32\\nsamples = 5\\nvalue = [4, 1]'),\n",
       " Text(256.68559959859505, 101.92499999999995, 'gini = 0.0\\nsamples = 1\\nvalue = [0, 1]'),\n",
       " Text(258.02950326141496, 101.92499999999995, 'gini = 0.0\\nsamples = 4\\nvalue = [4, 0]'),\n",
       " Text(260.71731058705467, 183.46500000000003, 'X[5] <= 62.0\\ngini = 0.386\\nsamples = 23\\nvalue = [17, 6]'),\n",
       " Text(260.04535875564477, 142.695, 'X[1] <= 87493.0\\ngini = 0.308\\nsamples = 21\\nvalue = [17, 4]'),\n",
       " Text(259.3734069242348, 101.92499999999995, 'gini = 0.0\\nsamples = 2\\nvalue = [0, 2]'),\n",
       " Text(260.71731058705467, 101.92499999999995, 'X[5] <= 47.5\\ngini = 0.188\\nsamples = 19\\nvalue = [17, 2]'),\n",
       " Text(260.04535875564477, 61.15499999999997, 'X[0] <= 36.0\\ngini = 0.48\\nsamples = 5\\nvalue = [3, 2]'),\n",
       " Text(259.3734069242348, 20.38499999999999, 'gini = 0.0\\nsamples = 3\\nvalue = [3, 0]'),\n",
       " Text(260.71731058705467, 20.38499999999999, 'gini = 0.0\\nsamples = 2\\nvalue = [0, 2]'),\n",
       " Text(261.3892624184646, 61.15499999999997, 'gini = 0.0\\nsamples = 14\\nvalue = [14, 0]'),\n",
       " Text(261.3892624184646, 142.695, 'gini = 0.0\\nsamples = 2\\nvalue = [0, 2]'),\n",
       " Text(262.7331660812845, 224.235, 'X[5] <= 55.0\\ngini = 0.5\\nsamples = 10\\nvalue = [5, 5]'),\n",
       " Text(262.0612142498746, 183.46500000000003, 'gini = 0.0\\nsamples = 4\\nvalue = [0, 4]'),\n",
       " Text(263.40511791269444, 183.46500000000003, 'X[95] <= 0.5\\ngini = 0.278\\nsamples = 6\\nvalue = [5, 1]'),\n",
       " Text(262.7331660812845, 142.695, 'gini = 0.0\\nsamples = 1\\nvalue = [0, 1]'),\n",
       " Text(264.07706974410434, 142.695, 'gini = 0.0\\nsamples = 5\\nvalue = [5, 0]'),\n",
       " Text(264.7490215755143, 265.005, 'X[5] <= 52.5\\ngini = 0.42\\nsamples = 10\\nvalue = [3, 7]'),\n",
       " Text(264.07706974410434, 224.235, 'gini = 0.0\\nsamples = 4\\nvalue = [0, 4]'),\n",
       " Text(265.42097340692425, 224.235, 'X[32] <= 0.5\\ngini = 0.5\\nsamples = 6\\nvalue = [3, 3]'),\n",
       " Text(264.7490215755143, 183.46500000000003, 'gini = 0.0\\nsamples = 2\\nvalue = [2, 0]'),\n",
       " Text(266.09292523833415, 183.46500000000003, 'X[9] <= 0.5\\ngini = 0.375\\nsamples = 4\\nvalue = [1, 3]'),\n",
       " Text(265.42097340692425, 142.695, 'gini = 0.0\\nsamples = 3\\nvalue = [0, 3]'),\n",
       " Text(266.7648770697441, 142.695, 'gini = 0.0\\nsamples = 1\\nvalue = [1, 0]'),\n",
       " Text(280.7918715504265, 387.31500000000005, 'X[0] <= 41.5\\ngini = 0.467\\nsamples = 231\\nvalue = [145, 86]'),\n",
       " Text(273.9883592574009, 346.545, 'X[1] <= 271850.0\\ngini = 0.5\\nsamples = 118\\nvalue = [59, 59]'),\n",
       " Text(271.13256397390865, 305.77500000000003, 'X[1] <= 118211.5\\ngini = 0.492\\nsamples = 103\\nvalue = [58, 45]'),\n",
       " Text(267.43682890115406, 265.005, 'X[9] <= 0.5\\ngini = 0.444\\nsamples = 24\\nvalue = [8, 16]'),\n",
       " Text(266.7648770697441, 224.235, 'gini = 0.0\\nsamples = 8\\nvalue = [0, 8]'),\n",
       " Text(268.10878073256396, 224.235, 'X[5] <= 49.0\\ngini = 0.5\\nsamples = 16\\nvalue = [8, 8]'),\n",
       " Text(267.43682890115406, 183.46500000000003, 'gini = 0.0\\nsamples = 5\\nvalue = [0, 5]'),\n",
       " Text(268.7807325639739, 183.46500000000003, 'X[1] <= 79722.5\\ngini = 0.397\\nsamples = 11\\nvalue = [8, 3]'),\n",
       " Text(268.10878073256396, 142.695, 'X[4] <= 795.0\\ngini = 0.198\\nsamples = 9\\nvalue = [8, 1]'),\n",
       " Text(267.43682890115406, 101.92499999999995, 'gini = 0.0\\nsamples = 8\\nvalue = [8, 0]'),\n",
       " Text(268.7807325639739, 101.92499999999995, 'gini = 0.0\\nsamples = 1\\nvalue = [0, 1]'),\n",
       " Text(269.4526843953838, 142.695, 'gini = 0.0\\nsamples = 2\\nvalue = [0, 2]'),\n",
       " Text(274.8282990466633, 265.005, 'X[50] <= 0.5\\ngini = 0.465\\nsamples = 79\\nvalue = [50, 29]'),\n",
       " Text(274.1563472152534, 224.235, 'X[1] <= 146510.5\\ngini = 0.455\\nsamples = 77\\nvalue = [50, 27]'),\n",
       " Text(271.4685398896136, 183.46500000000003, 'X[3] <= 3424.5\\ngini = 0.26\\nsamples = 13\\nvalue = [11, 2]'),\n",
       " Text(270.7965880582037, 142.695, 'X[56] <= 0.5\\ngini = 0.153\\nsamples = 12\\nvalue = [11, 1]'),\n",
       " Text(270.12463622679377, 101.92499999999995, 'gini = 0.0\\nsamples = 9\\nvalue = [9, 0]'),\n",
       " Text(271.4685398896136, 101.92499999999995, 'X[1] <= 131656.0\\ngini = 0.444\\nsamples = 3\\nvalue = [2, 1]'),\n",
       " Text(270.7965880582037, 61.15499999999997, 'gini = 0.0\\nsamples = 1\\nvalue = [0, 1]'),\n",
       " Text(272.1404917210236, 61.15499999999997, 'gini = 0.0\\nsamples = 2\\nvalue = [2, 0]'),\n",
       " Text(272.1404917210236, 142.695, 'gini = 0.0\\nsamples = 1\\nvalue = [0, 1]'),\n",
       " Text(276.8441545408931, 183.46500000000003, 'X[5] <= 65.0\\ngini = 0.476\\nsamples = 64\\nvalue = [39, 25]'),\n",
       " Text(276.1722027094832, 142.695, 'X[0] <= 37.5\\ngini = 0.461\\nsamples = 61\\nvalue = [39, 22]'),\n",
       " Text(274.1563472152534, 101.92499999999995, 'X[1] <= 159128.0\\ngini = 0.42\\nsamples = 50\\nvalue = [35, 15]'),\n",
       " Text(273.48439538384343, 61.15499999999997, 'gini = 0.0\\nsamples = 3\\nvalue = [0, 3]'),\n",
       " Text(274.8282990466633, 61.15499999999997, 'X[4] <= 1577.0\\ngini = 0.38\\nsamples = 47\\nvalue = [35, 12]'),\n",
       " Text(274.1563472152534, 20.38499999999999, 'gini = 0.346\\nsamples = 45\\nvalue = [35, 10]'),\n",
       " Text(275.50025087807325, 20.38499999999999, 'gini = 0.0\\nsamples = 2\\nvalue = [0, 2]'),\n",
       " Text(278.188058203713, 101.92499999999995, 'X[54] <= 0.5\\ngini = 0.463\\nsamples = 11\\nvalue = [4, 7]'),\n",
       " Text(277.51610637230306, 61.15499999999997, 'X[1] <= 159825.5\\ngini = 0.346\\nsamples = 9\\nvalue = [2, 7]'),\n",
       " Text(276.8441545408931, 20.38499999999999, 'gini = 0.0\\nsamples = 1\\nvalue = [1, 0]'),\n",
       " Text(278.188058203713, 20.38499999999999, 'gini = 0.219\\nsamples = 8\\nvalue = [1, 7]'),\n",
       " Text(278.8600100351229, 61.15499999999997, 'gini = 0.0\\nsamples = 2\\nvalue = [2, 0]'),\n",
       " Text(277.51610637230306, 142.695, 'gini = 0.0\\nsamples = 3\\nvalue = [0, 3]'),\n",
       " Text(275.50025087807325, 224.235, 'gini = 0.0\\nsamples = 2\\nvalue = [0, 2]'),\n",
       " Text(276.8441545408931, 305.77500000000003, 'X[1] <= 572687.5\\ngini = 0.124\\nsamples = 15\\nvalue = [1, 14]'),\n",
       " Text(276.1722027094832, 265.005, 'gini = 0.0\\nsamples = 14\\nvalue = [0, 14]'),\n",
       " Text(277.51610637230306, 265.005, 'gini = 0.0\\nsamples = 1\\nvalue = [1, 0]'),\n",
       " Text(287.59538384345205, 346.545, 'X[0] <= 58.5\\ngini = 0.364\\nsamples = 113\\nvalue = [86, 27]'),\n",
       " Text(286.2514801806322, 305.77500000000003, 'X[53] <= 0.5\\ngini = 0.327\\nsamples = 107\\nvalue = [85, 22]'),\n",
       " Text(285.57952834922224, 265.005, 'X[0] <= 48.5\\ngini = 0.299\\nsamples = 104\\nvalue = [85, 19]'),\n",
       " Text(282.2197691921726, 224.235, 'X[12] <= 0.5\\ngini = 0.423\\nsamples = 46\\nvalue = [32, 14]'),\n",
       " Text(281.5478173607627, 183.46500000000003, 'X[1] <= 214943.5\\ngini = 0.381\\nsamples = 43\\nvalue = [32, 11]'),\n",
       " Text(280.20391369794277, 142.695, 'X[5] <= 47.5\\ngini = 0.473\\nsamples = 26\\nvalue = [16, 10]'),\n",
       " Text(279.53196186653287, 101.92499999999995, 'gini = 0.0\\nsamples = 7\\nvalue = [0, 7]'),\n",
       " Text(280.8758655293527, 101.92499999999995, 'X[33] <= 0.5\\ngini = 0.266\\nsamples = 19\\nvalue = [16, 3]'),\n",
       " Text(280.20391369794277, 61.15499999999997, 'X[32] <= 0.5\\ngini = 0.198\\nsamples = 18\\nvalue = [16, 2]'),\n",
       " Text(279.53196186653287, 20.38499999999999, 'gini = 0.117\\nsamples = 16\\nvalue = [15, 1]'),\n",
       " Text(280.8758655293527, 20.38499999999999, 'gini = 0.5\\nsamples = 2\\nvalue = [1, 1]'),\n",
       " Text(281.5478173607627, 61.15499999999997, 'gini = 0.0\\nsamples = 1\\nvalue = [0, 1]'),\n",
       " Text(282.89172102358253, 142.695, 'X[0] <= 44.0\\ngini = 0.111\\nsamples = 17\\nvalue = [16, 1]'),\n",
       " Text(282.2197691921726, 101.92499999999995, 'gini = 0.0\\nsamples = 13\\nvalue = [13, 0]'),\n",
       " Text(283.5636728549925, 101.92499999999995, 'X[11] <= 0.5\\ngini = 0.375\\nsamples = 4\\nvalue = [3, 1]'),\n",
       " Text(282.89172102358253, 61.15499999999997, 'gini = 0.0\\nsamples = 3\\nvalue = [3, 0]'),\n",
       " Text(284.2356246864024, 61.15499999999997, 'gini = 0.0\\nsamples = 1\\nvalue = [0, 1]'),\n",
       " Text(282.89172102358253, 183.46500000000003, 'gini = 0.0\\nsamples = 3\\nvalue = [0, 3]'),\n",
       " Text(288.93928750627197, 224.235, 'X[1] <= 349278.5\\ngini = 0.158\\nsamples = 58\\nvalue = [53, 5]'),\n",
       " Text(288.267335674862, 183.46500000000003, 'X[52] <= 0.5\\ngini = 0.131\\nsamples = 57\\nvalue = [53, 4]'),\n",
       " Text(287.59538384345205, 142.695, 'X[5] <= 66.0\\ngini = 0.101\\nsamples = 56\\nvalue = [53, 3]'),\n",
       " Text(286.2514801806322, 101.92499999999995, 'X[6] <= 0.5\\ngini = 0.038\\nsamples = 51\\nvalue = [50, 1]'),\n",
       " Text(285.57952834922224, 61.15499999999997, 'gini = 0.0\\nsamples = 38\\nvalue = [38, 0]'),\n",
       " Text(286.92343201204216, 61.15499999999997, 'X[56] <= 0.5\\ngini = 0.142\\nsamples = 13\\nvalue = [12, 1]'),\n",
       " Text(286.2514801806322, 20.38499999999999, 'gini = 0.0\\nsamples = 10\\nvalue = [10, 0]'),\n",
       " Text(287.59538384345205, 20.38499999999999, 'gini = 0.444\\nsamples = 3\\nvalue = [2, 1]'),\n",
       " Text(288.93928750627197, 101.92499999999995, 'X[56] <= 0.5\\ngini = 0.48\\nsamples = 5\\nvalue = [3, 2]'),\n",
       " Text(288.267335674862, 61.15499999999997, 'gini = 0.0\\nsamples = 3\\nvalue = [3, 0]'),\n",
       " Text(289.61123933768187, 61.15499999999997, 'gini = 0.0\\nsamples = 2\\nvalue = [0, 2]'),\n",
       " Text(288.93928750627197, 142.695, 'gini = 0.0\\nsamples = 1\\nvalue = [0, 1]'),\n",
       " Text(289.61123933768187, 183.46500000000003, 'gini = 0.0\\nsamples = 1\\nvalue = [0, 1]'),\n",
       " Text(286.92343201204216, 265.005, 'gini = 0.0\\nsamples = 3\\nvalue = [0, 3]'),\n",
       " Text(288.93928750627197, 305.77500000000003, 'X[54] <= 0.5\\ngini = 0.278\\nsamples = 6\\nvalue = [1, 5]'),\n",
       " Text(288.267335674862, 265.005, 'gini = 0.0\\nsamples = 5\\nvalue = [0, 5]'),\n",
       " Text(289.61123933768187, 265.005, 'gini = 0.0\\nsamples = 1\\nvalue = [1, 0]'),\n",
       " Text(293.6429503261415, 550.395, 'X[0] <= 20.5\\ngini = 0.037\\nsamples = 533\\nvalue = [523, 10]'),\n",
       " Text(292.97099849473153, 509.625, 'gini = 0.0\\nsamples = 4\\nvalue = [0, 4]'),\n",
       " Text(294.31490215755144, 509.625, 'X[1] <= 25115.5\\ngini = 0.022\\nsamples = 529\\nvalue = [523, 6]'),\n",
       " Text(293.6429503261415, 468.855, 'gini = 0.0\\nsamples = 2\\nvalue = [0, 2]'),\n",
       " Text(294.98685398896134, 468.855, 'X[39] <= 0.5\\ngini = 0.015\\nsamples = 527\\nvalue = [523, 4]'),\n",
       " Text(294.31490215755144, 428.08500000000004, 'X[3] <= 8296.0\\ngini = 0.011\\nsamples = 526\\nvalue = [523, 3]'),\n",
       " Text(292.97099849473153, 387.31500000000005, 'X[34] <= 0.5\\ngini = 0.159\\nsamples = 23\\nvalue = [21, 2]'),\n",
       " Text(292.29904666332163, 346.545, 'X[0] <= 36.0\\ngini = 0.087\\nsamples = 22\\nvalue = [21, 1]'),\n",
       " Text(291.6270948319117, 305.77500000000003, 'X[56] <= 0.5\\ngini = 0.5\\nsamples = 2\\nvalue = [1, 1]'),\n",
       " Text(290.9551430005017, 265.005, 'gini = 0.0\\nsamples = 1\\nvalue = [1, 0]'),\n",
       " Text(292.29904666332163, 265.005, 'gini = 0.0\\nsamples = 1\\nvalue = [0, 1]'),\n",
       " Text(292.97099849473153, 305.77500000000003, 'gini = 0.0\\nsamples = 20\\nvalue = [20, 0]'),\n",
       " Text(293.6429503261415, 346.545, 'gini = 0.0\\nsamples = 1\\nvalue = [0, 1]'),\n",
       " Text(295.6588058203713, 387.31500000000005, 'X[5] <= 58.5\\ngini = 0.004\\nsamples = 503\\nvalue = [502, 1]'),\n",
       " Text(294.98685398896134, 346.545, 'gini = 0.0\\nsamples = 444\\nvalue = [444, 0]'),\n",
       " Text(296.3307576517812, 346.545, 'X[24] <= 0.5\\ngini = 0.033\\nsamples = 59\\nvalue = [58, 1]'),\n",
       " Text(295.6588058203713, 305.77500000000003, 'gini = 0.0\\nsamples = 58\\nvalue = [58, 0]'),\n",
       " Text(297.00270948319115, 305.77500000000003, 'gini = 0.0\\nsamples = 1\\nvalue = [0, 1]'),\n",
       " Text(295.6588058203713, 428.08500000000004, 'gini = 0.0\\nsamples = 1\\nvalue = [0, 1]'),\n",
       " Text(561.5957188048795, 591.1650000000001, 'X[2] <= 11.5\\ngini = 0.466\\nsamples = 15608\\nvalue = [9828, 5780]'),\n",
       " Text(471.88506373871047, 550.395, 'X[3] <= 5095.5\\ngini = 0.5\\nsamples = 9394\\nvalue = [4645, 4749]'),\n",
       " Text(388.73791473281483, 509.625, 'X[2] <= 8.5\\ngini = 0.496\\nsamples = 8688\\nvalue = [3945, 4743]'),\n",
       " Text(337.7712870045158, 468.855, 'X[4] <= 1791.5\\ngini = 0.31\\nsamples = 1252\\nvalue = [240, 1012]'),\n",
       " Text(321.5079528349222, 428.08500000000004, 'X[0] <= 36.5\\ngini = 0.288\\nsamples = 1209\\nvalue = [211, 998]'),\n",
       " Text(304.18419468138484, 387.31500000000005, 'X[48] <= 0.5\\ngini = 0.131\\nsamples = 356\\nvalue = [25, 331]'),\n",
       " Text(302.840291018565, 346.545, 'X[94] <= 0.5\\ngini = 0.117\\nsamples = 352\\nvalue = [22, 330]'),\n",
       " Text(302.168339187155, 305.77500000000003, 'X[46] <= 0.5\\ngini = 0.108\\nsamples = 350\\nvalue = [20, 330]'),\n",
       " Text(299.2705469141997, 265.005, 'X[2] <= 7.5\\ngini = 0.094\\nsamples = 345\\nvalue = [17, 328]'),\n",
       " Text(295.4908178625188, 224.235, 'X[1] <= 29417.5\\ngini = 0.051\\nsamples = 307\\nvalue = [8, 299]'),\n",
       " Text(294.8188660311089, 183.46500000000003, 'gini = 0.0\\nsamples = 1\\nvalue = [1, 0]'),\n",
       " Text(296.16276969392874, 183.46500000000003, 'X[5] <= 67.5\\ngini = 0.045\\nsamples = 306\\nvalue = [7, 299]'),\n",
       " Text(293.97892624184647, 142.695, 'X[5] <= 44.0\\ngini = 0.033\\nsamples = 297\\nvalue = [5, 292]'),\n",
       " Text(291.6270948319117, 101.92499999999995, 'X[13] <= 0.5\\ngini = 0.008\\nsamples = 237\\nvalue = [1, 236]'),\n",
       " Text(290.9551430005017, 61.15499999999997, 'gini = 0.0\\nsamples = 176\\nvalue = [0, 176]'),\n",
       " Text(292.29904666332163, 61.15499999999997, 'X[36] <= 0.5\\ngini = 0.032\\nsamples = 61\\nvalue = [1, 60]'),\n",
       " Text(291.6270948319117, 20.38499999999999, 'gini = 0.0\\nsamples = 44\\nvalue = [0, 44]'),\n",
       " Text(292.97099849473153, 20.38499999999999, 'gini = 0.111\\nsamples = 17\\nvalue = [1, 16]'),\n",
       " Text(296.3307576517812, 101.92499999999995, 'X[0] <= 35.5\\ngini = 0.124\\nsamples = 60\\nvalue = [4, 56]'),\n",
       " Text(294.98685398896134, 61.15499999999997, 'X[13] <= 0.5\\ngini = 0.07\\nsamples = 55\\nvalue = [2, 53]'),\n",
       " Text(294.31490215755144, 20.38499999999999, 'gini = 0.0\\nsamples = 43\\nvalue = [0, 43]'),\n",
       " Text(295.6588058203713, 20.38499999999999, 'gini = 0.278\\nsamples = 12\\nvalue = [2, 10]'),\n",
       " Text(297.6746613146011, 61.15499999999997, 'X[9] <= 0.5\\ngini = 0.48\\nsamples = 5\\nvalue = [2, 3]'),\n",
       " Text(297.00270948319115, 20.38499999999999, 'gini = 0.0\\nsamples = 2\\nvalue = [2, 0]'),\n",
       " Text(298.346613146011, 20.38499999999999, 'gini = 0.0\\nsamples = 3\\nvalue = [0, 3]'),\n",
       " Text(298.346613146011, 142.695, 'X[14] <= 0.5\\ngini = 0.346\\nsamples = 9\\nvalue = [2, 7]'),\n",
       " Text(297.6746613146011, 101.92499999999995, 'gini = 0.0\\nsamples = 7\\nvalue = [0, 7]'),\n",
       " Text(299.01856497742097, 101.92499999999995, 'gini = 0.0\\nsamples = 2\\nvalue = [2, 0]'),\n",
       " Text(303.0502759658806, 224.235, 'X[1] <= 401498.5\\ngini = 0.361\\nsamples = 38\\nvalue = [9, 29]'),\n",
       " Text(301.70637230306073, 183.46500000000003, 'X[1] <= 137516.0\\ngini = 0.219\\nsamples = 32\\nvalue = [4, 28]'),\n",
       " Text(301.0344204716508, 142.695, 'X[1] <= 132223.0\\ngini = 0.444\\nsamples = 12\\nvalue = [4, 8]'),\n",
       " Text(300.3624686402408, 101.92499999999995, 'gini = 0.0\\nsamples = 8\\nvalue = [0, 8]'),\n",
       " Text(301.70637230306073, 101.92499999999995, 'gini = 0.0\\nsamples = 4\\nvalue = [4, 0]'),\n",
       " Text(302.37832413447063, 142.695, 'gini = 0.0\\nsamples = 20\\nvalue = [0, 20]'),\n",
       " Text(304.39417962870044, 183.46500000000003, 'X[56] <= 0.5\\ngini = 0.278\\nsamples = 6\\nvalue = [5, 1]'),\n",
       " Text(303.7222277972905, 142.695, 'gini = 0.0\\nsamples = 5\\nvalue = [5, 0]'),\n",
       " Text(305.0661314601104, 142.695, 'gini = 0.0\\nsamples = 1\\nvalue = [0, 1]'),\n",
       " Text(305.0661314601104, 265.005, 'X[13] <= 0.5\\ngini = 0.48\\nsamples = 5\\nvalue = [3, 2]'),\n",
       " Text(304.39417962870044, 224.235, 'gini = 0.0\\nsamples = 2\\nvalue = [0, 2]'),\n",
       " Text(305.7380832915203, 224.235, 'gini = 0.0\\nsamples = 3\\nvalue = [3, 0]'),\n",
       " Text(303.5122428499749, 305.77500000000003, 'gini = 0.0\\nsamples = 2\\nvalue = [2, 0]'),\n",
       " Text(305.5280983442047, 346.545, 'X[9] <= 0.5\\ngini = 0.375\\nsamples = 4\\nvalue = [3, 1]'),\n",
       " Text(304.8561465127948, 305.77500000000003, 'gini = 0.0\\nsamples = 1\\nvalue = [0, 1]'),\n",
       " Text(306.20005017561465, 305.77500000000003, 'gini = 0.0\\nsamples = 3\\nvalue = [3, 0]'),\n",
       " Text(338.8317109884596, 387.31500000000005, 'X[0] <= 66.5\\ngini = 0.341\\nsamples = 853\\nvalue = [186, 667]'),\n",
       " Text(338.1597591570497, 346.545, 'X[5] <= 49.5\\ngini = 0.364\\nsamples = 776\\nvalue = [186, 590]'),\n",
       " Text(324.30075263421975, 305.77500000000003, 'X[2] <= 5.5\\ngini = 0.332\\nsamples = 624\\nvalue = [131, 493]'),\n",
       " Text(315.4813848469644, 265.005, 'X[10] <= 0.5\\ngini = 0.194\\nsamples = 304\\nvalue = [33, 271]'),\n",
       " Text(312.4576016056197, 224.235, 'X[96] <= 0.5\\ngini = 0.135\\nsamples = 288\\nvalue = [21, 267]'),\n",
       " Text(309.7697942799799, 183.46500000000003, 'X[19] <= 0.5\\ngini = 0.107\\nsamples = 282\\nvalue = [16, 266]'),\n",
       " Text(306.41003512293025, 142.695, 'X[37] <= 0.5\\ngini = 0.047\\nsamples = 207\\nvalue = [5, 202]'),\n",
       " Text(304.7301555444054, 101.92499999999995, 'X[1] <= 30871.0\\ngini = 0.038\\nsamples = 204\\nvalue = [4, 200]'),\n",
       " Text(303.38625188158557, 61.15499999999997, 'X[1] <= 30372.5\\ngini = 0.375\\nsamples = 4\\nvalue = [1, 3]'),\n",
       " Text(302.7143000501756, 20.38499999999999, 'gini = 0.0\\nsamples = 3\\nvalue = [0, 3]'),\n",
       " Text(304.05820371299546, 20.38499999999999, 'gini = 0.0\\nsamples = 1\\nvalue = [1, 0]'),\n",
       " Text(306.0740592072253, 61.15499999999997, 'X[1] <= 133661.0\\ngini = 0.03\\nsamples = 200\\nvalue = [3, 197]'),\n",
       " Text(305.4021073758153, 20.38499999999999, 'gini = 0.111\\nsamples = 51\\nvalue = [3, 48]'),\n",
       " Text(306.74601103863523, 20.38499999999999, 'gini = 0.0\\nsamples = 149\\nvalue = [0, 149]'),\n",
       " Text(308.0899147014551, 101.92499999999995, 'X[0] <= 59.5\\ngini = 0.444\\nsamples = 3\\nvalue = [1, 2]'),\n",
       " Text(307.41796287004513, 61.15499999999997, 'gini = 0.0\\nsamples = 1\\nvalue = [1, 0]'),\n",
       " Text(308.76186653286504, 61.15499999999997, 'gini = 0.0\\nsamples = 2\\nvalue = [0, 2]'),\n",
       " Text(313.1295534370296, 142.695, 'X[11] <= 0.5\\ngini = 0.25\\nsamples = 75\\nvalue = [11, 64]'),\n",
       " Text(311.44967385850475, 101.92499999999995, 'X[56] <= 0.5\\ngini = 0.163\\nsamples = 67\\nvalue = [6, 61]'),\n",
       " Text(310.1057701956849, 61.15499999999997, 'X[54] <= 0.5\\ngini = 0.068\\nsamples = 57\\nvalue = [2, 55]'),\n",
       " Text(309.43381836427494, 20.38499999999999, 'gini = 0.0\\nsamples = 47\\nvalue = [0, 47]'),\n",
       " Text(310.7777220270948, 20.38499999999999, 'gini = 0.32\\nsamples = 10\\nvalue = [2, 8]'),\n",
       " Text(312.7935775213246, 61.15499999999997, 'X[1] <= 177113.5\\ngini = 0.48\\nsamples = 10\\nvalue = [4, 6]'),\n",
       " Text(312.1216256899147, 20.38499999999999, 'gini = 0.0\\nsamples = 4\\nvalue = [0, 4]'),\n",
       " Text(313.46552935273456, 20.38499999999999, 'gini = 0.444\\nsamples = 6\\nvalue = [4, 2]'),\n",
       " Text(314.8094330155544, 101.92499999999995, 'X[5] <= 22.5\\ngini = 0.469\\nsamples = 8\\nvalue = [5, 3]'),\n",
       " Text(314.1374811841445, 61.15499999999997, 'gini = 0.0\\nsamples = 1\\nvalue = [0, 1]'),\n",
       " Text(315.4813848469644, 61.15499999999997, 'X[1] <= 139598.0\\ngini = 0.408\\nsamples = 7\\nvalue = [5, 2]'),\n",
       " Text(314.8094330155544, 20.38499999999999, 'gini = 0.0\\nsamples = 1\\nvalue = [0, 1]'),\n",
       " Text(316.1533366783743, 20.38499999999999, 'gini = 0.278\\nsamples = 6\\nvalue = [5, 1]'),\n",
       " Text(315.1454089312594, 183.46500000000003, 'X[40] <= 0.5\\ngini = 0.278\\nsamples = 6\\nvalue = [5, 1]'),\n",
       " Text(314.47345709984944, 142.695, 'gini = 0.0\\nsamples = 1\\nvalue = [0, 1]'),\n",
       " Text(315.81736076266935, 142.695, 'gini = 0.0\\nsamples = 5\\nvalue = [5, 0]'),\n",
       " Text(318.50516808830906, 224.235, 'X[2] <= 4.5\\ngini = 0.375\\nsamples = 16\\nvalue = [12, 4]'),\n",
       " Text(317.83321625689916, 183.46500000000003, 'X[38] <= 0.5\\ngini = 0.245\\nsamples = 14\\nvalue = [12, 2]'),\n",
       " Text(317.1612644254892, 142.695, 'X[5] <= 30.0\\ngini = 0.142\\nsamples = 13\\nvalue = [12, 1]'),\n",
       " Text(316.48931259407925, 101.92499999999995, 'gini = 0.0\\nsamples = 1\\nvalue = [0, 1]'),\n",
       " Text(317.83321625689916, 101.92499999999995, 'gini = 0.0\\nsamples = 12\\nvalue = [12, 0]'),\n",
       " Text(318.50516808830906, 142.695, 'gini = 0.0\\nsamples = 1\\nvalue = [0, 1]'),\n",
       " Text(319.177119919719, 183.46500000000003, 'gini = 0.0\\nsamples = 2\\nvalue = [0, 2]'),\n",
       " Text(333.1201204214752, 265.005, 'X[0] <= 52.5\\ngini = 0.425\\nsamples = 320\\nvalue = [98, 222]'),\n",
       " Text(328.24846964375314, 224.235, 'X[3] <= 2966.0\\ngini = 0.466\\nsamples = 189\\nvalue = [70, 119]'),\n",
       " Text(325.5606623181134, 183.46500000000003, 'X[37] <= 0.5\\ngini = 0.452\\nsamples = 177\\nvalue = [61, 116]'),\n",
       " Text(322.2009031610637, 142.695, 'X[0] <= 43.5\\ngini = 0.436\\nsamples = 168\\nvalue = [54, 114]'),\n",
       " Text(319.513095835424, 101.92499999999995, 'X[0] <= 41.5\\ngini = 0.336\\nsamples = 75\\nvalue = [16, 59]'),\n",
       " Text(318.1691921726041, 61.15499999999997, 'X[39] <= 0.5\\ngini = 0.425\\nsamples = 49\\nvalue = [15, 34]'),\n",
       " Text(317.4972403411942, 20.38499999999999, 'gini = 0.357\\nsamples = 43\\nvalue = [10, 33]'),\n",
       " Text(318.84114400401404, 20.38499999999999, 'gini = 0.278\\nsamples = 6\\nvalue = [5, 1]'),\n",
       " Text(320.85699949824385, 61.15499999999997, 'X[50] <= 0.5\\ngini = 0.074\\nsamples = 26\\nvalue = [1, 25]'),\n",
       " Text(320.1850476668339, 20.38499999999999, 'gini = 0.0\\nsamples = 25\\nvalue = [0, 25]'),\n",
       " Text(321.52895132965375, 20.38499999999999, 'gini = 0.0\\nsamples = 1\\nvalue = [1, 0]'),\n",
       " Text(324.8887104867035, 101.92499999999995, 'X[36] <= 0.5\\ngini = 0.483\\nsamples = 93\\nvalue = [38, 55]'),\n",
       " Text(323.54480682388356, 61.15499999999997, 'X[11] <= 0.5\\ngini = 0.499\\nsamples = 73\\nvalue = [35, 38]'),\n",
       " Text(322.87285499247366, 20.38499999999999, 'gini = 0.493\\nsamples = 68\\nvalue = [30, 38]'),\n",
       " Text(324.2167586552935, 20.38499999999999, 'gini = 0.0\\nsamples = 5\\nvalue = [5, 0]'),\n",
       " Text(326.23261414952333, 61.15499999999997, 'X[1] <= 38650.5\\ngini = 0.255\\nsamples = 20\\nvalue = [3, 17]'),\n",
       " Text(325.5606623181134, 20.38499999999999, 'gini = 0.5\\nsamples = 2\\nvalue = [1, 1]'),\n",
       " Text(326.9045659809333, 20.38499999999999, 'gini = 0.198\\nsamples = 18\\nvalue = [2, 16]'),\n",
       " Text(328.92042147516304, 142.695, 'X[10] <= 0.5\\ngini = 0.346\\nsamples = 9\\nvalue = [7, 2]'),\n",
       " Text(328.24846964375314, 101.92499999999995, 'X[0] <= 41.0\\ngini = 0.219\\nsamples = 8\\nvalue = [7, 1]'),\n",
       " Text(327.5765178123432, 61.15499999999997, 'gini = 0.0\\nsamples = 5\\nvalue = [5, 0]'),\n",
       " Text(328.92042147516304, 61.15499999999997, 'X[0] <= 45.0\\ngini = 0.444\\nsamples = 3\\nvalue = [2, 1]'),\n",
       " Text(328.24846964375314, 20.38499999999999, 'gini = 0.0\\nsamples = 1\\nvalue = [0, 1]'),\n",
       " Text(329.592373306573, 20.38499999999999, 'gini = 0.0\\nsamples = 2\\nvalue = [2, 0]'),\n",
       " Text(329.592373306573, 101.92499999999995, 'gini = 0.0\\nsamples = 1\\nvalue = [0, 1]'),\n",
       " Text(330.93627696939285, 183.46500000000003, 'X[3] <= 3522.5\\ngini = 0.375\\nsamples = 12\\nvalue = [9, 3]'),\n",
       " Text(330.26432513798295, 142.695, 'gini = 0.0\\nsamples = 9\\nvalue = [9, 0]'),\n",
       " Text(331.6082288008028, 142.695, 'gini = 0.0\\nsamples = 3\\nvalue = [0, 3]'),\n",
       " Text(337.99177119919716, 224.235, 'X[1] <= 122039.0\\ngini = 0.336\\nsamples = 131\\nvalue = [28, 103]'),\n",
       " Text(334.2960361264425, 183.46500000000003, 'X[1] <= 119805.0\\ngini = 0.487\\nsamples = 43\\nvalue = [18, 25]'),\n",
       " Text(333.6240842950326, 142.695, 'X[4] <= 742.5\\ngini = 0.46\\nsamples = 39\\nvalue = [14, 25]'),\n",
       " Text(332.95213246362266, 101.92499999999995, 'X[1] <= 38963.5\\ngini = 0.424\\nsamples = 36\\nvalue = [11, 25]'),\n",
       " Text(331.6082288008028, 61.15499999999997, 'X[13] <= 0.5\\ngini = 0.469\\nsamples = 8\\nvalue = [5, 3]'),\n",
       " Text(330.93627696939285, 20.38499999999999, 'gini = 0.0\\nsamples = 2\\nvalue = [0, 2]'),\n",
       " Text(332.28018063221276, 20.38499999999999, 'gini = 0.278\\nsamples = 6\\nvalue = [5, 1]'),\n",
       " Text(334.2960361264425, 61.15499999999997, 'X[53] <= 0.5\\ngini = 0.337\\nsamples = 28\\nvalue = [6, 22]'),\n",
       " Text(333.6240842950326, 20.38499999999999, 'gini = 0.26\\nsamples = 26\\nvalue = [4, 22]'),\n",
       " Text(334.9679879578525, 20.38499999999999, 'gini = 0.0\\nsamples = 2\\nvalue = [2, 0]'),\n",
       " Text(334.2960361264425, 101.92499999999995, 'gini = 0.0\\nsamples = 3\\nvalue = [3, 0]'),\n",
       " Text(334.9679879578525, 142.695, 'gini = 0.0\\nsamples = 4\\nvalue = [4, 0]'),\n",
       " Text(341.6875062719518, 183.46500000000003, 'X[54] <= 0.5\\ngini = 0.201\\nsamples = 88\\nvalue = [10, 78]'),\n",
       " Text(338.9996989463121, 142.695, 'X[1] <= 180409.5\\ngini = 0.102\\nsamples = 74\\nvalue = [4, 70]'),\n",
       " Text(337.65579528349224, 101.92499999999995, 'X[1] <= 180058.0\\ngini = 0.219\\nsamples = 24\\nvalue = [3, 21]'),\n",
       " Text(336.9838434520823, 61.15499999999997, 'X[36] <= 0.5\\ngini = 0.159\\nsamples = 23\\nvalue = [2, 21]'),\n",
       " Text(336.3118916206723, 20.38499999999999, 'gini = 0.0\\nsamples = 17\\nvalue = [0, 17]'),\n",
       " Text(337.65579528349224, 20.38499999999999, 'gini = 0.444\\nsamples = 6\\nvalue = [2, 4]'),\n",
       " Text(338.32774711490214, 61.15499999999997, 'gini = 0.0\\nsamples = 1\\nvalue = [1, 0]'),\n",
       " Text(340.34360260913195, 101.92499999999995, 'X[45] <= 0.5\\ngini = 0.039\\nsamples = 50\\nvalue = [1, 49]'),\n",
       " Text(339.671650777722, 61.15499999999997, 'gini = 0.0\\nsamples = 46\\nvalue = [0, 46]'),\n",
       " Text(341.0155544405419, 61.15499999999997, 'X[2] <= 7.5\\ngini = 0.375\\nsamples = 4\\nvalue = [1, 3]'),\n",
       " Text(340.34360260913195, 20.38499999999999, 'gini = 0.0\\nsamples = 3\\nvalue = [0, 3]'),\n",
       " Text(341.6875062719518, 20.38499999999999, 'gini = 0.0\\nsamples = 1\\nvalue = [1, 0]'),\n",
       " Text(344.37531359759157, 142.695, 'X[0] <= 58.0\\ngini = 0.49\\nsamples = 14\\nvalue = [6, 8]'),\n",
       " Text(343.0314099347717, 101.92499999999995, 'X[47] <= 0.5\\ngini = 0.219\\nsamples = 8\\nvalue = [1, 7]'),\n",
       " Text(342.35945810336176, 61.15499999999997, 'gini = 0.0\\nsamples = 1\\nvalue = [1, 0]'),\n",
       " Text(343.7033617661816, 61.15499999999997, 'gini = 0.0\\nsamples = 7\\nvalue = [0, 7]'),\n",
       " Text(345.7192172604114, 101.92499999999995, 'X[1] <= 196508.0\\ngini = 0.278\\nsamples = 6\\nvalue = [5, 1]'),\n",
       " Text(345.04726542900147, 61.15499999999997, 'gini = 0.0\\nsamples = 1\\nvalue = [0, 1]'),\n",
       " Text(346.3911690918214, 61.15499999999997, 'gini = 0.0\\nsamples = 5\\nvalue = [5, 0]'),\n",
       " Text(352.01876567987955, 305.77500000000003, 'X[1] <= 112843.5\\ngini = 0.462\\nsamples = 152\\nvalue = [55, 97]'),\n",
       " Text(348.4070245860512, 265.005, 'X[36] <= 0.5\\ngini = 0.188\\nsamples = 38\\nvalue = [4, 34]'),\n",
       " Text(347.0631209232313, 224.235, 'X[0] <= 37.5\\ngini = 0.057\\nsamples = 34\\nvalue = [1, 33]'),\n",
       " Text(346.3911690918214, 183.46500000000003, 'X[11] <= 0.5\\ngini = 0.444\\nsamples = 3\\nvalue = [1, 2]'),\n",
       " Text(345.7192172604114, 142.695, 'gini = 0.0\\nsamples = 2\\nvalue = [0, 2]'),\n",
       " Text(347.0631209232313, 142.695, 'gini = 0.0\\nsamples = 1\\nvalue = [1, 0]'),\n",
       " Text(347.73507275464124, 183.46500000000003, 'gini = 0.0\\nsamples = 31\\nvalue = [0, 31]'),\n",
       " Text(349.75092824887105, 224.235, 'X[5] <= 52.5\\ngini = 0.375\\nsamples = 4\\nvalue = [3, 1]'),\n",
       " Text(349.0789764174611, 183.46500000000003, 'gini = 0.0\\nsamples = 3\\nvalue = [3, 0]'),\n",
       " Text(350.42288008028095, 183.46500000000003, 'gini = 0.0\\nsamples = 1\\nvalue = [0, 1]'),\n",
       " Text(355.63050677370796, 265.005, 'X[0] <= 62.5\\ngini = 0.494\\nsamples = 114\\nvalue = [51, 63]'),\n",
       " Text(354.958554942298, 224.235, 'X[1] <= 334857.5\\ngini = 0.478\\nsamples = 104\\nvalue = [41, 63]'),\n",
       " Text(351.76678374310086, 183.46500000000003, 'X[1] <= 186955.0\\ngini = 0.43\\nsamples = 83\\nvalue = [26, 57]'),\n",
       " Text(349.41495233316607, 142.695, 'X[1] <= 119758.5\\ngini = 0.499\\nsamples = 44\\nvalue = [21, 23]'),\n",
       " Text(348.7430005017561, 101.92499999999995, 'gini = 0.0\\nsamples = 5\\nvalue = [5, 0]'),\n",
       " Text(350.086904164576, 101.92499999999995, 'X[0] <= 53.5\\ngini = 0.484\\nsamples = 39\\nvalue = [16, 23]'),\n",
       " Text(349.41495233316607, 61.15499999999997, 'X[1] <= 173863.5\\ngini = 0.499\\nsamples = 31\\nvalue = [16, 15]'),\n",
       " Text(348.7430005017561, 20.38499999999999, 'gini = 0.472\\nsamples = 21\\nvalue = [8, 13]'),\n",
       " Text(350.086904164576, 20.38499999999999, 'gini = 0.32\\nsamples = 10\\nvalue = [8, 2]'),\n",
       " Text(350.7588559959859, 61.15499999999997, 'gini = 0.0\\nsamples = 8\\nvalue = [0, 8]'),\n",
       " Text(354.1186151530356, 142.695, 'X[37] <= 0.5\\ngini = 0.224\\nsamples = 39\\nvalue = [5, 34]'),\n",
       " Text(352.77471149021574, 101.92499999999995, 'X[19] <= 0.5\\ngini = 0.114\\nsamples = 33\\nvalue = [2, 31]'),\n",
       " Text(352.10275965880584, 61.15499999999997, 'gini = 0.0\\nsamples = 28\\nvalue = [0, 28]'),\n",
       " Text(353.4466633216257, 61.15499999999997, 'X[0] <= 49.0\\ngini = 0.48\\nsamples = 5\\nvalue = [2, 3]'),\n",
       " Text(352.77471149021574, 20.38499999999999, 'gini = 0.0\\nsamples = 3\\nvalue = [0, 3]'),\n",
       " Text(354.1186151530356, 20.38499999999999, 'gini = 0.0\\nsamples = 2\\nvalue = [2, 0]'),\n",
       " Text(355.4625188158555, 101.92499999999995, 'X[0] <= 46.5\\ngini = 0.5\\nsamples = 6\\nvalue = [3, 3]'),\n",
       " Text(354.79056698444555, 61.15499999999997, 'gini = 0.0\\nsamples = 3\\nvalue = [3, 0]'),\n",
       " Text(356.1344706472654, 61.15499999999997, 'gini = 0.0\\nsamples = 3\\nvalue = [0, 3]'),\n",
       " Text(358.1503261414952, 183.46500000000003, 'X[95] <= 0.5\\ngini = 0.408\\nsamples = 21\\nvalue = [15, 6]'),\n",
       " Text(357.4783743100853, 142.695, 'gini = 0.0\\nsamples = 4\\nvalue = [0, 4]'),\n",
       " Text(358.82227797290517, 142.695, 'X[5] <= 67.5\\ngini = 0.208\\nsamples = 17\\nvalue = [15, 2]'),\n",
       " Text(358.1503261414952, 101.92499999999995, 'X[15] <= 0.5\\ngini = 0.117\\nsamples = 16\\nvalue = [15, 1]'),\n",
       " ...]"
      ]
     },
     "execution_count": 133,
     "metadata": {},
     "output_type": "execute_result"
    },
    {
     "data": {
      "image/png": "[encoded data removed]",
      "text/plain": [
       "<Figure size 864x864 with 1 Axes>"
      ]
     },
     "metadata": {
      "needs_background": "light"
     },
     "output_type": "display_data"
    }
   ],
   "source": [
    "fig, ax = plt.subplots(figsize=(12, 12))\n",
    "tree.plot_tree(model_treeMAX)"
   ]
  },
  {
   "cell_type": "code",
   "execution_count": 134,
   "metadata": {},
   "outputs": [
    {
     "name": "stdout",
     "output_type": "stream",
     "text": [
      "Sensitivity:  0.8714962762356128\n",
      "Specificity:  0.7197986577181208\n",
      "Precision:  0.9059684684684685\n",
      "Accuracy:  0.8344764049544477\n"
     ]
    }
   ],
   "source": [
    "confusion_matrix_TreeMAX_Oversample = pd.crosstab(testy, model_treeMAX.predict(testX))\n",
    "Sensitivity_TreeMAX_Oversample, Specificity_TreeMAX_Oversample, Precision_TreeMAX_Oversample, Accuracy_TreeMAX_Oversample = calculate_four_metrics(confusion_matrix_TreeMAX_Oversample)\n",
    "print(\"Sensitivity: \", Sensitivity_TreeMAX_Oversample)\n",
    "print(\"Specificity: \", Specificity_TreeMAX_Oversample)\n",
    "print(\"Precision: \", Precision_TreeMAX_Oversample)\n",
    "print(\"Accuracy: \", Accuracy_TreeMAX_Oversample)"
   ]
  },
  {
   "cell_type": "code",
   "execution_count": null,
   "metadata": {},
   "outputs": [],
   "source": []
  },
  {
   "cell_type": "markdown",
   "metadata": {},
   "source": [
    "### Random Forest with Oversampled training data"
   ]
  },
  {
   "cell_type": "code",
   "execution_count": 135,
   "metadata": {},
   "outputs": [],
   "source": [
    "max_depths = range(10, 30)\n",
    "results = np.array([])\n",
    "for max_depth in max_depths:\n",
    "    rf = ensemble.RandomForestClassifier(max_depth=max_depth, n_estimators=100, random_state=43)\n",
    "    results = np.append(results, \n",
    "                        np.mean(model_selection.cross_val_score(rf, trainX1, trainy1, scoring='recall')))"
   ]
  },
  {
   "cell_type": "code",
   "execution_count": 136,
   "metadata": {},
   "outputs": [
    {
     "data": {
      "text/plain": [
       "array([0.86241708, 0.86610903, 0.87124315, 0.87112778, 0.87164696,\n",
       "       0.87545428, 0.87545428, 0.88099221, 0.8788578 , 0.88093453,\n",
       "       0.88295356, 0.88312662, 0.88543409, 0.88704932, 0.88768388,\n",
       "       0.89045284, 0.89224113, 0.89270262, 0.8954139 , 0.89604846])"
      ]
     },
     "execution_count": 136,
     "metadata": {},
     "output_type": "execute_result"
    }
   ],
   "source": [
    "results"
   ]
  },
  {
   "cell_type": "code",
   "execution_count": 137,
   "metadata": {},
   "outputs": [],
   "source": [
    "min_leaves = range(2,20)\n",
    "results1 = np.array([])\n",
    "for min_leaf in min_leaves:\n",
    "    rf = ensemble.RandomForestClassifier(min_samples_leaf=min_leaf, n_estimators=100, random_state=43)\n",
    "    results1 = np.append(results1, \n",
    "                        np.mean(model_selection.cross_val_score(rf, trainX1, trainy1, scoring='recall')))"
   ]
  },
  {
   "cell_type": "code",
   "execution_count": 138,
   "metadata": {},
   "outputs": [
    {
     "data": {
      "text/plain": [
       "array([0.88970291, 0.87995385, 0.87631958, 0.87274301, 0.87158927,\n",
       "       0.87043554, 0.86824344, 0.86899337, 0.86691664, 0.86933949,\n",
       "       0.86772426, 0.86582059, 0.86726276, 0.86714739, 0.86893568,\n",
       "       0.86957023, 0.86772426, 0.86737814])"
      ]
     },
     "execution_count": 138,
     "metadata": {},
     "output_type": "execute_result"
    }
   ],
   "source": [
    "results1"
   ]
  },
  {
   "cell_type": "markdown",
   "metadata": {},
   "source": [
    "### Random Forest with Max depths is better than min samples"
   ]
  },
  {
   "cell_type": "code",
   "execution_count": 139,
   "metadata": {},
   "outputs": [
    {
     "data": {
      "text/plain": [
       "RandomForestClassifier(bootstrap=True, ccp_alpha=0.0, class_weight=None,\n",
       "                       criterion='gini', max_depth=29, max_features='auto',\n",
       "                       max_leaf_nodes=None, max_samples=None,\n",
       "                       min_impurity_decrease=0.0, min_impurity_split=None,\n",
       "                       min_samples_leaf=1, min_samples_split=2,\n",
       "                       min_weight_fraction_leaf=0.0, n_estimators=100,\n",
       "                       n_jobs=None, oob_score=False, random_state=43, verbose=0,\n",
       "                       warm_start=False)"
      ]
     },
     "execution_count": 139,
     "metadata": {},
     "output_type": "execute_result"
    }
   ],
   "source": [
    "rf = ensemble.RandomForestClassifier(max_depth=max_depths[np.argmax(results)], n_estimators=100, random_state=43)\n",
    "rf.fit(trainX1, trainy1)\n"
   ]
  },
  {
   "cell_type": "code",
   "execution_count": 140,
   "metadata": {},
   "outputs": [
    {
     "name": "stdout",
     "output_type": "stream",
     "text": [
      "Sensitivity:  0.8991198375084631\n",
      "Specificity:  0.6996644295302014\n",
      "Precision:  0.9026644915715063\n",
      "Accuracy:  0.8504452861091207\n"
     ]
    }
   ],
   "source": [
    "confusion_matrix_RF_Oversample = pd.crosstab(testy, rf.predict(testX))\n",
    "Sensitivity_RF_Oversample, Specificity_RF_Oversample, Precision_RF_Oversample, Accuracy_RF_Oversample = calculate_four_metrics(confusion_matrix_RF_Oversample)\n",
    "print(\"Sensitivity: \", Sensitivity_RF_Oversample)\n",
    "print(\"Specificity: \", Specificity_RF_Oversample)\n",
    "print(\"Precision: \", Precision_RF_Oversample)\n",
    "print(\"Accuracy: \", Accuracy_RF_Oversample)"
   ]
  },
  {
   "cell_type": "code",
   "execution_count": null,
   "metadata": {},
   "outputs": [],
   "source": []
  },
  {
   "cell_type": "code",
   "execution_count": null,
   "metadata": {},
   "outputs": [],
   "source": []
  },
  {
   "cell_type": "code",
   "execution_count": 141,
   "metadata": {},
   "outputs": [],
   "source": [
    "#"
   ]
  },
  {
   "cell_type": "markdown",
   "metadata": {},
   "source": [
    "### Results without Oversampling"
   ]
  },
  {
   "cell_type": "code",
   "execution_count": 142,
   "metadata": {},
   "outputs": [
    {
     "data": {
      "text/html": [
       "<style  type=\"text/css\" >\n",
       "    #T_e0614b14_dfc9_11ea_9af5_acde48001122row0_col0 {\n",
       "            background-color:  #e1dfed;\n",
       "            color:  #000000;\n",
       "        }    #T_e0614b14_dfc9_11ea_9af5_acde48001122row0_col1 {\n",
       "            background-color:  #0f76b3;\n",
       "            color:  #f1f1f1;\n",
       "        }    #T_e0614b14_dfc9_11ea_9af5_acde48001122row0_col2 {\n",
       "            background-color:  #1c7fb8;\n",
       "            color:  #000000;\n",
       "        }    #T_e0614b14_dfc9_11ea_9af5_acde48001122row0_col3 {\n",
       "            background-color:  #fff7fb;\n",
       "            color:  #000000;\n",
       "        }    #T_e0614b14_dfc9_11ea_9af5_acde48001122row1_col0 {\n",
       "            background-color:  #fff7fb;\n",
       "            color:  #000000;\n",
       "        }    #T_e0614b14_dfc9_11ea_9af5_acde48001122row1_col1 {\n",
       "            background-color:  #023858;\n",
       "            color:  #f1f1f1;\n",
       "        }    #T_e0614b14_dfc9_11ea_9af5_acde48001122row1_col2 {\n",
       "            background-color:  #023858;\n",
       "            color:  #f1f1f1;\n",
       "        }    #T_e0614b14_dfc9_11ea_9af5_acde48001122row1_col3 {\n",
       "            background-color:  #e4e1ef;\n",
       "            color:  #000000;\n",
       "        }    #T_e0614b14_dfc9_11ea_9af5_acde48001122row2_col0 {\n",
       "            background-color:  #75a9cf;\n",
       "            color:  #000000;\n",
       "        }    #T_e0614b14_dfc9_11ea_9af5_acde48001122row2_col1 {\n",
       "            background-color:  #4e9ac6;\n",
       "            color:  #000000;\n",
       "        }    #T_e0614b14_dfc9_11ea_9af5_acde48001122row2_col2 {\n",
       "            background-color:  #4c99c5;\n",
       "            color:  #000000;\n",
       "        }    #T_e0614b14_dfc9_11ea_9af5_acde48001122row2_col3 {\n",
       "            background-color:  #e4e1ef;\n",
       "            color:  #000000;\n",
       "        }    #T_e0614b14_dfc9_11ea_9af5_acde48001122row3_col0 {\n",
       "            background-color:  #023858;\n",
       "            color:  #f1f1f1;\n",
       "        }    #T_e0614b14_dfc9_11ea_9af5_acde48001122row3_col1 {\n",
       "            background-color:  #fff7fb;\n",
       "            color:  #000000;\n",
       "        }    #T_e0614b14_dfc9_11ea_9af5_acde48001122row3_col2 {\n",
       "            background-color:  #fff7fb;\n",
       "            color:  #000000;\n",
       "        }    #T_e0614b14_dfc9_11ea_9af5_acde48001122row3_col3 {\n",
       "            background-color:  #023858;\n",
       "            color:  #f1f1f1;\n",
       "        }</style><table id=\"T_e0614b14_dfc9_11ea_9af5_acde48001122\" ><thead>    <tr>        <th class=\"blank level0\" ></th>        <th class=\"col_heading level0 col0\" >Sensitivity</th>        <th class=\"col_heading level0 col1\" >Specificity</th>        <th class=\"col_heading level0 col2\" >Precision</th>        <th class=\"col_heading level0 col3\" >Accuracy</th>    </tr></thead><tbody>\n",
       "                <tr>\n",
       "                        <th id=\"T_e0614b14_dfc9_11ea_9af5_acde48001122level0_row0\" class=\"row_heading level0 row0\" >Lasso</th>\n",
       "                        <td id=\"T_e0614b14_dfc9_11ea_9af5_acde48001122row0_col0\" class=\"data row0 col0\" >0.931483</td>\n",
       "                        <td id=\"T_e0614b14_dfc9_11ea_9af5_acde48001122row0_col1\" class=\"data row0 col1\" >0.583473</td>\n",
       "                        <td id=\"T_e0614b14_dfc9_11ea_9af5_acde48001122row0_col2\" class=\"data row0 col2\" >0.873857</td>\n",
       "                        <td id=\"T_e0614b14_dfc9_11ea_9af5_acde48001122row0_col3\" class=\"data row0 col3\" >0.846555</td>\n",
       "            </tr>\n",
       "            <tr>\n",
       "                        <th id=\"T_e0614b14_dfc9_11ea_9af5_acde48001122level0_row1\" class=\"row_heading level0 row1\" >DT Min Samples</th>\n",
       "                        <td id=\"T_e0614b14_dfc9_11ea_9af5_acde48001122row1_col0\" class=\"data row1 col0\" >0.925931</td>\n",
       "                        <td id=\"T_e0614b14_dfc9_11ea_9af5_acde48001122row1_col1\" class=\"data row1 col1\" >0.604866</td>\n",
       "                        <td id=\"T_e0614b14_dfc9_11ea_9af5_acde48001122row1_col2\" class=\"data row1 col2\" >0.878920</td>\n",
       "                        <td id=\"T_e0614b14_dfc9_11ea_9af5_acde48001122row1_col3\" class=\"data row1 col3\" >0.847579</td>\n",
       "            </tr>\n",
       "            <tr>\n",
       "                        <th id=\"T_e0614b14_dfc9_11ea_9af5_acde48001122level0_row2\" class=\"row_heading level0 row2\" >DT Max Depth</th>\n",
       "                        <td id=\"T_e0614b14_dfc9_11ea_9af5_acde48001122row2_col0\" class=\"data row2 col0\" >0.941774</td>\n",
       "                        <td id=\"T_e0614b14_dfc9_11ea_9af5_acde48001122row2_col1\" class=\"data row2 col1\" >0.572148</td>\n",
       "                        <td id=\"T_e0614b14_dfc9_11ea_9af5_acde48001122row2_col2\" class=\"data row2 col2\" >0.872100</td>\n",
       "                        <td id=\"T_e0614b14_dfc9_11ea_9af5_acde48001122row2_col3\" class=\"data row2 col3\" >0.847579</td>\n",
       "            </tr>\n",
       "            <tr>\n",
       "                        <th id=\"T_e0614b14_dfc9_11ea_9af5_acde48001122level0_row3\" class=\"row_heading level0 row3\" >RandomForest</th>\n",
       "                        <td id=\"T_e0614b14_dfc9_11ea_9af5_acde48001122row3_col0\" class=\"data row3 col0\" >0.957752</td>\n",
       "                        <td id=\"T_e0614b14_dfc9_11ea_9af5_acde48001122row3_col1\" class=\"data row3 col1\" >0.527685</td>\n",
       "                        <td id=\"T_e0614b14_dfc9_11ea_9af5_acde48001122row3_col2\" class=\"data row3 col2\" >0.862666</td>\n",
       "                        <td id=\"T_e0614b14_dfc9_11ea_9af5_acde48001122row3_col3\" class=\"data row3 col3\" >0.852800</td>\n",
       "            </tr>\n",
       "    </tbody></table>"
      ],
      "text/plain": [
       "<pandas.io.formats.style.Styler at 0x7ffd15cef0d0>"
      ]
     },
     "execution_count": 142,
     "metadata": {},
     "output_type": "execute_result"
    }
   ],
   "source": [
    "result_df1 = pd.DataFrame({'Sensitivity': [Sensitivity_Lasso, Sensitivity_TreeMIN, Sensitivity_TreeMAX, Sensitivity_RF],\n",
    "                          'Specificity': [Specificity_Lasso, Specificity_TreeMIN, Specificity_TreeMAX, Specificity_RF],\n",
    "                          'Precision': [Precision_Lasso, Precision_TreeMIN, Precision_TreeMAX, Precision_RF],\n",
    "                          'Accuracy': [Accuracy_Lasso, Accuracy_TreeMIN, Accuracy_TreeMIN, Accuracy_RF]})\n",
    "result_df1.index = ['Lasso', 'DT Min Samples', 'DT Max Depth', 'RandomForest']\n",
    "result_df1.style.background_gradient()"
   ]
  },
  {
   "cell_type": "markdown",
   "metadata": {},
   "source": [
    "### Results with Oversampling "
   ]
  },
  {
   "cell_type": "code",
   "execution_count": 143,
   "metadata": {},
   "outputs": [
    {
     "data": {
      "text/html": [
       "<style  type=\"text/css\" >\n",
       "    #T_e1d503a0_dfc9_11ea_9af5_acde48001122row0_col0 {\n",
       "            background-color:  #fff7fb;\n",
       "            color:  #000000;\n",
       "        }    #T_e1d503a0_dfc9_11ea_9af5_acde48001122row0_col1 {\n",
       "            background-color:  #023858;\n",
       "            color:  #f1f1f1;\n",
       "        }    #T_e1d503a0_dfc9_11ea_9af5_acde48001122row0_col2 {\n",
       "            background-color:  #023858;\n",
       "            color:  #f1f1f1;\n",
       "        }    #T_e1d503a0_dfc9_11ea_9af5_acde48001122row0_col3 {\n",
       "            background-color:  #d9d8ea;\n",
       "            color:  #000000;\n",
       "        }    #T_e1d503a0_dfc9_11ea_9af5_acde48001122row1_col0 {\n",
       "            background-color:  #faf2f8;\n",
       "            color:  #000000;\n",
       "        }    #T_e1d503a0_dfc9_11ea_9af5_acde48001122row1_col1 {\n",
       "            background-color:  #529bc7;\n",
       "            color:  #000000;\n",
       "        }    #T_e1d503a0_dfc9_11ea_9af5_acde48001122row1_col2 {\n",
       "            background-color:  #8fb4d6;\n",
       "            color:  #000000;\n",
       "        }    #T_e1d503a0_dfc9_11ea_9af5_acde48001122row1_col3 {\n",
       "            background-color:  #fff7fb;\n",
       "            color:  #000000;\n",
       "        }    #T_e1d503a0_dfc9_11ea_9af5_acde48001122row2_col0 {\n",
       "            background-color:  #9ebad9;\n",
       "            color:  #000000;\n",
       "        }    #T_e1d503a0_dfc9_11ea_9af5_acde48001122row2_col1 {\n",
       "            background-color:  #b5c4df;\n",
       "            color:  #000000;\n",
       "        }    #T_e1d503a0_dfc9_11ea_9af5_acde48001122row2_col2 {\n",
       "            background-color:  #d5d5e8;\n",
       "            color:  #000000;\n",
       "        }    #T_e1d503a0_dfc9_11ea_9af5_acde48001122row2_col3 {\n",
       "            background-color:  #fff7fb;\n",
       "            color:  #000000;\n",
       "        }    #T_e1d503a0_dfc9_11ea_9af5_acde48001122row3_col0 {\n",
       "            background-color:  #023858;\n",
       "            color:  #f1f1f1;\n",
       "        }    #T_e1d503a0_dfc9_11ea_9af5_acde48001122row3_col1 {\n",
       "            background-color:  #fff7fb;\n",
       "            color:  #000000;\n",
       "        }    #T_e1d503a0_dfc9_11ea_9af5_acde48001122row3_col2 {\n",
       "            background-color:  #fff7fb;\n",
       "            color:  #000000;\n",
       "        }    #T_e1d503a0_dfc9_11ea_9af5_acde48001122row3_col3 {\n",
       "            background-color:  #023858;\n",
       "            color:  #f1f1f1;\n",
       "        }</style><table id=\"T_e1d503a0_dfc9_11ea_9af5_acde48001122\" ><thead>    <tr>        <th class=\"blank level0\" ></th>        <th class=\"col_heading level0 col0\" >Sensitivity</th>        <th class=\"col_heading level0 col1\" >Specificity</th>        <th class=\"col_heading level0 col2\" >Precision</th>        <th class=\"col_heading level0 col3\" >Accuracy</th>    </tr></thead><tbody>\n",
       "                <tr>\n",
       "                        <th id=\"T_e1d503a0_dfc9_11ea_9af5_acde48001122level0_row0\" class=\"row_heading level0 row0\" >Lasso w/ oversampling</th>\n",
       "                        <td id=\"T_e1d503a0_dfc9_11ea_9af5_acde48001122row0_col0\" class=\"data row0 col0\" >0.853216</td>\n",
       "                        <td id=\"T_e1d503a0_dfc9_11ea_9af5_acde48001122row0_col1\" class=\"data row0 col1\" >0.760906</td>\n",
       "                        <td id=\"T_e1d503a0_dfc9_11ea_9af5_acde48001122row0_col2\" class=\"data row0 col2\" >0.917043</td>\n",
       "                        <td id=\"T_e1d503a0_dfc9_11ea_9af5_acde48001122row0_col3\" class=\"data row0 col3\" >0.830689</td>\n",
       "            </tr>\n",
       "            <tr>\n",
       "                        <th id=\"T_e1d503a0_dfc9_11ea_9af5_acde48001122level0_row1\" class=\"row_heading level0 row1\" >DT Min Samples w/ oversampling</th>\n",
       "                        <td id=\"T_e1d503a0_dfc9_11ea_9af5_acde48001122row1_col0\" class=\"data row1 col0\" >0.854841</td>\n",
       "                        <td id=\"T_e1d503a0_dfc9_11ea_9af5_acde48001122row1_col1\" class=\"data row1 col1\" >0.734480</td>\n",
       "                        <td id=\"T_e1d503a0_dfc9_11ea_9af5_acde48001122row1_col2\" class=\"data row1 col2\" >0.908868</td>\n",
       "                        <td id=\"T_e1d503a0_dfc9_11ea_9af5_acde48001122row1_col3\" class=\"data row1 col3\" >0.825468</td>\n",
       "            </tr>\n",
       "            <tr>\n",
       "                        <th id=\"T_e1d503a0_dfc9_11ea_9af5_acde48001122level0_row2\" class=\"row_heading level0 row2\" >DT Max Depth w/ oversampling</th>\n",
       "                        <td id=\"T_e1d503a0_dfc9_11ea_9af5_acde48001122row2_col0\" class=\"data row2 col0\" >0.871496</td>\n",
       "                        <td id=\"T_e1d503a0_dfc9_11ea_9af5_acde48001122row2_col1\" class=\"data row2 col1\" >0.719799</td>\n",
       "                        <td id=\"T_e1d503a0_dfc9_11ea_9af5_acde48001122row2_col2\" class=\"data row2 col2\" >0.905968</td>\n",
       "                        <td id=\"T_e1d503a0_dfc9_11ea_9af5_acde48001122row2_col3\" class=\"data row2 col3\" >0.825468</td>\n",
       "            </tr>\n",
       "            <tr>\n",
       "                        <th id=\"T_e1d503a0_dfc9_11ea_9af5_acde48001122level0_row3\" class=\"row_heading level0 row3\" >RandomForest w/ oversampling</th>\n",
       "                        <td id=\"T_e1d503a0_dfc9_11ea_9af5_acde48001122row3_col0\" class=\"data row3 col0\" >0.899120</td>\n",
       "                        <td id=\"T_e1d503a0_dfc9_11ea_9af5_acde48001122row3_col1\" class=\"data row3 col1\" >0.699664</td>\n",
       "                        <td id=\"T_e1d503a0_dfc9_11ea_9af5_acde48001122row3_col2\" class=\"data row3 col2\" >0.902664</td>\n",
       "                        <td id=\"T_e1d503a0_dfc9_11ea_9af5_acde48001122row3_col3\" class=\"data row3 col3\" >0.850445</td>\n",
       "            </tr>\n",
       "    </tbody></table>"
      ],
      "text/plain": [
       "<pandas.io.formats.style.Styler at 0x7ffd14af16d0>"
      ]
     },
     "execution_count": 143,
     "metadata": {},
     "output_type": "execute_result"
    }
   ],
   "source": [
    "result_df2 = pd.DataFrame({'Sensitivity': [Sensitivity_Lasso_Oversample, Sensitivity_TreeMIN_Oversample, Sensitivity_TreeMAX_Oversample, Sensitivity_RF_Oversample],\n",
    "                          'Specificity': [Specificity_Lasso_Oversample, Specificity_TreeMIN_Oversample, Specificity_TreeMAX_Oversample, Specificity_RF_Oversample],\n",
    "                          'Precision': [Precision_Lasso_Oversample, Precision_TreeMIN_Oversample, Precision_TreeMAX_Oversample, Precision_RF_Oversample],\n",
    "                          'Accuracy': [Accuracy_Lasso_Oversample, Accuracy_TreeMIN_Oversample, Accuracy_TreeMIN_Oversample, Accuracy_RF_Oversample]})\n",
    "result_df2.index = ['Lasso w/ oversampling', 'DT Min Samples w/ oversampling', 'DT Max Depth w/ oversampling', 'RandomForest w/ oversampling']\n",
    "result_df2.style.background_gradient()"
   ]
  },
  {
   "cell_type": "code",
   "execution_count": null,
   "metadata": {},
   "outputs": [],
   "source": []
  }
 ],
 "metadata": {
  "kernelspec": {
   "display_name": "Python 3",
   "language": "python",
   "name": "python3"
  },
  "language_info": {
   "codemirror_mode": {
    "name": "ipython",
    "version": 3
   },
   "file_extension": ".py",
   "mimetype": "text/x-python",
   "name": "python",
   "nbconvert_exporter": "python",
   "pygments_lexer": "ipython3",
   "version": "3.7.9"
  }
 },
 "nbformat": 4,
 "nbformat_minor": 4
}
